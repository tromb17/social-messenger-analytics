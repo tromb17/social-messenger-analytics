{
 "cells": [
  {
   "cell_type": "markdown",
   "id": "ca215764-ae77-452f-bfbb-4ed3accd69e6",
   "metadata": {
    "tags": []
   },
   "source": [
    "# Прогнозирование метрик"
   ]
  },
  {
   "cell_type": "markdown",
   "id": "56bf4099-245f-44f6-87d0-c914c9e570ae",
   "metadata": {
    "tags": []
   },
   "source": [
    "### Чем активнее наши пользователи – тем выше нагрузка на сервера. И в последнее время нам всё чаще приходят жалобы, что приложение подвисает. Звучит как задача для девопсов и инженеров!От вас тоже попросили внести свой вклад в задачу – спрогнозировать, как изменится активность пользователей в течение ближайшего месяца. Давайте попробуем это сделать!\n",
    "\n",
    "- Выберите основную метрику, которую вы планируете прогнозировать. Обоснуйте, почему именно она. Какое временное разрешение вы возьмёте? Будут ли какие-то дополнительные регрессоры, которые вы включите в модель?\n",
    "- Постройте модель и провалидируйте её. Хватает ли у нас данных для бэктестинга с текущей задачей? Если нет, то определите, для какого горизонта прогнозирования у нас хватает данных.\n",
    "- Выберите ту модель, которая кажется вам наиболее удачной (обоснуйте выбор). Проинтерпретируйте её результаты. Если есть какие-то важные ограничения по выводу – не забудьте их тоже указать."
   ]
  },
  {
   "cell_type": "code",
   "execution_count": 37,
   "id": "505e88b5-f8b8-41ff-8630-37e76bce102c",
   "metadata": {},
   "outputs": [],
   "source": [
    "import pandahouse\n",
    "import pandas as pd\n",
    "import seaborn as sns\n",
    "import matplotlib.pyplot as plt\n",
    "import numpy as np\n",
    "import hashlib\n",
    "from causalimpact import CausalImpact\n",
    "import arviz as az\n",
    "\n",
    "from orbit.diagnostics.plot import plot_predicted_data, plot_predicted_components\n",
    "from orbit.diagnostics.backtest import BackTester\n",
    "from orbit.diagnostics.metrics import mae, mse, smape, wmape\n",
    "\n",
    "from scipy import stats\n",
    "%matplotlib inline\n",
    "\n",
    "import orbit #общий пакет\n",
    "from orbit.models import DLT #один из вариантов модели\n",
    "from orbit.diagnostics.plot import plot_predicted_data, plot_predicted_components #для рисования прогноза"
   ]
  },
  {
   "cell_type": "code",
   "execution_count": 15,
   "id": "0e5a8d67-33fd-497b-8242-929ee0b555c7",
   "metadata": {},
   "outputs": [],
   "source": [
    "# Подключение к базе\n",
    "connection = {\n",
    "    'host': 'https://clickhouse.lab.karpov.courses',\n",
    "    'password': 'dpo_python_2020',\n",
    "    'user': 'student',\n",
    "    'database': 'simulator_20250620'\n",
    "}"
   ]
  },
  {
   "cell_type": "code",
   "execution_count": 3,
   "id": "8227ff98-fa2e-46a0-88b3-e41698cec531",
   "metadata": {},
   "outputs": [
    {
     "data": {
      "text/html": [
       "<div>\n",
       "<style scoped>\n",
       "    .dataframe tbody tr th:only-of-type {\n",
       "        vertical-align: middle;\n",
       "    }\n",
       "\n",
       "    .dataframe tbody tr th {\n",
       "        vertical-align: top;\n",
       "    }\n",
       "\n",
       "    .dataframe thead th {\n",
       "        text-align: right;\n",
       "    }\n",
       "</style>\n",
       "<table border=\"1\" class=\"dataframe\">\n",
       "  <thead>\n",
       "    <tr style=\"text-align: right;\">\n",
       "      <th></th>\n",
       "      <th>date</th>\n",
       "      <th>DAU</th>\n",
       "      <th>likes</th>\n",
       "      <th>views</th>\n",
       "      <th>ctr</th>\n",
       "    </tr>\n",
       "  </thead>\n",
       "  <tbody>\n",
       "    <tr>\n",
       "      <th>0</th>\n",
       "      <td>2025-03-01</td>\n",
       "      <td>878</td>\n",
       "      <td>1560</td>\n",
       "      <td>7603</td>\n",
       "      <td>0.205182</td>\n",
       "    </tr>\n",
       "    <tr>\n",
       "      <th>1</th>\n",
       "      <td>2025-03-02</td>\n",
       "      <td>2238</td>\n",
       "      <td>12816</td>\n",
       "      <td>62770</td>\n",
       "      <td>0.204174</td>\n",
       "    </tr>\n",
       "    <tr>\n",
       "      <th>2</th>\n",
       "      <td>2025-03-03</td>\n",
       "      <td>3105</td>\n",
       "      <td>20958</td>\n",
       "      <td>105526</td>\n",
       "      <td>0.198605</td>\n",
       "    </tr>\n",
       "    <tr>\n",
       "      <th>3</th>\n",
       "      <td>2025-03-04</td>\n",
       "      <td>3721</td>\n",
       "      <td>23800</td>\n",
       "      <td>118996</td>\n",
       "      <td>0.200007</td>\n",
       "    </tr>\n",
       "    <tr>\n",
       "      <th>4</th>\n",
       "      <td>2025-03-05</td>\n",
       "      <td>4617</td>\n",
       "      <td>34504</td>\n",
       "      <td>174454</td>\n",
       "      <td>0.197783</td>\n",
       "    </tr>\n",
       "    <tr>\n",
       "      <th>...</th>\n",
       "      <td>...</td>\n",
       "      <td>...</td>\n",
       "      <td>...</td>\n",
       "      <td>...</td>\n",
       "      <td>...</td>\n",
       "    </tr>\n",
       "    <tr>\n",
       "      <th>131</th>\n",
       "      <td>2025-07-10</td>\n",
       "      <td>18673</td>\n",
       "      <td>169223</td>\n",
       "      <td>785880</td>\n",
       "      <td>0.215329</td>\n",
       "    </tr>\n",
       "    <tr>\n",
       "      <th>132</th>\n",
       "      <td>2025-07-11</td>\n",
       "      <td>18594</td>\n",
       "      <td>156103</td>\n",
       "      <td>722608</td>\n",
       "      <td>0.216027</td>\n",
       "    </tr>\n",
       "    <tr>\n",
       "      <th>133</th>\n",
       "      <td>2025-07-12</td>\n",
       "      <td>18300</td>\n",
       "      <td>152089</td>\n",
       "      <td>704717</td>\n",
       "      <td>0.215816</td>\n",
       "    </tr>\n",
       "    <tr>\n",
       "      <th>134</th>\n",
       "      <td>2025-07-13</td>\n",
       "      <td>18729</td>\n",
       "      <td>159808</td>\n",
       "      <td>749646</td>\n",
       "      <td>0.213178</td>\n",
       "    </tr>\n",
       "    <tr>\n",
       "      <th>135</th>\n",
       "      <td>2025-07-14</td>\n",
       "      <td>19017</td>\n",
       "      <td>131578</td>\n",
       "      <td>633584</td>\n",
       "      <td>0.207673</td>\n",
       "    </tr>\n",
       "  </tbody>\n",
       "</table>\n",
       "<p>136 rows × 5 columns</p>\n",
       "</div>"
      ],
      "text/plain": [
       "          date    DAU   likes   views       ctr\n",
       "0   2025-03-01    878    1560    7603  0.205182\n",
       "1   2025-03-02   2238   12816   62770  0.204174\n",
       "2   2025-03-03   3105   20958  105526  0.198605\n",
       "3   2025-03-04   3721   23800  118996  0.200007\n",
       "4   2025-03-05   4617   34504  174454  0.197783\n",
       "..         ...    ...     ...     ...       ...\n",
       "131 2025-07-10  18673  169223  785880  0.215329\n",
       "132 2025-07-11  18594  156103  722608  0.216027\n",
       "133 2025-07-12  18300  152089  704717  0.215816\n",
       "134 2025-07-13  18729  159808  749646  0.213178\n",
       "135 2025-07-14  19017  131578  633584  0.207673\n",
       "\n",
       "[136 rows x 5 columns]"
      ]
     },
     "execution_count": 3,
     "metadata": {},
     "output_type": "execute_result"
    }
   ],
   "source": [
    "q = \"\"\"\n",
    "SELECT \n",
    "    toStartOfDay(toDateTime(time)) AS date,\n",
    "    uniqExact(user_id) AS DAU,\n",
    "    sum(action = 'like') as likes,\n",
    "    sum(action = 'view') as views,\n",
    "    likes/views as ctr\n",
    "FROM simulator_20250420.feed_actions\n",
    "WHERE toDate(time) < '2025-07-15'\n",
    "GROUP BY date\n",
    "ORDER BY date\n",
    "\"\"\"\n",
    "\n",
    "df = pandahouse.read_clickhouse(q, connection=connection)\n",
    "#df.set_index('date', inplace=True, drop=False)\n",
    "df"
   ]
  },
  {
   "cell_type": "code",
   "execution_count": 4,
   "id": "03cfb379-8e2a-4aa0-9da2-32d1b49f69b1",
   "metadata": {},
   "outputs": [
    {
     "name": "stdout",
     "output_type": "stream",
     "text": [
      "<class 'pandas.core.frame.DataFrame'>\n",
      "RangeIndex: 136 entries, 0 to 135\n",
      "Data columns (total 5 columns):\n",
      " #   Column  Non-Null Count  Dtype         \n",
      "---  ------  --------------  -----         \n",
      " 0   date    136 non-null    datetime64[ns]\n",
      " 1   DAU     136 non-null    uint64        \n",
      " 2   likes   136 non-null    uint64        \n",
      " 3   views   136 non-null    uint64        \n",
      " 4   ctr     136 non-null    float64       \n",
      "dtypes: datetime64[ns](1), float64(1), uint64(3)\n",
      "memory usage: 5.4 KB\n"
     ]
    }
   ],
   "source": [
    "df.info()"
   ]
  },
  {
   "cell_type": "code",
   "execution_count": 5,
   "id": "622dbbe5-c720-4b80-9814-fd032360c988",
   "metadata": {},
   "outputs": [
    {
     "data": {
      "text/html": [
       "<div>\n",
       "<style scoped>\n",
       "    .dataframe tbody tr th:only-of-type {\n",
       "        vertical-align: middle;\n",
       "    }\n",
       "\n",
       "    .dataframe tbody tr th {\n",
       "        vertical-align: top;\n",
       "    }\n",
       "\n",
       "    .dataframe thead th {\n",
       "        text-align: right;\n",
       "    }\n",
       "</style>\n",
       "<table border=\"1\" class=\"dataframe\">\n",
       "  <thead>\n",
       "    <tr style=\"text-align: right;\">\n",
       "      <th></th>\n",
       "      <th>date</th>\n",
       "      <th>DAU</th>\n",
       "      <th>likes</th>\n",
       "      <th>views</th>\n",
       "      <th>ctr</th>\n",
       "    </tr>\n",
       "  </thead>\n",
       "  <tbody>\n",
       "    <tr>\n",
       "      <th>date</th>\n",
       "      <td>1.000000</td>\n",
       "      <td>0.795322</td>\n",
       "      <td>0.514725</td>\n",
       "      <td>0.517538</td>\n",
       "      <td>0.297482</td>\n",
       "    </tr>\n",
       "    <tr>\n",
       "      <th>DAU</th>\n",
       "      <td>0.795322</td>\n",
       "      <td>1.000000</td>\n",
       "      <td>0.738038</td>\n",
       "      <td>0.743775</td>\n",
       "      <td>0.416980</td>\n",
       "    </tr>\n",
       "    <tr>\n",
       "      <th>likes</th>\n",
       "      <td>0.514725</td>\n",
       "      <td>0.738038</td>\n",
       "      <td>1.000000</td>\n",
       "      <td>0.997694</td>\n",
       "      <td>0.502443</td>\n",
       "    </tr>\n",
       "    <tr>\n",
       "      <th>views</th>\n",
       "      <td>0.517538</td>\n",
       "      <td>0.743775</td>\n",
       "      <td>0.997694</td>\n",
       "      <td>1.000000</td>\n",
       "      <td>0.447635</td>\n",
       "    </tr>\n",
       "    <tr>\n",
       "      <th>ctr</th>\n",
       "      <td>0.297482</td>\n",
       "      <td>0.416980</td>\n",
       "      <td>0.502443</td>\n",
       "      <td>0.447635</td>\n",
       "      <td>1.000000</td>\n",
       "    </tr>\n",
       "  </tbody>\n",
       "</table>\n",
       "</div>"
      ],
      "text/plain": [
       "           date       DAU     likes     views       ctr\n",
       "date   1.000000  0.795322  0.514725  0.517538  0.297482\n",
       "DAU    0.795322  1.000000  0.738038  0.743775  0.416980\n",
       "likes  0.514725  0.738038  1.000000  0.997694  0.502443\n",
       "views  0.517538  0.743775  0.997694  1.000000  0.447635\n",
       "ctr    0.297482  0.416980  0.502443  0.447635  1.000000"
      ]
     },
     "execution_count": 5,
     "metadata": {},
     "output_type": "execute_result"
    }
   ],
   "source": [
    "df.corr()"
   ]
  },
  {
   "cell_type": "code",
   "execution_count": 30,
   "id": "93153275-70b8-4988-86a6-41673cf47162",
   "metadata": {},
   "outputs": [
    {
     "data": {
      "text/plain": [
       "<Axes: xlabel='date', ylabel='views'>"
      ]
     },
     "execution_count": 30,
     "metadata": {},
     "output_type": "execute_result"
    },
    {
     "data": {
      "image/png": "[encoded data removed]",
      "text/plain": [
       "<Figure size 432x288 with 1 Axes>"
      ]
     },
     "metadata": {
      "needs_background": "light"
     },
     "output_type": "display_data"
    }
   ],
   "source": [
    "sns.lineplot(data=df, x=\"date\", y=\"views\")"
   ]
  },
  {
   "cell_type": "code",
   "execution_count": 31,
   "id": "fdf0a7b4-66dd-407d-b7ae-05d67b34650b",
   "metadata": {},
   "outputs": [
    {
     "data": {
      "text/plain": [
       "<Axes: xlabel='date', ylabel='DAU'>"
      ]
     },
     "execution_count": 31,
     "metadata": {},
     "output_type": "execute_result"
    },
    {
     "data": {
      "image/png": "[encoded data removed]",
      "text/plain": [
       "<Figure size 432x288 with 1 Axes>"
      ]
     },
     "metadata": {
      "needs_background": "light"
     },
     "output_type": "display_data"
    }
   ],
   "source": [
    "sns.lineplot(data=df, x=\"date\", y=\"DAU\")"
   ]
  },
  {
   "cell_type": "markdown",
   "id": "57443c8b-aa66-45dd-91ae-0740131a9612",
   "metadata": {},
   "source": [
    "### Построение моделей"
   ]
  },
  {
   "cell_type": "markdown",
   "id": "77169de8-74a0-4aad-adf5-9756cff80359",
   "metadata": {},
   "source": [
    "#### Какие модели будут:\n",
    "1. Обычная модель с линейным трендом\n",
    "2. Обычная модель с логлинейным трендом"
   ]
  },
  {
   "cell_type": "code",
   "execution_count": 6,
   "id": "75c6c130-c800-4112-b34f-ab95ff620429",
   "metadata": {},
   "outputs": [],
   "source": [
    "simple_lin = DLT(response_col=\"views\", \n",
    "                 date_col=\"date\", \n",
    "                 estimator=\"stan-mcmc\", \n",
    "                 global_trend_option=\"linear\",\n",
    "                 num_warmup=10000,\n",
    "                 num_sample=10000)\n",
    "\n",
    "simple_loglin = DLT(response_col=\"views\", \n",
    "                 date_col=\"date\", \n",
    "                 estimator=\"stan-mcmc\", \n",
    "                 global_trend_option=\"loglinear\",\n",
    "                 num_warmup=10000,\n",
    "                 num_sample=10000)"
   ]
  },
  {
   "cell_type": "code",
   "execution_count": 7,
   "id": "e8dfb92c-5e17-440d-9bc8-1373fe4573f2",
   "metadata": {},
   "outputs": [],
   "source": [
    "model_list = [simple_lin, simple_loglin]"
   ]
  },
  {
   "cell_type": "code",
   "execution_count": 8,
   "id": "12ebaabe-ebe2-4bb9-a672-4a901b5a4ecf",
   "metadata": {},
   "outputs": [
    {
     "name": "stderr",
     "output_type": "stream",
     "text": [
      "2025-07-15 11:43:28 - orbit - INFO - Sampling (PyStan) with chains: 4, cores: 8, temperature: 1.000, warmups (per chain): 2500 and samples(per chain): 2500.\n",
      "2025-07-15 11:43:28 - orbit - INFO - First time in running stan model:dlt. Expect 3 - 5 minutes for compilation.\n"
     ]
    },
    {
     "data": {
      "application/json": {
       "ascii": false,
       "bar_format": "{desc} |{bar}| {elapsed} {postfix[0][value]}",
       "colour": null,
       "elapsed": 0.03202700614929199,
       "initial": 0,
       "n": 0,
       "ncols": null,
       "nrows": null,
       "postfix": [
        {
         "value": "Status"
        }
       ],
       "prefix": "chain 1",
       "rate": null,
       "total": 52,
       "unit": "it",
       "unit_divisor": 1000,
       "unit_scale": false
      },
      "application/vnd.jupyter.widget-view+json": {
       "model_id": "3f6bc808fbc441c3a2d1e6f96626d2be",
       "version_major": 2,
       "version_minor": 0
      },
      "text/plain": [
       "chain 1 |          | 00:00 Status"
      ]
     },
     "metadata": {},
     "output_type": "display_data"
    },
    {
     "data": {
      "application/json": {
       "ascii": false,
       "bar_format": "{desc} |{bar}| {elapsed} {postfix[0][value]}",
       "colour": null,
       "elapsed": 0.019611835479736328,
       "initial": 0,
       "n": 0,
       "ncols": null,
       "nrows": null,
       "postfix": [
        {
         "value": "Status"
        }
       ],
       "prefix": "chain 2",
       "rate": null,
       "total": 52,
       "unit": "it",
       "unit_divisor": 1000,
       "unit_scale": false
      },
      "application/vnd.jupyter.widget-view+json": {
       "model_id": "708e84ded8bd4f5d999a55a60f0b6ad8",
       "version_major": 2,
       "version_minor": 0
      },
      "text/plain": [
       "chain 2 |          | 00:00 Status"
      ]
     },
     "metadata": {},
     "output_type": "display_data"
    },
    {
     "data": {
      "application/json": {
       "ascii": false,
       "bar_format": "{desc} |{bar}| {elapsed} {postfix[0][value]}",
       "colour": null,
       "elapsed": 0.021550416946411133,
       "initial": 0,
       "n": 0,
       "ncols": null,
       "nrows": null,
       "postfix": [
        {
         "value": "Status"
        }
       ],
       "prefix": "chain 3",
       "rate": null,
       "total": 52,
       "unit": "it",
       "unit_divisor": 1000,
       "unit_scale": false
      },
      "application/vnd.jupyter.widget-view+json": {
       "model_id": "16f4c479c29f4c22ad5ce84f9f78e3ea",
       "version_major": 2,
       "version_minor": 0
      },
      "text/plain": [
       "chain 3 |          | 00:00 Status"
      ]
     },
     "metadata": {},
     "output_type": "display_data"
    },
    {
     "data": {
      "application/json": {
       "ascii": false,
       "bar_format": "{desc} |{bar}| {elapsed} {postfix[0][value]}",
       "colour": null,
       "elapsed": 0.01757073402404785,
       "initial": 0,
       "n": 0,
       "ncols": null,
       "nrows": null,
       "postfix": [
        {
         "value": "Status"
        }
       ],
       "prefix": "chain 4",
       "rate": null,
       "total": 52,
       "unit": "it",
       "unit_divisor": 1000,
       "unit_scale": false
      },
      "application/vnd.jupyter.widget-view+json": {
       "model_id": "b74124784fd94bb393cbb491d3edc89b",
       "version_major": 2,
       "version_minor": 0
      },
      "text/plain": [
       "chain 4 |          | 00:00 Status"
      ]
     },
     "metadata": {},
     "output_type": "display_data"
    },
    {
     "name": "stdout",
     "output_type": "stream",
     "text": [
      "                                                                                                                                                                                                                                                                                                                                \n"
     ]
    },
    {
     "name": "stderr",
     "output_type": "stream",
     "text": [
      "2025-07-15 11:44:31 - orbit - INFO - Sampling (PyStan) with chains: 4, cores: 8, temperature: 1.000, warmups (per chain): 2500 and samples(per chain): 2500.\n"
     ]
    },
    {
     "data": {
      "application/json": {
       "ascii": false,
       "bar_format": "{desc} |{bar}| {elapsed} {postfix[0][value]}",
       "colour": null,
       "elapsed": 0.022516250610351562,
       "initial": 0,
       "n": 0,
       "ncols": null,
       "nrows": null,
       "postfix": [
        {
         "value": "Status"
        }
       ],
       "prefix": "chain 1",
       "rate": null,
       "total": 52,
       "unit": "it",
       "unit_divisor": 1000,
       "unit_scale": false
      },
      "application/vnd.jupyter.widget-view+json": {
       "model_id": "cb86fb3dfcad4bdd8c418af84864a374",
       "version_major": 2,
       "version_minor": 0
      },
      "text/plain": [
       "chain 1 |          | 00:00 Status"
      ]
     },
     "metadata": {},
     "output_type": "display_data"
    },
    {
     "data": {
      "application/json": {
       "ascii": false,
       "bar_format": "{desc} |{bar}| {elapsed} {postfix[0][value]}",
       "colour": null,
       "elapsed": 0.019780635833740234,
       "initial": 0,
       "n": 0,
       "ncols": null,
       "nrows": null,
       "postfix": [
        {
         "value": "Status"
        }
       ],
       "prefix": "chain 2",
       "rate": null,
       "total": 52,
       "unit": "it",
       "unit_divisor": 1000,
       "unit_scale": false
      },
      "application/vnd.jupyter.widget-view+json": {
       "model_id": "58224ae45056432bb2ba6dc69bd6bece",
       "version_major": 2,
       "version_minor": 0
      },
      "text/plain": [
       "chain 2 |          | 00:00 Status"
      ]
     },
     "metadata": {},
     "output_type": "display_data"
    },
    {
     "data": {
      "application/json": {
       "ascii": false,
       "bar_format": "{desc} |{bar}| {elapsed} {postfix[0][value]}",
       "colour": null,
       "elapsed": 0.018882036209106445,
       "initial": 0,
       "n": 0,
       "ncols": null,
       "nrows": null,
       "postfix": [
        {
         "value": "Status"
        }
       ],
       "prefix": "chain 3",
       "rate": null,
       "total": 52,
       "unit": "it",
       "unit_divisor": 1000,
       "unit_scale": false
      },
      "application/vnd.jupyter.widget-view+json": {
       "model_id": "903bd550561f4fe18699d4702f6715da",
       "version_major": 2,
       "version_minor": 0
      },
      "text/plain": [
       "chain 3 |          | 00:00 Status"
      ]
     },
     "metadata": {},
     "output_type": "display_data"
    },
    {
     "data": {
      "application/json": {
       "ascii": false,
       "bar_format": "{desc} |{bar}| {elapsed} {postfix[0][value]}",
       "colour": null,
       "elapsed": 0.017613887786865234,
       "initial": 0,
       "n": 0,
       "ncols": null,
       "nrows": null,
       "postfix": [
        {
         "value": "Status"
        }
       ],
       "prefix": "chain 4",
       "rate": null,
       "total": 52,
       "unit": "it",
       "unit_divisor": 1000,
       "unit_scale": false
      },
      "application/vnd.jupyter.widget-view+json": {
       "model_id": "79058abcabda4590bad4215bd2e3cddb",
       "version_major": 2,
       "version_minor": 0
      },
      "text/plain": [
       "chain 4 |          | 00:00 Status"
      ]
     },
     "metadata": {},
     "output_type": "display_data"
    },
    {
     "name": "stdout",
     "output_type": "stream",
     "text": [
      "                                                                                                                                                                                                                                                                                                                                \n"
     ]
    }
   ],
   "source": [
    "#обучаем\n",
    "\n",
    "for model in model_list:\n",
    "    \n",
    "    model.fit(df)"
   ]
  },
  {
   "cell_type": "markdown",
   "id": "58c10974-1100-42c3-830f-ccaaff5afa07",
   "metadata": {},
   "source": [
    "#### Для оценки будущих предсказаний, нужно сделать futur_df"
   ]
  },
  {
   "cell_type": "code",
   "execution_count": 9,
   "id": "80418f37-79fa-411e-91a3-81a445518a03",
   "metadata": {},
   "outputs": [],
   "source": [
    "futur = model_list[0].make_future_df(periods=30)"
   ]
  },
  {
   "cell_type": "code",
   "execution_count": 10,
   "id": "3eb0d705-ee12-44d6-98f3-97139ca09b05",
   "metadata": {},
   "outputs": [],
   "source": [
    "pred_1 = model_list[0].predict(futur)\n",
    "pred_2 = model_list[1].predict(futur)"
   ]
  },
  {
   "cell_type": "code",
   "execution_count": 11,
   "id": "02a08c03-fa2b-4945-9889-d0deeb840110",
   "metadata": {},
   "outputs": [
    {
     "name": "stderr",
     "output_type": "stream",
     "text": [
      "findfont: Generic family 'sans-serif' not found because none of the following families were found: Arial\n",
      "findfont: Generic family 'sans-serif' not found because none of the following families were found: Arial\n",
      "findfont: Generic family 'sans-serif' not found because none of the following families were found: Arial\n",
      "findfont: Generic family 'sans-serif' not found because none of the following families were found: Arial\n",
      "findfont: Generic family 'sans-serif' not found because none of the following families were found: Arial\n",
      "findfont: Generic family 'sans-serif' not found because none of the following families were found: Arial\n",
      "findfont: Generic family 'sans-serif' not found because none of the following families were found: Arial\n",
      "findfont: Generic family 'sans-serif' not found because none of the following families were found: Arial\n",
      "findfont: Generic family 'sans-serif' not found because none of the following families were found: Arial\n",
      "findfont: Generic family 'sans-serif' not found because none of the following families were found: Arial\n",
      "findfont: Generic family 'sans-serif' not found because none of the following families were found: Arial\n",
      "findfont: Generic family 'sans-serif' not found because none of the following families were found: Arial\n",
      "findfont: Generic family 'sans-serif' not found because none of the following families were found: Arial\n",
      "findfont: Generic family 'sans-serif' not found because none of the following families were found: Arial\n",
      "findfont: Generic family 'sans-serif' not found because none of the following families were found: Arial\n",
      "findfont: Generic family 'sans-serif' not found because none of the following families were found: Arial\n",
      "findfont: Generic family 'sans-serif' not found because none of the following families were found: Arial\n",
      "findfont: Generic family 'sans-serif' not found because none of the following families were found: Arial\n",
      "findfont: Generic family 'sans-serif' not found because none of the following families were found: Arial\n",
      "findfont: Generic family 'sans-serif' not found because none of the following families were found: Arial\n",
      "findfont: Generic family 'sans-serif' not found because none of the following families were found: Arial\n",
      "findfont: Generic family 'sans-serif' not found because none of the following families were found: Arial\n",
      "findfont: Generic family 'sans-serif' not found because none of the following families were found: Arial\n",
      "findfont: Generic family 'sans-serif' not found because none of the following families were found: Arial\n",
      "findfont: Generic family 'sans-serif' not found because none of the following families were found: Arial\n",
      "findfont: Generic family 'sans-serif' not found because none of the following families were found: Arial\n",
      "findfont: Generic family 'sans-serif' not found because none of the following families were found: Arial\n",
      "findfont: Generic family 'sans-serif' not found because none of the following families were found: Arial\n",
      "findfont: Generic family 'sans-serif' not found because none of the following families were found: Arial\n",
      "findfont: Generic family 'sans-serif' not found because none of the following families were found: Arial\n",
      "findfont: Generic family 'sans-serif' not found because none of the following families were found: Arial\n",
      "findfont: Generic family 'sans-serif' not found because none of the following families were found: Arial\n",
      "findfont: Generic family 'sans-serif' not found because none of the following families were found: Arial\n",
      "findfont: Generic family 'sans-serif' not found because none of the following families were found: Arial\n",
      "findfont: Generic family 'sans-serif' not found because none of the following families were found: Arial\n",
      "findfont: Generic family 'sans-serif' not found because none of the following families were found: Arial\n",
      "findfont: Generic family 'sans-serif' not found because none of the following families were found: Arial\n",
      "findfont: Generic family 'sans-serif' not found because none of the following families were found: Arial\n",
      "findfont: Generic family 'sans-serif' not found because none of the following families were found: Arial\n",
      "findfont: Generic family 'sans-serif' not found because none of the following families were found: Arial\n",
      "findfont: Generic family 'sans-serif' not found because none of the following families were found: Arial\n",
      "findfont: Generic family 'sans-serif' not found because none of the following families were found: Arial\n",
      "findfont: Generic family 'sans-serif' not found because none of the following families were found: Arial\n",
      "findfont: Generic family 'sans-serif' not found because none of the following families were found: Arial\n",
      "findfont: Generic family 'sans-serif' not found because none of the following families were found: Arial\n",
      "findfont: Generic family 'sans-serif' not found because none of the following families were found: Arial\n",
      "findfont: Generic family 'sans-serif' not found because none of the following families were found: Arial\n",
      "findfont: Generic family 'sans-serif' not found because none of the following families were found: Arial\n",
      "findfont: Generic family 'sans-serif' not found because none of the following families were found: Arial\n",
      "findfont: Generic family 'sans-serif' not found because none of the following families were found: Arial\n",
      "findfont: Generic family 'sans-serif' not found because none of the following families were found: Arial\n",
      "findfont: Generic family 'sans-serif' not found because none of the following families were found: Arial\n",
      "findfont: Generic family 'sans-serif' not found because none of the following families were found: Arial\n",
      "findfont: Generic family 'sans-serif' not found because none of the following families were found: Arial\n",
      "findfont: Generic family 'sans-serif' not found because none of the following families were found: Arial\n",
      "findfont: Generic family 'sans-serif' not found because none of the following families were found: Arial\n",
      "findfont: Generic family 'sans-serif' not found because none of the following families were found: Arial\n",
      "findfont: Generic family 'sans-serif' not found because none of the following families were found: Arial\n",
      "findfont: Generic family 'sans-serif' not found because none of the following families were found: Arial\n",
      "findfont: Generic family 'sans-serif' not found because none of the following families were found: Arial\n",
      "findfont: Generic family 'sans-serif' not found because none of the following families were found: Arial\n",
      "findfont: Generic family 'sans-serif' not found because none of the following families were found: Arial\n",
      "findfont: Generic family 'sans-serif' not found because none of the following families were found: Arial\n",
      "findfont: Generic family 'sans-serif' not found because none of the following families were found: Arial\n",
      "findfont: Generic family 'sans-serif' not found because none of the following families were found: Arial\n",
      "findfont: Generic family 'sans-serif' not found because none of the following families were found: Arial\n",
      "findfont: Generic family 'sans-serif' not found because none of the following families were found: Arial\n",
      "findfont: Generic family 'sans-serif' not found because none of the following families were found: Arial\n",
      "findfont: Generic family 'sans-serif' not found because none of the following families were found: Arial\n",
      "findfont: Generic family 'sans-serif' not found because none of the following families were found: Arial\n",
      "findfont: Generic family 'sans-serif' not found because none of the following families were found: Arial\n",
      "findfont: Generic family 'sans-serif' not found because none of the following families were found: Arial\n",
      "findfont: Generic family 'sans-serif' not found because none of the following families were found: Arial\n",
      "findfont: Generic family 'sans-serif' not found because none of the following families were found: Arial\n",
      "findfont: Generic family 'sans-serif' not found because none of the following families were found: Arial\n",
      "findfont: Generic family 'sans-serif' not found because none of the following families were found: Arial\n",
      "findfont: Generic family 'sans-serif' not found because none of the following families were found: Arial\n",
      "findfont: Generic family 'sans-serif' not found because none of the following families were found: Arial\n",
      "findfont: Generic family 'sans-serif' not found because none of the following families were found: Arial\n",
      "findfont: Generic family 'sans-serif' not found because none of the following families were found: Arial\n",
      "findfont: Generic family 'sans-serif' not found because none of the following families were found: Arial\n",
      "findfont: Generic family 'sans-serif' not found because none of the following families were found: Arial\n",
      "findfont: Generic family 'sans-serif' not found because none of the following families were found: Arial\n"
     ]
    },
    {
     "data": {
      "image/png": "[encoded data removed]",
      "text/plain": [
       "<Figure size 1600x800 with 1 Axes>"
      ]
     },
     "metadata": {},
     "output_type": "display_data"
    }
   ],
   "source": [
    "_ = plot_predicted_data(df, pred_1, \"date\", 'views', title='Простая модель (линейный тренд)')"
   ]
  },
  {
   "cell_type": "code",
   "execution_count": 12,
   "id": "0a8dea82-df5a-4b82-af3f-5657fcd1d8ca",
   "metadata": {},
   "outputs": [
    {
     "name": "stderr",
     "output_type": "stream",
     "text": [
      "findfont: Generic family 'sans-serif' not found because none of the following families were found: Arial\n",
      "findfont: Generic family 'sans-serif' not found because none of the following families were found: Arial\n",
      "findfont: Generic family 'sans-serif' not found because none of the following families were found: Arial\n",
      "findfont: Generic family 'sans-serif' not found because none of the following families were found: Arial\n",
      "findfont: Generic family 'sans-serif' not found because none of the following families were found: Arial\n",
      "findfont: Generic family 'sans-serif' not found because none of the following families were found: Arial\n",
      "findfont: Generic family 'sans-serif' not found because none of the following families were found: Arial\n",
      "findfont: Generic family 'sans-serif' not found because none of the following families were found: Arial\n",
      "findfont: Generic family 'sans-serif' not found because none of the following families were found: Arial\n",
      "findfont: Generic family 'sans-serif' not found because none of the following families were found: Arial\n",
      "findfont: Generic family 'sans-serif' not found because none of the following families were found: Arial\n",
      "findfont: Generic family 'sans-serif' not found because none of the following families were found: Arial\n",
      "findfont: Generic family 'sans-serif' not found because none of the following families were found: Arial\n",
      "findfont: Generic family 'sans-serif' not found because none of the following families were found: Arial\n",
      "findfont: Generic family 'sans-serif' not found because none of the following families were found: Arial\n",
      "findfont: Generic family 'sans-serif' not found because none of the following families were found: Arial\n",
      "findfont: Generic family 'sans-serif' not found because none of the following families were found: Arial\n",
      "findfont: Generic family 'sans-serif' not found because none of the following families were found: Arial\n",
      "findfont: Generic family 'sans-serif' not found because none of the following families were found: Arial\n",
      "findfont: Generic family 'sans-serif' not found because none of the following families were found: Arial\n",
      "findfont: Generic family 'sans-serif' not found because none of the following families were found: Arial\n",
      "findfont: Generic family 'sans-serif' not found because none of the following families were found: Arial\n",
      "findfont: Generic family 'sans-serif' not found because none of the following families were found: Arial\n",
      "findfont: Generic family 'sans-serif' not found because none of the following families were found: Arial\n",
      "findfont: Generic family 'sans-serif' not found because none of the following families were found: Arial\n",
      "findfont: Generic family 'sans-serif' not found because none of the following families were found: Arial\n",
      "findfont: Generic family 'sans-serif' not found because none of the following families were found: Arial\n",
      "findfont: Generic family 'sans-serif' not found because none of the following families were found: Arial\n",
      "findfont: Generic family 'sans-serif' not found because none of the following families were found: Arial\n",
      "findfont: Generic family 'sans-serif' not found because none of the following families were found: Arial\n",
      "findfont: Generic family 'sans-serif' not found because none of the following families were found: Arial\n",
      "findfont: Generic family 'sans-serif' not found because none of the following families were found: Arial\n",
      "findfont: Generic family 'sans-serif' not found because none of the following families were found: Arial\n",
      "findfont: Generic family 'sans-serif' not found because none of the following families were found: Arial\n",
      "findfont: Generic family 'sans-serif' not found because none of the following families were found: Arial\n",
      "findfont: Generic family 'sans-serif' not found because none of the following families were found: Arial\n",
      "findfont: Generic family 'sans-serif' not found because none of the following families were found: Arial\n",
      "findfont: Generic family 'sans-serif' not found because none of the following families were found: Arial\n",
      "findfont: Generic family 'sans-serif' not found because none of the following families were found: Arial\n",
      "findfont: Generic family 'sans-serif' not found because none of the following families were found: Arial\n",
      "findfont: Generic family 'sans-serif' not found because none of the following families were found: Arial\n",
      "findfont: Generic family 'sans-serif' not found because none of the following families were found: Arial\n",
      "findfont: Generic family 'sans-serif' not found because none of the following families were found: Arial\n",
      "findfont: Generic family 'sans-serif' not found because none of the following families were found: Arial\n",
      "findfont: Generic family 'sans-serif' not found because none of the following families were found: Arial\n",
      "findfont: Generic family 'sans-serif' not found because none of the following families were found: Arial\n",
      "findfont: Generic family 'sans-serif' not found because none of the following families were found: Arial\n",
      "findfont: Generic family 'sans-serif' not found because none of the following families were found: Arial\n",
      "findfont: Generic family 'sans-serif' not found because none of the following families were found: Arial\n",
      "findfont: Generic family 'sans-serif' not found because none of the following families were found: Arial\n",
      "findfont: Generic family 'sans-serif' not found because none of the following families were found: Arial\n",
      "findfont: Generic family 'sans-serif' not found because none of the following families were found: Arial\n",
      "findfont: Generic family 'sans-serif' not found because none of the following families were found: Arial\n",
      "findfont: Generic family 'sans-serif' not found because none of the following families were found: Arial\n",
      "findfont: Generic family 'sans-serif' not found because none of the following families were found: Arial\n",
      "findfont: Generic family 'sans-serif' not found because none of the following families were found: Arial\n",
      "findfont: Generic family 'sans-serif' not found because none of the following families were found: Arial\n",
      "findfont: Generic family 'sans-serif' not found because none of the following families were found: Arial\n",
      "findfont: Generic family 'sans-serif' not found because none of the following families were found: Arial\n",
      "findfont: Generic family 'sans-serif' not found because none of the following families were found: Arial\n",
      "findfont: Generic family 'sans-serif' not found because none of the following families were found: Arial\n",
      "findfont: Generic family 'sans-serif' not found because none of the following families were found: Arial\n",
      "findfont: Generic family 'sans-serif' not found because none of the following families were found: Arial\n",
      "findfont: Generic family 'sans-serif' not found because none of the following families were found: Arial\n",
      "findfont: Generic family 'sans-serif' not found because none of the following families were found: Arial\n",
      "findfont: Generic family 'sans-serif' not found because none of the following families were found: Arial\n",
      "findfont: Generic family 'sans-serif' not found because none of the following families were found: Arial\n",
      "findfont: Generic family 'sans-serif' not found because none of the following families were found: Arial\n",
      "findfont: Generic family 'sans-serif' not found because none of the following families were found: Arial\n",
      "findfont: Generic family 'sans-serif' not found because none of the following families were found: Arial\n",
      "findfont: Generic family 'sans-serif' not found because none of the following families were found: Arial\n",
      "findfont: Generic family 'sans-serif' not found because none of the following families were found: Arial\n",
      "findfont: Generic family 'sans-serif' not found because none of the following families were found: Arial\n",
      "findfont: Generic family 'sans-serif' not found because none of the following families were found: Arial\n",
      "findfont: Generic family 'sans-serif' not found because none of the following families were found: Arial\n",
      "findfont: Generic family 'sans-serif' not found because none of the following families were found: Arial\n",
      "findfont: Generic family 'sans-serif' not found because none of the following families were found: Arial\n",
      "findfont: Generic family 'sans-serif' not found because none of the following families were found: Arial\n",
      "findfont: Generic family 'sans-serif' not found because none of the following families were found: Arial\n",
      "findfont: Generic family 'sans-serif' not found because none of the following families were found: Arial\n",
      "findfont: Generic family 'sans-serif' not found because none of the following families were found: Arial\n",
      "findfont: Generic family 'sans-serif' not found because none of the following families were found: Arial\n",
      "findfont: Generic family 'sans-serif' not found because none of the following families were found: Arial\n"
     ]
    },
    {
     "data": {
      "image/png": "[encoded data removed]",
      "text/plain": [
       "<Figure size 1600x800 with 1 Axes>"
      ]
     },
     "metadata": {},
     "output_type": "display_data"
    }
   ],
   "source": [
    "_ = plot_predicted_data(df, pred_2, \"date\", 'views', title='Простая модель (логлинейный тренд)')"
   ]
  },
  {
   "cell_type": "markdown",
   "id": "65ed553c-4907-4588-8435-b05e1a42296f",
   "metadata": {},
   "source": [
    "### Оцениваем качество"
   ]
  },
  {
   "cell_type": "code",
   "execution_count": 17,
   "id": "4ab5ca6f-a72a-4856-803b-93123fb9b428",
   "metadata": {},
   "outputs": [
    {
     "name": "stderr",
     "output_type": "stream",
     "text": [
      "2025-07-15 11:47:11 - orbit - INFO - Sampling (PyStan) with chains: 4, cores: 8, temperature: 1.000, warmups (per chain): 2500 and samples(per chain): 2500.\n"
     ]
    },
    {
     "data": {
      "application/json": {
       "ascii": false,
       "bar_format": "{desc} |{bar}| {elapsed} {postfix[0][value]}",
       "colour": null,
       "elapsed": 0.02083277702331543,
       "initial": 0,
       "n": 0,
       "ncols": null,
       "nrows": null,
       "postfix": [
        {
         "value": "Status"
        }
       ],
       "prefix": "chain 1",
       "rate": null,
       "total": 52,
       "unit": "it",
       "unit_divisor": 1000,
       "unit_scale": false
      },
      "application/vnd.jupyter.widget-view+json": {
       "model_id": "a6b0cd732f984bf5902b8ae20de6e5f7",
       "version_major": 2,
       "version_minor": 0
      },
      "text/plain": [
       "chain 1 |          | 00:00 Status"
      ]
     },
     "metadata": {},
     "output_type": "display_data"
    },
    {
     "data": {
      "application/json": {
       "ascii": false,
       "bar_format": "{desc} |{bar}| {elapsed} {postfix[0][value]}",
       "colour": null,
       "elapsed": 0.01884627342224121,
       "initial": 0,
       "n": 0,
       "ncols": null,
       "nrows": null,
       "postfix": [
        {
         "value": "Status"
        }
       ],
       "prefix": "chain 2",
       "rate": null,
       "total": 52,
       "unit": "it",
       "unit_divisor": 1000,
       "unit_scale": false
      },
      "application/vnd.jupyter.widget-view+json": {
       "model_id": "fc6b3bca07e04ce3ad369887150af2ea",
       "version_major": 2,
       "version_minor": 0
      },
      "text/plain": [
       "chain 2 |          | 00:00 Status"
      ]
     },
     "metadata": {},
     "output_type": "display_data"
    },
    {
     "data": {
      "application/json": {
       "ascii": false,
       "bar_format": "{desc} |{bar}| {elapsed} {postfix[0][value]}",
       "colour": null,
       "elapsed": 0.021443605422973633,
       "initial": 0,
       "n": 0,
       "ncols": null,
       "nrows": null,
       "postfix": [
        {
         "value": "Status"
        }
       ],
       "prefix": "chain 3",
       "rate": null,
       "total": 52,
       "unit": "it",
       "unit_divisor": 1000,
       "unit_scale": false
      },
      "application/vnd.jupyter.widget-view+json": {
       "model_id": "0f9ca424e0c940a193cb21978c735126",
       "version_major": 2,
       "version_minor": 0
      },
      "text/plain": [
       "chain 3 |          | 00:00 Status"
      ]
     },
     "metadata": {},
     "output_type": "display_data"
    },
    {
     "data": {
      "application/json": {
       "ascii": false,
       "bar_format": "{desc} |{bar}| {elapsed} {postfix[0][value]}",
       "colour": null,
       "elapsed": 0.020296812057495117,
       "initial": 0,
       "n": 0,
       "ncols": null,
       "nrows": null,
       "postfix": [
        {
         "value": "Status"
        }
       ],
       "prefix": "chain 4",
       "rate": null,
       "total": 52,
       "unit": "it",
       "unit_divisor": 1000,
       "unit_scale": false
      },
      "application/vnd.jupyter.widget-view+json": {
       "model_id": "1474a2e063944bb6b3ab6cfd89e158d2",
       "version_major": 2,
       "version_minor": 0
      },
      "text/plain": [
       "chain 4 |          | 00:00 Status"
      ]
     },
     "metadata": {},
     "output_type": "display_data"
    },
    {
     "name": "stdout",
     "output_type": "stream",
     "text": [
      "                                                                                                                                                                                                                                                                                                                                \n"
     ]
    },
    {
     "name": "stderr",
     "output_type": "stream",
     "text": [
      "2025-07-15 11:47:14 - orbit - INFO - Sampling (PyStan) with chains: 4, cores: 8, temperature: 1.000, warmups (per chain): 2500 and samples(per chain): 2500.\n"
     ]
    },
    {
     "data": {
      "application/json": {
       "ascii": false,
       "bar_format": "{desc} |{bar}| {elapsed} {postfix[0][value]}",
       "colour": null,
       "elapsed": 0.020956754684448242,
       "initial": 0,
       "n": 0,
       "ncols": null,
       "nrows": null,
       "postfix": [
        {
         "value": "Status"
        }
       ],
       "prefix": "chain 1",
       "rate": null,
       "total": 52,
       "unit": "it",
       "unit_divisor": 1000,
       "unit_scale": false
      },
      "application/vnd.jupyter.widget-view+json": {
       "model_id": "b3f040c0662c486eab891dff4d68da7b",
       "version_major": 2,
       "version_minor": 0
      },
      "text/plain": [
       "chain 1 |          | 00:00 Status"
      ]
     },
     "metadata": {},
     "output_type": "display_data"
    },
    {
     "data": {
      "application/json": {
       "ascii": false,
       "bar_format": "{desc} |{bar}| {elapsed} {postfix[0][value]}",
       "colour": null,
       "elapsed": 0.018140316009521484,
       "initial": 0,
       "n": 0,
       "ncols": null,
       "nrows": null,
       "postfix": [
        {
         "value": "Status"
        }
       ],
       "prefix": "chain 2",
       "rate": null,
       "total": 52,
       "unit": "it",
       "unit_divisor": 1000,
       "unit_scale": false
      },
      "application/vnd.jupyter.widget-view+json": {
       "model_id": "e2d98fc5c3584ce68413da6f99e6817b",
       "version_major": 2,
       "version_minor": 0
      },
      "text/plain": [
       "chain 2 |          | 00:00 Status"
      ]
     },
     "metadata": {},
     "output_type": "display_data"
    },
    {
     "data": {
      "application/json": {
       "ascii": false,
       "bar_format": "{desc} |{bar}| {elapsed} {postfix[0][value]}",
       "colour": null,
       "elapsed": 0.017657041549682617,
       "initial": 0,
       "n": 0,
       "ncols": null,
       "nrows": null,
       "postfix": [
        {
         "value": "Status"
        }
       ],
       "prefix": "chain 3",
       "rate": null,
       "total": 52,
       "unit": "it",
       "unit_divisor": 1000,
       "unit_scale": false
      },
      "application/vnd.jupyter.widget-view+json": {
       "model_id": "45599f3c78344a8ea38da39ffc9676d6",
       "version_major": 2,
       "version_minor": 0
      },
      "text/plain": [
       "chain 3 |          | 00:00 Status"
      ]
     },
     "metadata": {},
     "output_type": "display_data"
    },
    {
     "data": {
      "application/json": {
       "ascii": false,
       "bar_format": "{desc} |{bar}| {elapsed} {postfix[0][value]}",
       "colour": null,
       "elapsed": 0.016515016555786133,
       "initial": 0,
       "n": 0,
       "ncols": null,
       "nrows": null,
       "postfix": [
        {
         "value": "Status"
        }
       ],
       "prefix": "chain 4",
       "rate": null,
       "total": 52,
       "unit": "it",
       "unit_divisor": 1000,
       "unit_scale": false
      },
      "application/vnd.jupyter.widget-view+json": {
       "model_id": "50ab4c7c6b5f485eaf6a90deba34678d",
       "version_major": 2,
       "version_minor": 0
      },
      "text/plain": [
       "chain 4 |          | 00:00 Status"
      ]
     },
     "metadata": {},
     "output_type": "display_data"
    },
    {
     "name": "stdout",
     "output_type": "stream",
     "text": [
      "                                                                                                                                                                                                                                                                                                                                \n"
     ]
    },
    {
     "name": "stderr",
     "output_type": "stream",
     "text": [
      "2025-07-15 11:47:16 - orbit - INFO - Sampling (PyStan) with chains: 4, cores: 8, temperature: 1.000, warmups (per chain): 2500 and samples(per chain): 2500.\n"
     ]
    },
    {
     "data": {
      "application/json": {
       "ascii": false,
       "bar_format": "{desc} |{bar}| {elapsed} {postfix[0][value]}",
       "colour": null,
       "elapsed": 0.023485660552978516,
       "initial": 0,
       "n": 0,
       "ncols": null,
       "nrows": null,
       "postfix": [
        {
         "value": "Status"
        }
       ],
       "prefix": "chain 1",
       "rate": null,
       "total": 52,
       "unit": "it",
       "unit_divisor": 1000,
       "unit_scale": false
      },
      "application/vnd.jupyter.widget-view+json": {
       "model_id": "49de0a3cf0d549a5900f0ced5b6c06a9",
       "version_major": 2,
       "version_minor": 0
      },
      "text/plain": [
       "chain 1 |          | 00:00 Status"
      ]
     },
     "metadata": {},
     "output_type": "display_data"
    },
    {
     "data": {
      "application/json": {
       "ascii": false,
       "bar_format": "{desc} |{bar}| {elapsed} {postfix[0][value]}",
       "colour": null,
       "elapsed": 0.019199371337890625,
       "initial": 0,
       "n": 0,
       "ncols": null,
       "nrows": null,
       "postfix": [
        {
         "value": "Status"
        }
       ],
       "prefix": "chain 2",
       "rate": null,
       "total": 52,
       "unit": "it",
       "unit_divisor": 1000,
       "unit_scale": false
      },
      "application/vnd.jupyter.widget-view+json": {
       "model_id": "95eb77be7008483ca1c9971c373b430e",
       "version_major": 2,
       "version_minor": 0
      },
      "text/plain": [
       "chain 2 |          | 00:00 Status"
      ]
     },
     "metadata": {},
     "output_type": "display_data"
    },
    {
     "data": {
      "application/json": {
       "ascii": false,
       "bar_format": "{desc} |{bar}| {elapsed} {postfix[0][value]}",
       "colour": null,
       "elapsed": 0.018420696258544922,
       "initial": 0,
       "n": 0,
       "ncols": null,
       "nrows": null,
       "postfix": [
        {
         "value": "Status"
        }
       ],
       "prefix": "chain 3",
       "rate": null,
       "total": 52,
       "unit": "it",
       "unit_divisor": 1000,
       "unit_scale": false
      },
      "application/vnd.jupyter.widget-view+json": {
       "model_id": "3ee2f6855b55486eb52ef332e954f79d",
       "version_major": 2,
       "version_minor": 0
      },
      "text/plain": [
       "chain 3 |          | 00:00 Status"
      ]
     },
     "metadata": {},
     "output_type": "display_data"
    },
    {
     "data": {
      "application/json": {
       "ascii": false,
       "bar_format": "{desc} |{bar}| {elapsed} {postfix[0][value]}",
       "colour": null,
       "elapsed": 0.019836902618408203,
       "initial": 0,
       "n": 0,
       "ncols": null,
       "nrows": null,
       "postfix": [
        {
         "value": "Status"
        }
       ],
       "prefix": "chain 4",
       "rate": null,
       "total": 52,
       "unit": "it",
       "unit_divisor": 1000,
       "unit_scale": false
      },
      "application/vnd.jupyter.widget-view+json": {
       "model_id": "72aba3e04fdc4561bfc967c4db0af1a3",
       "version_major": 2,
       "version_minor": 0
      },
      "text/plain": [
       "chain 4 |          | 00:00 Status"
      ]
     },
     "metadata": {},
     "output_type": "display_data"
    },
    {
     "name": "stdout",
     "output_type": "stream",
     "text": [
      "                                                                                                                                                                                                                                                                                                                                \n"
     ]
    },
    {
     "name": "stderr",
     "output_type": "stream",
     "text": [
      "2025-07-15 11:47:18 - orbit - INFO - Sampling (PyStan) with chains: 4, cores: 8, temperature: 1.000, warmups (per chain): 2500 and samples(per chain): 2500.\n"
     ]
    },
    {
     "data": {
      "application/json": {
       "ascii": false,
       "bar_format": "{desc} |{bar}| {elapsed} {postfix[0][value]}",
       "colour": null,
       "elapsed": 0.023522615432739258,
       "initial": 0,
       "n": 0,
       "ncols": null,
       "nrows": null,
       "postfix": [
        {
         "value": "Status"
        }
       ],
       "prefix": "chain 1",
       "rate": null,
       "total": 52,
       "unit": "it",
       "unit_divisor": 1000,
       "unit_scale": false
      },
      "application/vnd.jupyter.widget-view+json": {
       "model_id": "9b9b173de0a5455b8db9fe44847110bd",
       "version_major": 2,
       "version_minor": 0
      },
      "text/plain": [
       "chain 1 |          | 00:00 Status"
      ]
     },
     "metadata": {},
     "output_type": "display_data"
    },
    {
     "data": {
      "application/json": {
       "ascii": false,
       "bar_format": "{desc} |{bar}| {elapsed} {postfix[0][value]}",
       "colour": null,
       "elapsed": 0.01983165740966797,
       "initial": 0,
       "n": 0,
       "ncols": null,
       "nrows": null,
       "postfix": [
        {
         "value": "Status"
        }
       ],
       "prefix": "chain 2",
       "rate": null,
       "total": 52,
       "unit": "it",
       "unit_divisor": 1000,
       "unit_scale": false
      },
      "application/vnd.jupyter.widget-view+json": {
       "model_id": "93035b2204fb45269e286a1c5a955015",
       "version_major": 2,
       "version_minor": 0
      },
      "text/plain": [
       "chain 2 |          | 00:00 Status"
      ]
     },
     "metadata": {},
     "output_type": "display_data"
    },
    {
     "data": {
      "application/json": {
       "ascii": false,
       "bar_format": "{desc} |{bar}| {elapsed} {postfix[0][value]}",
       "colour": null,
       "elapsed": 0.02013397216796875,
       "initial": 0,
       "n": 0,
       "ncols": null,
       "nrows": null,
       "postfix": [
        {
         "value": "Status"
        }
       ],
       "prefix": "chain 3",
       "rate": null,
       "total": 52,
       "unit": "it",
       "unit_divisor": 1000,
       "unit_scale": false
      },
      "application/vnd.jupyter.widget-view+json": {
       "model_id": "7838f8328aa443c99d9aac722038f1c3",
       "version_major": 2,
       "version_minor": 0
      },
      "text/plain": [
       "chain 3 |          | 00:00 Status"
      ]
     },
     "metadata": {},
     "output_type": "display_data"
    },
    {
     "data": {
      "application/json": {
       "ascii": false,
       "bar_format": "{desc} |{bar}| {elapsed} {postfix[0][value]}",
       "colour": null,
       "elapsed": 0.017224788665771484,
       "initial": 0,
       "n": 0,
       "ncols": null,
       "nrows": null,
       "postfix": [
        {
         "value": "Status"
        }
       ],
       "prefix": "chain 4",
       "rate": null,
       "total": 52,
       "unit": "it",
       "unit_divisor": 1000,
       "unit_scale": false
      },
      "application/vnd.jupyter.widget-view+json": {
       "model_id": "b3444f2b3e93433b96f58b475a59d36f",
       "version_major": 2,
       "version_minor": 0
      },
      "text/plain": [
       "chain 4 |          | 00:00 Status"
      ]
     },
     "metadata": {},
     "output_type": "display_data"
    },
    {
     "name": "stdout",
     "output_type": "stream",
     "text": [
      "                                                                                                                                                                                                                                                                                                                                \n"
     ]
    },
    {
     "name": "stderr",
     "output_type": "stream",
     "text": [
      "2025-07-15 11:47:21 - orbit - INFO - Sampling (PyStan) with chains: 4, cores: 8, temperature: 1.000, warmups (per chain): 2500 and samples(per chain): 2500.\n"
     ]
    },
    {
     "data": {
      "application/json": {
       "ascii": false,
       "bar_format": "{desc} |{bar}| {elapsed} {postfix[0][value]}",
       "colour": null,
       "elapsed": 0.02180337905883789,
       "initial": 0,
       "n": 0,
       "ncols": null,
       "nrows": null,
       "postfix": [
        {
         "value": "Status"
        }
       ],
       "prefix": "chain 1",
       "rate": null,
       "total": 52,
       "unit": "it",
       "unit_divisor": 1000,
       "unit_scale": false
      },
      "application/vnd.jupyter.widget-view+json": {
       "model_id": "f930cce20ffa42b5803b9b07f93ac6c9",
       "version_major": 2,
       "version_minor": 0
      },
      "text/plain": [
       "chain 1 |          | 00:00 Status"
      ]
     },
     "metadata": {},
     "output_type": "display_data"
    },
    {
     "data": {
      "application/json": {
       "ascii": false,
       "bar_format": "{desc} |{bar}| {elapsed} {postfix[0][value]}",
       "colour": null,
       "elapsed": 0.019885540008544922,
       "initial": 0,
       "n": 0,
       "ncols": null,
       "nrows": null,
       "postfix": [
        {
         "value": "Status"
        }
       ],
       "prefix": "chain 2",
       "rate": null,
       "total": 52,
       "unit": "it",
       "unit_divisor": 1000,
       "unit_scale": false
      },
      "application/vnd.jupyter.widget-view+json": {
       "model_id": "48a1f76f84ae46aab89add05d238ba91",
       "version_major": 2,
       "version_minor": 0
      },
      "text/plain": [
       "chain 2 |          | 00:00 Status"
      ]
     },
     "metadata": {},
     "output_type": "display_data"
    },
    {
     "data": {
      "application/json": {
       "ascii": false,
       "bar_format": "{desc} |{bar}| {elapsed} {postfix[0][value]}",
       "colour": null,
       "elapsed": 0.021457433700561523,
       "initial": 0,
       "n": 0,
       "ncols": null,
       "nrows": null,
       "postfix": [
        {
         "value": "Status"
        }
       ],
       "prefix": "chain 3",
       "rate": null,
       "total": 52,
       "unit": "it",
       "unit_divisor": 1000,
       "unit_scale": false
      },
      "application/vnd.jupyter.widget-view+json": {
       "model_id": "ec84cb28b04045e99aa545175da2400d",
       "version_major": 2,
       "version_minor": 0
      },
      "text/plain": [
       "chain 3 |          | 00:00 Status"
      ]
     },
     "metadata": {},
     "output_type": "display_data"
    },
    {
     "data": {
      "application/json": {
       "ascii": false,
       "bar_format": "{desc} |{bar}| {elapsed} {postfix[0][value]}",
       "colour": null,
       "elapsed": 0.023213624954223633,
       "initial": 0,
       "n": 0,
       "ncols": null,
       "nrows": null,
       "postfix": [
        {
         "value": "Status"
        }
       ],
       "prefix": "chain 4",
       "rate": null,
       "total": 52,
       "unit": "it",
       "unit_divisor": 1000,
       "unit_scale": false
      },
      "application/vnd.jupyter.widget-view+json": {
       "model_id": "d883e6fc7f994378bc1fe7a59a5b37b9",
       "version_major": 2,
       "version_minor": 0
      },
      "text/plain": [
       "chain 4 |          | 00:00 Status"
      ]
     },
     "metadata": {},
     "output_type": "display_data"
    },
    {
     "name": "stdout",
     "output_type": "stream",
     "text": [
      "                                                                                                                                                                                                                                                                                                                                \n"
     ]
    },
    {
     "name": "stderr",
     "output_type": "stream",
     "text": [
      "2025-07-15 11:47:23 - orbit - INFO - Sampling (PyStan) with chains: 4, cores: 8, temperature: 1.000, warmups (per chain): 2500 and samples(per chain): 2500.\n"
     ]
    },
    {
     "data": {
      "application/json": {
       "ascii": false,
       "bar_format": "{desc} |{bar}| {elapsed} {postfix[0][value]}",
       "colour": null,
       "elapsed": 0.021623849868774414,
       "initial": 0,
       "n": 0,
       "ncols": null,
       "nrows": null,
       "postfix": [
        {
         "value": "Status"
        }
       ],
       "prefix": "chain 1",
       "rate": null,
       "total": 52,
       "unit": "it",
       "unit_divisor": 1000,
       "unit_scale": false
      },
      "application/vnd.jupyter.widget-view+json": {
       "model_id": "5c60cdf7ba0344bab007ef03b309fc45",
       "version_major": 2,
       "version_minor": 0
      },
      "text/plain": [
       "chain 1 |          | 00:00 Status"
      ]
     },
     "metadata": {},
     "output_type": "display_data"
    },
    {
     "data": {
      "application/json": {
       "ascii": false,
       "bar_format": "{desc} |{bar}| {elapsed} {postfix[0][value]}",
       "colour": null,
       "elapsed": 0.01888298988342285,
       "initial": 0,
       "n": 0,
       "ncols": null,
       "nrows": null,
       "postfix": [
        {
         "value": "Status"
        }
       ],
       "prefix": "chain 2",
       "rate": null,
       "total": 52,
       "unit": "it",
       "unit_divisor": 1000,
       "unit_scale": false
      },
      "application/vnd.jupyter.widget-view+json": {
       "model_id": "18e7b75015534c1db0166d3c9a9cec58",
       "version_major": 2,
       "version_minor": 0
      },
      "text/plain": [
       "chain 2 |          | 00:00 Status"
      ]
     },
     "metadata": {},
     "output_type": "display_data"
    },
    {
     "data": {
      "application/json": {
       "ascii": false,
       "bar_format": "{desc} |{bar}| {elapsed} {postfix[0][value]}",
       "colour": null,
       "elapsed": 0.023980140686035156,
       "initial": 0,
       "n": 0,
       "ncols": null,
       "nrows": null,
       "postfix": [
        {
         "value": "Status"
        }
       ],
       "prefix": "chain 3",
       "rate": null,
       "total": 52,
       "unit": "it",
       "unit_divisor": 1000,
       "unit_scale": false
      },
      "application/vnd.jupyter.widget-view+json": {
       "model_id": "00c260f7137a40b194b1462bba368f11",
       "version_major": 2,
       "version_minor": 0
      },
      "text/plain": [
       "chain 3 |          | 00:00 Status"
      ]
     },
     "metadata": {},
     "output_type": "display_data"
    },
    {
     "data": {
      "application/json": {
       "ascii": false,
       "bar_format": "{desc} |{bar}| {elapsed} {postfix[0][value]}",
       "colour": null,
       "elapsed": 0.018630266189575195,
       "initial": 0,
       "n": 0,
       "ncols": null,
       "nrows": null,
       "postfix": [
        {
         "value": "Status"
        }
       ],
       "prefix": "chain 4",
       "rate": null,
       "total": 52,
       "unit": "it",
       "unit_divisor": 1000,
       "unit_scale": false
      },
      "application/vnd.jupyter.widget-view+json": {
       "model_id": "eeb6bf5d76a94f5cb7fd211d15d0f948",
       "version_major": 2,
       "version_minor": 0
      },
      "text/plain": [
       "chain 4 |          | 00:00 Status"
      ]
     },
     "metadata": {},
     "output_type": "display_data"
    },
    {
     "name": "stdout",
     "output_type": "stream",
     "text": [
      "                                                                                                                                                                                                                                                                                                                                \n"
     ]
    },
    {
     "name": "stderr",
     "output_type": "stream",
     "text": [
      "2025-07-15 11:47:25 - orbit - INFO - Sampling (PyStan) with chains: 4, cores: 8, temperature: 1.000, warmups (per chain): 2500 and samples(per chain): 2500.\n"
     ]
    },
    {
     "data": {
      "application/json": {
       "ascii": false,
       "bar_format": "{desc} |{bar}| {elapsed} {postfix[0][value]}",
       "colour": null,
       "elapsed": 0.02256464958190918,
       "initial": 0,
       "n": 0,
       "ncols": null,
       "nrows": null,
       "postfix": [
        {
         "value": "Status"
        }
       ],
       "prefix": "chain 1",
       "rate": null,
       "total": 52,
       "unit": "it",
       "unit_divisor": 1000,
       "unit_scale": false
      },
      "application/vnd.jupyter.widget-view+json": {
       "model_id": "386a28d7e72f47c9927c8420ea3eecaf",
       "version_major": 2,
       "version_minor": 0
      },
      "text/plain": [
       "chain 1 |          | 00:00 Status"
      ]
     },
     "metadata": {},
     "output_type": "display_data"
    },
    {
     "data": {
      "application/json": {
       "ascii": false,
       "bar_format": "{desc} |{bar}| {elapsed} {postfix[0][value]}",
       "colour": null,
       "elapsed": 0.01862335205078125,
       "initial": 0,
       "n": 0,
       "ncols": null,
       "nrows": null,
       "postfix": [
        {
         "value": "Status"
        }
       ],
       "prefix": "chain 2",
       "rate": null,
       "total": 52,
       "unit": "it",
       "unit_divisor": 1000,
       "unit_scale": false
      },
      "application/vnd.jupyter.widget-view+json": {
       "model_id": "b91b8871cbb344d7893b924c81e04b57",
       "version_major": 2,
       "version_minor": 0
      },
      "text/plain": [
       "chain 2 |          | 00:00 Status"
      ]
     },
     "metadata": {},
     "output_type": "display_data"
    },
    {
     "data": {
      "application/json": {
       "ascii": false,
       "bar_format": "{desc} |{bar}| {elapsed} {postfix[0][value]}",
       "colour": null,
       "elapsed": 0.017874956130981445,
       "initial": 0,
       "n": 0,
       "ncols": null,
       "nrows": null,
       "postfix": [
        {
         "value": "Status"
        }
       ],
       "prefix": "chain 3",
       "rate": null,
       "total": 52,
       "unit": "it",
       "unit_divisor": 1000,
       "unit_scale": false
      },
      "application/vnd.jupyter.widget-view+json": {
       "model_id": "d69760fb1612473c93a52c14fca5ba5c",
       "version_major": 2,
       "version_minor": 0
      },
      "text/plain": [
       "chain 3 |          | 00:00 Status"
      ]
     },
     "metadata": {},
     "output_type": "display_data"
    },
    {
     "data": {
      "application/json": {
       "ascii": false,
       "bar_format": "{desc} |{bar}| {elapsed} {postfix[0][value]}",
       "colour": null,
       "elapsed": 0.017401456832885742,
       "initial": 0,
       "n": 0,
       "ncols": null,
       "nrows": null,
       "postfix": [
        {
         "value": "Status"
        }
       ],
       "prefix": "chain 4",
       "rate": null,
       "total": 52,
       "unit": "it",
       "unit_divisor": 1000,
       "unit_scale": false
      },
      "application/vnd.jupyter.widget-view+json": {
       "model_id": "eaad93ef9bda4fd7b4a08174f6493746",
       "version_major": 2,
       "version_minor": 0
      },
      "text/plain": [
       "chain 4 |          | 00:00 Status"
      ]
     },
     "metadata": {},
     "output_type": "display_data"
    },
    {
     "name": "stdout",
     "output_type": "stream",
     "text": [
      "                                                                                                                                                                                                                                                                                                                                \n"
     ]
    },
    {
     "name": "stderr",
     "output_type": "stream",
     "text": [
      "2025-07-15 11:47:28 - orbit - INFO - Sampling (PyStan) with chains: 4, cores: 8, temperature: 1.000, warmups (per chain): 2500 and samples(per chain): 2500.\n"
     ]
    },
    {
     "data": {
      "application/json": {
       "ascii": false,
       "bar_format": "{desc} |{bar}| {elapsed} {postfix[0][value]}",
       "colour": null,
       "elapsed": 0.020882606506347656,
       "initial": 0,
       "n": 0,
       "ncols": null,
       "nrows": null,
       "postfix": [
        {
         "value": "Status"
        }
       ],
       "prefix": "chain 1",
       "rate": null,
       "total": 52,
       "unit": "it",
       "unit_divisor": 1000,
       "unit_scale": false
      },
      "application/vnd.jupyter.widget-view+json": {
       "model_id": "3e7d9a6efb6e45b3afd2afa0d65cf648",
       "version_major": 2,
       "version_minor": 0
      },
      "text/plain": [
       "chain 1 |          | 00:00 Status"
      ]
     },
     "metadata": {},
     "output_type": "display_data"
    },
    {
     "data": {
      "application/json": {
       "ascii": false,
       "bar_format": "{desc} |{bar}| {elapsed} {postfix[0][value]}",
       "colour": null,
       "elapsed": 0.01782393455505371,
       "initial": 0,
       "n": 0,
       "ncols": null,
       "nrows": null,
       "postfix": [
        {
         "value": "Status"
        }
       ],
       "prefix": "chain 2",
       "rate": null,
       "total": 52,
       "unit": "it",
       "unit_divisor": 1000,
       "unit_scale": false
      },
      "application/vnd.jupyter.widget-view+json": {
       "model_id": "0d254c4bc9904036849ce10d2de03903",
       "version_major": 2,
       "version_minor": 0
      },
      "text/plain": [
       "chain 2 |          | 00:00 Status"
      ]
     },
     "metadata": {},
     "output_type": "display_data"
    },
    {
     "data": {
      "application/json": {
       "ascii": false,
       "bar_format": "{desc} |{bar}| {elapsed} {postfix[0][value]}",
       "colour": null,
       "elapsed": 0.017545461654663086,
       "initial": 0,
       "n": 0,
       "ncols": null,
       "nrows": null,
       "postfix": [
        {
         "value": "Status"
        }
       ],
       "prefix": "chain 3",
       "rate": null,
       "total": 52,
       "unit": "it",
       "unit_divisor": 1000,
       "unit_scale": false
      },
      "application/vnd.jupyter.widget-view+json": {
       "model_id": "50e52e5c4a43431ab56b7dadaa97dcb2",
       "version_major": 2,
       "version_minor": 0
      },
      "text/plain": [
       "chain 3 |          | 00:00 Status"
      ]
     },
     "metadata": {},
     "output_type": "display_data"
    },
    {
     "data": {
      "application/json": {
       "ascii": false,
       "bar_format": "{desc} |{bar}| {elapsed} {postfix[0][value]}",
       "colour": null,
       "elapsed": 0.01806473731994629,
       "initial": 0,
       "n": 0,
       "ncols": null,
       "nrows": null,
       "postfix": [
        {
         "value": "Status"
        }
       ],
       "prefix": "chain 4",
       "rate": null,
       "total": 52,
       "unit": "it",
       "unit_divisor": 1000,
       "unit_scale": false
      },
      "application/vnd.jupyter.widget-view+json": {
       "model_id": "5fce7b9da7b44132950406ca1d53516a",
       "version_major": 2,
       "version_minor": 0
      },
      "text/plain": [
       "chain 4 |          | 00:00 Status"
      ]
     },
     "metadata": {},
     "output_type": "display_data"
    },
    {
     "name": "stdout",
     "output_type": "stream",
     "text": [
      "                                                                                                                                                                                                                                                                                                                                \n"
     ]
    },
    {
     "name": "stderr",
     "output_type": "stream",
     "text": [
      "2025-07-15 11:47:30 - orbit - INFO - Sampling (PyStan) with chains: 4, cores: 8, temperature: 1.000, warmups (per chain): 2500 and samples(per chain): 2500.\n"
     ]
    },
    {
     "data": {
      "application/json": {
       "ascii": false,
       "bar_format": "{desc} |{bar}| {elapsed} {postfix[0][value]}",
       "colour": null,
       "elapsed": 0.020665407180786133,
       "initial": 0,
       "n": 0,
       "ncols": null,
       "nrows": null,
       "postfix": [
        {
         "value": "Status"
        }
       ],
       "prefix": "chain 1",
       "rate": null,
       "total": 52,
       "unit": "it",
       "unit_divisor": 1000,
       "unit_scale": false
      },
      "application/vnd.jupyter.widget-view+json": {
       "model_id": "3e03b24fcec14b80ad4d74e54a297301",
       "version_major": 2,
       "version_minor": 0
      },
      "text/plain": [
       "chain 1 |          | 00:00 Status"
      ]
     },
     "metadata": {},
     "output_type": "display_data"
    },
    {
     "data": {
      "application/json": {
       "ascii": false,
       "bar_format": "{desc} |{bar}| {elapsed} {postfix[0][value]}",
       "colour": null,
       "elapsed": 0.019493818283081055,
       "initial": 0,
       "n": 0,
       "ncols": null,
       "nrows": null,
       "postfix": [
        {
         "value": "Status"
        }
       ],
       "prefix": "chain 2",
       "rate": null,
       "total": 52,
       "unit": "it",
       "unit_divisor": 1000,
       "unit_scale": false
      },
      "application/vnd.jupyter.widget-view+json": {
       "model_id": "35dd035596994e87958b9d08b8ff4579",
       "version_major": 2,
       "version_minor": 0
      },
      "text/plain": [
       "chain 2 |          | 00:00 Status"
      ]
     },
     "metadata": {},
     "output_type": "display_data"
    },
    {
     "data": {
      "application/json": {
       "ascii": false,
       "bar_format": "{desc} |{bar}| {elapsed} {postfix[0][value]}",
       "colour": null,
       "elapsed": 0.017087459564208984,
       "initial": 0,
       "n": 0,
       "ncols": null,
       "nrows": null,
       "postfix": [
        {
         "value": "Status"
        }
       ],
       "prefix": "chain 3",
       "rate": null,
       "total": 52,
       "unit": "it",
       "unit_divisor": 1000,
       "unit_scale": false
      },
      "application/vnd.jupyter.widget-view+json": {
       "model_id": "1711116af172447c8e6e0198e15128e3",
       "version_major": 2,
       "version_minor": 0
      },
      "text/plain": [
       "chain 3 |          | 00:00 Status"
      ]
     },
     "metadata": {},
     "output_type": "display_data"
    },
    {
     "data": {
      "application/json": {
       "ascii": false,
       "bar_format": "{desc} |{bar}| {elapsed} {postfix[0][value]}",
       "colour": null,
       "elapsed": 0.019522905349731445,
       "initial": 0,
       "n": 0,
       "ncols": null,
       "nrows": null,
       "postfix": [
        {
         "value": "Status"
        }
       ],
       "prefix": "chain 4",
       "rate": null,
       "total": 52,
       "unit": "it",
       "unit_divisor": 1000,
       "unit_scale": false
      },
      "application/vnd.jupyter.widget-view+json": {
       "model_id": "8fdd32f411694c9f961b43ccff7a2dc5",
       "version_major": 2,
       "version_minor": 0
      },
      "text/plain": [
       "chain 4 |          | 00:00 Status"
      ]
     },
     "metadata": {},
     "output_type": "display_data"
    },
    {
     "name": "stdout",
     "output_type": "stream",
     "text": [
      "                                                                                                                                                                                                                                                                                                                                \n"
     ]
    },
    {
     "name": "stderr",
     "output_type": "stream",
     "text": [
      "2025-07-15 11:47:33 - orbit - INFO - Sampling (PyStan) with chains: 4, cores: 8, temperature: 1.000, warmups (per chain): 2500 and samples(per chain): 2500.\n"
     ]
    },
    {
     "data": {
      "application/json": {
       "ascii": false,
       "bar_format": "{desc} |{bar}| {elapsed} {postfix[0][value]}",
       "colour": null,
       "elapsed": 0.0240323543548584,
       "initial": 0,
       "n": 0,
       "ncols": null,
       "nrows": null,
       "postfix": [
        {
         "value": "Status"
        }
       ],
       "prefix": "chain 1",
       "rate": null,
       "total": 52,
       "unit": "it",
       "unit_divisor": 1000,
       "unit_scale": false
      },
      "application/vnd.jupyter.widget-view+json": {
       "model_id": "69c8c7fbc338421aa57f69d65b73db25",
       "version_major": 2,
       "version_minor": 0
      },
      "text/plain": [
       "chain 1 |          | 00:00 Status"
      ]
     },
     "metadata": {},
     "output_type": "display_data"
    },
    {
     "data": {
      "application/json": {
       "ascii": false,
       "bar_format": "{desc} |{bar}| {elapsed} {postfix[0][value]}",
       "colour": null,
       "elapsed": 0.02301931381225586,
       "initial": 0,
       "n": 0,
       "ncols": null,
       "nrows": null,
       "postfix": [
        {
         "value": "Status"
        }
       ],
       "prefix": "chain 2",
       "rate": null,
       "total": 52,
       "unit": "it",
       "unit_divisor": 1000,
       "unit_scale": false
      },
      "application/vnd.jupyter.widget-view+json": {
       "model_id": "6201177b8c954eb59354ecab7ea9d3ce",
       "version_major": 2,
       "version_minor": 0
      },
      "text/plain": [
       "chain 2 |          | 00:00 Status"
      ]
     },
     "metadata": {},
     "output_type": "display_data"
    },
    {
     "data": {
      "application/json": {
       "ascii": false,
       "bar_format": "{desc} |{bar}| {elapsed} {postfix[0][value]}",
       "colour": null,
       "elapsed": 0.025562763214111328,
       "initial": 0,
       "n": 0,
       "ncols": null,
       "nrows": null,
       "postfix": [
        {
         "value": "Status"
        }
       ],
       "prefix": "chain 3",
       "rate": null,
       "total": 52,
       "unit": "it",
       "unit_divisor": 1000,
       "unit_scale": false
      },
      "application/vnd.jupyter.widget-view+json": {
       "model_id": "1abeb29694f44b63ac129a7744853635",
       "version_major": 2,
       "version_minor": 0
      },
      "text/plain": [
       "chain 3 |          | 00:00 Status"
      ]
     },
     "metadata": {},
     "output_type": "display_data"
    },
    {
     "data": {
      "application/json": {
       "ascii": false,
       "bar_format": "{desc} |{bar}| {elapsed} {postfix[0][value]}",
       "colour": null,
       "elapsed": 0.01800847053527832,
       "initial": 0,
       "n": 0,
       "ncols": null,
       "nrows": null,
       "postfix": [
        {
         "value": "Status"
        }
       ],
       "prefix": "chain 4",
       "rate": null,
       "total": 52,
       "unit": "it",
       "unit_divisor": 1000,
       "unit_scale": false
      },
      "application/vnd.jupyter.widget-view+json": {
       "model_id": "0fd2a1bec8c64b969310bb412a737e06",
       "version_major": 2,
       "version_minor": 0
      },
      "text/plain": [
       "chain 4 |          | 00:00 Status"
      ]
     },
     "metadata": {},
     "output_type": "display_data"
    },
    {
     "name": "stdout",
     "output_type": "stream",
     "text": [
      "                                                                                                                                                                                                                                                                                                                                \n"
     ]
    },
    {
     "name": "stderr",
     "output_type": "stream",
     "text": [
      "2025-07-15 11:47:35 - orbit - INFO - Sampling (PyStan) with chains: 4, cores: 8, temperature: 1.000, warmups (per chain): 2500 and samples(per chain): 2500.\n"
     ]
    },
    {
     "data": {
      "application/json": {
       "ascii": false,
       "bar_format": "{desc} |{bar}| {elapsed} {postfix[0][value]}",
       "colour": null,
       "elapsed": 0.02136969566345215,
       "initial": 0,
       "n": 0,
       "ncols": null,
       "nrows": null,
       "postfix": [
        {
         "value": "Status"
        }
       ],
       "prefix": "chain 1",
       "rate": null,
       "total": 52,
       "unit": "it",
       "unit_divisor": 1000,
       "unit_scale": false
      },
      "application/vnd.jupyter.widget-view+json": {
       "model_id": "b559160dffdb4155aea79e3a5e896825",
       "version_major": 2,
       "version_minor": 0
      },
      "text/plain": [
       "chain 1 |          | 00:00 Status"
      ]
     },
     "metadata": {},
     "output_type": "display_data"
    },
    {
     "data": {
      "application/json": {
       "ascii": false,
       "bar_format": "{desc} |{bar}| {elapsed} {postfix[0][value]}",
       "colour": null,
       "elapsed": 0.017666339874267578,
       "initial": 0,
       "n": 0,
       "ncols": null,
       "nrows": null,
       "postfix": [
        {
         "value": "Status"
        }
       ],
       "prefix": "chain 2",
       "rate": null,
       "total": 52,
       "unit": "it",
       "unit_divisor": 1000,
       "unit_scale": false
      },
      "application/vnd.jupyter.widget-view+json": {
       "model_id": "716e548aa7a3494ba2f6782d8ff05c64",
       "version_major": 2,
       "version_minor": 0
      },
      "text/plain": [
       "chain 2 |          | 00:00 Status"
      ]
     },
     "metadata": {},
     "output_type": "display_data"
    },
    {
     "data": {
      "application/json": {
       "ascii": false,
       "bar_format": "{desc} |{bar}| {elapsed} {postfix[0][value]}",
       "colour": null,
       "elapsed": 0.01714301109313965,
       "initial": 0,
       "n": 0,
       "ncols": null,
       "nrows": null,
       "postfix": [
        {
         "value": "Status"
        }
       ],
       "prefix": "chain 3",
       "rate": null,
       "total": 52,
       "unit": "it",
       "unit_divisor": 1000,
       "unit_scale": false
      },
      "application/vnd.jupyter.widget-view+json": {
       "model_id": "7e6a0ca92381443783547bd71a3edcce",
       "version_major": 2,
       "version_minor": 0
      },
      "text/plain": [
       "chain 3 |          | 00:00 Status"
      ]
     },
     "metadata": {},
     "output_type": "display_data"
    },
    {
     "data": {
      "application/json": {
       "ascii": false,
       "bar_format": "{desc} |{bar}| {elapsed} {postfix[0][value]}",
       "colour": null,
       "elapsed": 0.017246723175048828,
       "initial": 0,
       "n": 0,
       "ncols": null,
       "nrows": null,
       "postfix": [
        {
         "value": "Status"
        }
       ],
       "prefix": "chain 4",
       "rate": null,
       "total": 52,
       "unit": "it",
       "unit_divisor": 1000,
       "unit_scale": false
      },
      "application/vnd.jupyter.widget-view+json": {
       "model_id": "406631df139c4f46b0b8277d737737bd",
       "version_major": 2,
       "version_minor": 0
      },
      "text/plain": [
       "chain 4 |          | 00:00 Status"
      ]
     },
     "metadata": {},
     "output_type": "display_data"
    },
    {
     "name": "stdout",
     "output_type": "stream",
     "text": [
      "                                                                                                                                                                                                                                                                                                                                \n"
     ]
    },
    {
     "name": "stderr",
     "output_type": "stream",
     "text": [
      "2025-07-15 11:47:37 - orbit - INFO - Sampling (PyStan) with chains: 4, cores: 8, temperature: 1.000, warmups (per chain): 2500 and samples(per chain): 2500.\n"
     ]
    },
    {
     "data": {
      "application/json": {
       "ascii": false,
       "bar_format": "{desc} |{bar}| {elapsed} {postfix[0][value]}",
       "colour": null,
       "elapsed": 0.02104353904724121,
       "initial": 0,
       "n": 0,
       "ncols": null,
       "nrows": null,
       "postfix": [
        {
         "value": "Status"
        }
       ],
       "prefix": "chain 1",
       "rate": null,
       "total": 52,
       "unit": "it",
       "unit_divisor": 1000,
       "unit_scale": false
      },
      "application/vnd.jupyter.widget-view+json": {
       "model_id": "0273c2e3ef704026a952cdf93817cbe0",
       "version_major": 2,
       "version_minor": 0
      },
      "text/plain": [
       "chain 1 |          | 00:00 Status"
      ]
     },
     "metadata": {},
     "output_type": "display_data"
    },
    {
     "data": {
      "application/json": {
       "ascii": false,
       "bar_format": "{desc} |{bar}| {elapsed} {postfix[0][value]}",
       "colour": null,
       "elapsed": 0.017423391342163086,
       "initial": 0,
       "n": 0,
       "ncols": null,
       "nrows": null,
       "postfix": [
        {
         "value": "Status"
        }
       ],
       "prefix": "chain 2",
       "rate": null,
       "total": 52,
       "unit": "it",
       "unit_divisor": 1000,
       "unit_scale": false
      },
      "application/vnd.jupyter.widget-view+json": {
       "model_id": "f435a245268e48e89873561d1257bc7c",
       "version_major": 2,
       "version_minor": 0
      },
      "text/plain": [
       "chain 2 |          | 00:00 Status"
      ]
     },
     "metadata": {},
     "output_type": "display_data"
    },
    {
     "data": {
      "application/json": {
       "ascii": false,
       "bar_format": "{desc} |{bar}| {elapsed} {postfix[0][value]}",
       "colour": null,
       "elapsed": 0.019710302352905273,
       "initial": 0,
       "n": 0,
       "ncols": null,
       "nrows": null,
       "postfix": [
        {
         "value": "Status"
        }
       ],
       "prefix": "chain 3",
       "rate": null,
       "total": 52,
       "unit": "it",
       "unit_divisor": 1000,
       "unit_scale": false
      },
      "application/vnd.jupyter.widget-view+json": {
       "model_id": "b11052da9ca54e8ea390a5b10b1c6243",
       "version_major": 2,
       "version_minor": 0
      },
      "text/plain": [
       "chain 3 |          | 00:00 Status"
      ]
     },
     "metadata": {},
     "output_type": "display_data"
    },
    {
     "data": {
      "application/json": {
       "ascii": false,
       "bar_format": "{desc} |{bar}| {elapsed} {postfix[0][value]}",
       "colour": null,
       "elapsed": 0.018647432327270508,
       "initial": 0,
       "n": 0,
       "ncols": null,
       "nrows": null,
       "postfix": [
        {
         "value": "Status"
        }
       ],
       "prefix": "chain 4",
       "rate": null,
       "total": 52,
       "unit": "it",
       "unit_divisor": 1000,
       "unit_scale": false
      },
      "application/vnd.jupyter.widget-view+json": {
       "model_id": "9bb579719f3c4432bb39bebbf0b6bb94",
       "version_major": 2,
       "version_minor": 0
      },
      "text/plain": [
       "chain 4 |          | 00:00 Status"
      ]
     },
     "metadata": {},
     "output_type": "display_data"
    },
    {
     "name": "stdout",
     "output_type": "stream",
     "text": [
      "                                                                                                                                                                                                                                                                                                                                \n"
     ]
    },
    {
     "name": "stderr",
     "output_type": "stream",
     "text": [
      "2025-07-15 11:47:40 - orbit - INFO - Sampling (PyStan) with chains: 4, cores: 8, temperature: 1.000, warmups (per chain): 2500 and samples(per chain): 2500.\n"
     ]
    },
    {
     "data": {
      "application/json": {
       "ascii": false,
       "bar_format": "{desc} |{bar}| {elapsed} {postfix[0][value]}",
       "colour": null,
       "elapsed": 0.02042865753173828,
       "initial": 0,
       "n": 0,
       "ncols": null,
       "nrows": null,
       "postfix": [
        {
         "value": "Status"
        }
       ],
       "prefix": "chain 1",
       "rate": null,
       "total": 52,
       "unit": "it",
       "unit_divisor": 1000,
       "unit_scale": false
      },
      "application/vnd.jupyter.widget-view+json": {
       "model_id": "d01822c2cd8647d1b80e621134f6e049",
       "version_major": 2,
       "version_minor": 0
      },
      "text/plain": [
       "chain 1 |          | 00:00 Status"
      ]
     },
     "metadata": {},
     "output_type": "display_data"
    },
    {
     "data": {
      "application/json": {
       "ascii": false,
       "bar_format": "{desc} |{bar}| {elapsed} {postfix[0][value]}",
       "colour": null,
       "elapsed": 0.016974449157714844,
       "initial": 0,
       "n": 0,
       "ncols": null,
       "nrows": null,
       "postfix": [
        {
         "value": "Status"
        }
       ],
       "prefix": "chain 2",
       "rate": null,
       "total": 52,
       "unit": "it",
       "unit_divisor": 1000,
       "unit_scale": false
      },
      "application/vnd.jupyter.widget-view+json": {
       "model_id": "306e7e3ff9ce469ab4b0ac53f3e2d6d5",
       "version_major": 2,
       "version_minor": 0
      },
      "text/plain": [
       "chain 2 |          | 00:00 Status"
      ]
     },
     "metadata": {},
     "output_type": "display_data"
    },
    {
     "data": {
      "application/json": {
       "ascii": false,
       "bar_format": "{desc} |{bar}| {elapsed} {postfix[0][value]}",
       "colour": null,
       "elapsed": 0.016471385955810547,
       "initial": 0,
       "n": 0,
       "ncols": null,
       "nrows": null,
       "postfix": [
        {
         "value": "Status"
        }
       ],
       "prefix": "chain 3",
       "rate": null,
       "total": 52,
       "unit": "it",
       "unit_divisor": 1000,
       "unit_scale": false
      },
      "application/vnd.jupyter.widget-view+json": {
       "model_id": "52a49791329140ba96d97136d9ab5baa",
       "version_major": 2,
       "version_minor": 0
      },
      "text/plain": [
       "chain 3 |          | 00:00 Status"
      ]
     },
     "metadata": {},
     "output_type": "display_data"
    },
    {
     "data": {
      "application/json": {
       "ascii": false,
       "bar_format": "{desc} |{bar}| {elapsed} {postfix[0][value]}",
       "colour": null,
       "elapsed": 0.016775846481323242,
       "initial": 0,
       "n": 0,
       "ncols": null,
       "nrows": null,
       "postfix": [
        {
         "value": "Status"
        }
       ],
       "prefix": "chain 4",
       "rate": null,
       "total": 52,
       "unit": "it",
       "unit_divisor": 1000,
       "unit_scale": false
      },
      "application/vnd.jupyter.widget-view+json": {
       "model_id": "2906c8b661604b85a7434078ea58efc4",
       "version_major": 2,
       "version_minor": 0
      },
      "text/plain": [
       "chain 4 |          | 00:00 Status"
      ]
     },
     "metadata": {},
     "output_type": "display_data"
    },
    {
     "name": "stdout",
     "output_type": "stream",
     "text": [
      "                                                                                                                                                                                                                                                                                                                                \n"
     ]
    },
    {
     "name": "stderr",
     "output_type": "stream",
     "text": [
      "2025-07-15 11:47:42 - orbit - INFO - Sampling (PyStan) with chains: 4, cores: 8, temperature: 1.000, warmups (per chain): 2500 and samples(per chain): 2500.\n"
     ]
    },
    {
     "data": {
      "application/json": {
       "ascii": false,
       "bar_format": "{desc} |{bar}| {elapsed} {postfix[0][value]}",
       "colour": null,
       "elapsed": 0.021372079849243164,
       "initial": 0,
       "n": 0,
       "ncols": null,
       "nrows": null,
       "postfix": [
        {
         "value": "Status"
        }
       ],
       "prefix": "chain 1",
       "rate": null,
       "total": 52,
       "unit": "it",
       "unit_divisor": 1000,
       "unit_scale": false
      },
      "application/vnd.jupyter.widget-view+json": {
       "model_id": "06f689104eab44c3a6905805eeb7693f",
       "version_major": 2,
       "version_minor": 0
      },
      "text/plain": [
       "chain 1 |          | 00:00 Status"
      ]
     },
     "metadata": {},
     "output_type": "display_data"
    },
    {
     "data": {
      "application/json": {
       "ascii": false,
       "bar_format": "{desc} |{bar}| {elapsed} {postfix[0][value]}",
       "colour": null,
       "elapsed": 0.017077207565307617,
       "initial": 0,
       "n": 0,
       "ncols": null,
       "nrows": null,
       "postfix": [
        {
         "value": "Status"
        }
       ],
       "prefix": "chain 2",
       "rate": null,
       "total": 52,
       "unit": "it",
       "unit_divisor": 1000,
       "unit_scale": false
      },
      "application/vnd.jupyter.widget-view+json": {
       "model_id": "7144deff2a5340eeb43bef2a98b3e29e",
       "version_major": 2,
       "version_minor": 0
      },
      "text/plain": [
       "chain 2 |          | 00:00 Status"
      ]
     },
     "metadata": {},
     "output_type": "display_data"
    },
    {
     "data": {
      "application/json": {
       "ascii": false,
       "bar_format": "{desc} |{bar}| {elapsed} {postfix[0][value]}",
       "colour": null,
       "elapsed": 0.01963067054748535,
       "initial": 0,
       "n": 0,
       "ncols": null,
       "nrows": null,
       "postfix": [
        {
         "value": "Status"
        }
       ],
       "prefix": "chain 3",
       "rate": null,
       "total": 52,
       "unit": "it",
       "unit_divisor": 1000,
       "unit_scale": false
      },
      "application/vnd.jupyter.widget-view+json": {
       "model_id": "b3a24df2385c40aaa91c740cb548da4c",
       "version_major": 2,
       "version_minor": 0
      },
      "text/plain": [
       "chain 3 |          | 00:00 Status"
      ]
     },
     "metadata": {},
     "output_type": "display_data"
    },
    {
     "data": {
      "application/json": {
       "ascii": false,
       "bar_format": "{desc} |{bar}| {elapsed} {postfix[0][value]}",
       "colour": null,
       "elapsed": 0.018893003463745117,
       "initial": 0,
       "n": 0,
       "ncols": null,
       "nrows": null,
       "postfix": [
        {
         "value": "Status"
        }
       ],
       "prefix": "chain 4",
       "rate": null,
       "total": 52,
       "unit": "it",
       "unit_divisor": 1000,
       "unit_scale": false
      },
      "application/vnd.jupyter.widget-view+json": {
       "model_id": "3b21169b37b6491a9fafaec24a8238d0",
       "version_major": 2,
       "version_minor": 0
      },
      "text/plain": [
       "chain 4 |          | 00:00 Status"
      ]
     },
     "metadata": {},
     "output_type": "display_data"
    },
    {
     "name": "stdout",
     "output_type": "stream",
     "text": [
      "                                                                                                                                                                                                                                                                                                                                \n"
     ]
    },
    {
     "name": "stderr",
     "output_type": "stream",
     "text": [
      "2025-07-15 11:47:45 - orbit - INFO - Sampling (PyStan) with chains: 4, cores: 8, temperature: 1.000, warmups (per chain): 2500 and samples(per chain): 2500.\n"
     ]
    },
    {
     "data": {
      "application/json": {
       "ascii": false,
       "bar_format": "{desc} |{bar}| {elapsed} {postfix[0][value]}",
       "colour": null,
       "elapsed": 0.021120548248291016,
       "initial": 0,
       "n": 0,
       "ncols": null,
       "nrows": null,
       "postfix": [
        {
         "value": "Status"
        }
       ],
       "prefix": "chain 1",
       "rate": null,
       "total": 52,
       "unit": "it",
       "unit_divisor": 1000,
       "unit_scale": false
      },
      "application/vnd.jupyter.widget-view+json": {
       "model_id": "3f97910a6d934eb1b5b2f99c07d46f7e",
       "version_major": 2,
       "version_minor": 0
      },
      "text/plain": [
       "chain 1 |          | 00:00 Status"
      ]
     },
     "metadata": {},
     "output_type": "display_data"
    },
    {
     "data": {
      "application/json": {
       "ascii": false,
       "bar_format": "{desc} |{bar}| {elapsed} {postfix[0][value]}",
       "colour": null,
       "elapsed": 0.01900196075439453,
       "initial": 0,
       "n": 0,
       "ncols": null,
       "nrows": null,
       "postfix": [
        {
         "value": "Status"
        }
       ],
       "prefix": "chain 2",
       "rate": null,
       "total": 52,
       "unit": "it",
       "unit_divisor": 1000,
       "unit_scale": false
      },
      "application/vnd.jupyter.widget-view+json": {
       "model_id": "ceb6ea6f959f41c08045a9f2e1444dd9",
       "version_major": 2,
       "version_minor": 0
      },
      "text/plain": [
       "chain 2 |          | 00:00 Status"
      ]
     },
     "metadata": {},
     "output_type": "display_data"
    },
    {
     "data": {
      "application/json": {
       "ascii": false,
       "bar_format": "{desc} |{bar}| {elapsed} {postfix[0][value]}",
       "colour": null,
       "elapsed": 0.019379377365112305,
       "initial": 0,
       "n": 0,
       "ncols": null,
       "nrows": null,
       "postfix": [
        {
         "value": "Status"
        }
       ],
       "prefix": "chain 3",
       "rate": null,
       "total": 52,
       "unit": "it",
       "unit_divisor": 1000,
       "unit_scale": false
      },
      "application/vnd.jupyter.widget-view+json": {
       "model_id": "791b5b1ff6ff4ffeba87fa49fd942921",
       "version_major": 2,
       "version_minor": 0
      },
      "text/plain": [
       "chain 3 |          | 00:00 Status"
      ]
     },
     "metadata": {},
     "output_type": "display_data"
    },
    {
     "data": {
      "application/json": {
       "ascii": false,
       "bar_format": "{desc} |{bar}| {elapsed} {postfix[0][value]}",
       "colour": null,
       "elapsed": 0.01937079429626465,
       "initial": 0,
       "n": 0,
       "ncols": null,
       "nrows": null,
       "postfix": [
        {
         "value": "Status"
        }
       ],
       "prefix": "chain 4",
       "rate": null,
       "total": 52,
       "unit": "it",
       "unit_divisor": 1000,
       "unit_scale": false
      },
      "application/vnd.jupyter.widget-view+json": {
       "model_id": "cc3834ad07a444b7b178923291f99e46",
       "version_major": 2,
       "version_minor": 0
      },
      "text/plain": [
       "chain 4 |          | 00:00 Status"
      ]
     },
     "metadata": {},
     "output_type": "display_data"
    },
    {
     "name": "stdout",
     "output_type": "stream",
     "text": [
      "                                                                                                                                                                                                                                                                                                                                \n"
     ]
    },
    {
     "name": "stderr",
     "output_type": "stream",
     "text": [
      "2025-07-15 11:47:47 - orbit - INFO - Sampling (PyStan) with chains: 4, cores: 8, temperature: 1.000, warmups (per chain): 2500 and samples(per chain): 2500.\n"
     ]
    },
    {
     "data": {
      "application/json": {
       "ascii": false,
       "bar_format": "{desc} |{bar}| {elapsed} {postfix[0][value]}",
       "colour": null,
       "elapsed": 0.02043008804321289,
       "initial": 0,
       "n": 0,
       "ncols": null,
       "nrows": null,
       "postfix": [
        {
         "value": "Status"
        }
       ],
       "prefix": "chain 1",
       "rate": null,
       "total": 52,
       "unit": "it",
       "unit_divisor": 1000,
       "unit_scale": false
      },
      "application/vnd.jupyter.widget-view+json": {
       "model_id": "ae2eea6822c54d48ac4be31c469d8b5f",
       "version_major": 2,
       "version_minor": 0
      },
      "text/plain": [
       "chain 1 |          | 00:00 Status"
      ]
     },
     "metadata": {},
     "output_type": "display_data"
    },
    {
     "data": {
      "application/json": {
       "ascii": false,
       "bar_format": "{desc} |{bar}| {elapsed} {postfix[0][value]}",
       "colour": null,
       "elapsed": 0.019723176956176758,
       "initial": 0,
       "n": 0,
       "ncols": null,
       "nrows": null,
       "postfix": [
        {
         "value": "Status"
        }
       ],
       "prefix": "chain 2",
       "rate": null,
       "total": 52,
       "unit": "it",
       "unit_divisor": 1000,
       "unit_scale": false
      },
      "application/vnd.jupyter.widget-view+json": {
       "model_id": "75fdb25cc67b4c608f48c37448e1d0d5",
       "version_major": 2,
       "version_minor": 0
      },
      "text/plain": [
       "chain 2 |          | 00:00 Status"
      ]
     },
     "metadata": {},
     "output_type": "display_data"
    },
    {
     "data": {
      "application/json": {
       "ascii": false,
       "bar_format": "{desc} |{bar}| {elapsed} {postfix[0][value]}",
       "colour": null,
       "elapsed": 0.017113447189331055,
       "initial": 0,
       "n": 0,
       "ncols": null,
       "nrows": null,
       "postfix": [
        {
         "value": "Status"
        }
       ],
       "prefix": "chain 3",
       "rate": null,
       "total": 52,
       "unit": "it",
       "unit_divisor": 1000,
       "unit_scale": false
      },
      "application/vnd.jupyter.widget-view+json": {
       "model_id": "e7bdd8fd94af444e9c74a5cbf9173bac",
       "version_major": 2,
       "version_minor": 0
      },
      "text/plain": [
       "chain 3 |          | 00:00 Status"
      ]
     },
     "metadata": {},
     "output_type": "display_data"
    },
    {
     "data": {
      "application/json": {
       "ascii": false,
       "bar_format": "{desc} |{bar}| {elapsed} {postfix[0][value]}",
       "colour": null,
       "elapsed": 0.017050981521606445,
       "initial": 0,
       "n": 0,
       "ncols": null,
       "nrows": null,
       "postfix": [
        {
         "value": "Status"
        }
       ],
       "prefix": "chain 4",
       "rate": null,
       "total": 52,
       "unit": "it",
       "unit_divisor": 1000,
       "unit_scale": false
      },
      "application/vnd.jupyter.widget-view+json": {
       "model_id": "42b722a6a505408a894919787193d424",
       "version_major": 2,
       "version_minor": 0
      },
      "text/plain": [
       "chain 4 |          | 00:00 Status"
      ]
     },
     "metadata": {},
     "output_type": "display_data"
    },
    {
     "name": "stdout",
     "output_type": "stream",
     "text": [
      "                                                                                                                                                                                                                                                                                                                                \n"
     ]
    },
    {
     "name": "stderr",
     "output_type": "stream",
     "text": [
      "2025-07-15 11:47:50 - orbit - INFO - Sampling (PyStan) with chains: 4, cores: 8, temperature: 1.000, warmups (per chain): 2500 and samples(per chain): 2500.\n"
     ]
    },
    {
     "data": {
      "application/json": {
       "ascii": false,
       "bar_format": "{desc} |{bar}| {elapsed} {postfix[0][value]}",
       "colour": null,
       "elapsed": 0.022031307220458984,
       "initial": 0,
       "n": 0,
       "ncols": null,
       "nrows": null,
       "postfix": [
        {
         "value": "Status"
        }
       ],
       "prefix": "chain 1",
       "rate": null,
       "total": 52,
       "unit": "it",
       "unit_divisor": 1000,
       "unit_scale": false
      },
      "application/vnd.jupyter.widget-view+json": {
       "model_id": "27514b72bd44441b80192a61fa9138ce",
       "version_major": 2,
       "version_minor": 0
      },
      "text/plain": [
       "chain 1 |          | 00:00 Status"
      ]
     },
     "metadata": {},
     "output_type": "display_data"
    },
    {
     "data": {
      "application/json": {
       "ascii": false,
       "bar_format": "{desc} |{bar}| {elapsed} {postfix[0][value]}",
       "colour": null,
       "elapsed": 0.018660545349121094,
       "initial": 0,
       "n": 0,
       "ncols": null,
       "nrows": null,
       "postfix": [
        {
         "value": "Status"
        }
       ],
       "prefix": "chain 2",
       "rate": null,
       "total": 52,
       "unit": "it",
       "unit_divisor": 1000,
       "unit_scale": false
      },
      "application/vnd.jupyter.widget-view+json": {
       "model_id": "52a28f99d4f24afeab367be06bb92124",
       "version_major": 2,
       "version_minor": 0
      },
      "text/plain": [
       "chain 2 |          | 00:00 Status"
      ]
     },
     "metadata": {},
     "output_type": "display_data"
    },
    {
     "data": {
      "application/json": {
       "ascii": false,
       "bar_format": "{desc} |{bar}| {elapsed} {postfix[0][value]}",
       "colour": null,
       "elapsed": 0.01735401153564453,
       "initial": 0,
       "n": 0,
       "ncols": null,
       "nrows": null,
       "postfix": [
        {
         "value": "Status"
        }
       ],
       "prefix": "chain 3",
       "rate": null,
       "total": 52,
       "unit": "it",
       "unit_divisor": 1000,
       "unit_scale": false
      },
      "application/vnd.jupyter.widget-view+json": {
       "model_id": "cd45ec08775d46a5befafe8976d6d308",
       "version_major": 2,
       "version_minor": 0
      },
      "text/plain": [
       "chain 3 |          | 00:00 Status"
      ]
     },
     "metadata": {},
     "output_type": "display_data"
    },
    {
     "data": {
      "application/json": {
       "ascii": false,
       "bar_format": "{desc} |{bar}| {elapsed} {postfix[0][value]}",
       "colour": null,
       "elapsed": 0.018265247344970703,
       "initial": 0,
       "n": 0,
       "ncols": null,
       "nrows": null,
       "postfix": [
        {
         "value": "Status"
        }
       ],
       "prefix": "chain 4",
       "rate": null,
       "total": 52,
       "unit": "it",
       "unit_divisor": 1000,
       "unit_scale": false
      },
      "application/vnd.jupyter.widget-view+json": {
       "model_id": "fbae85f8618446859e772278853a804a",
       "version_major": 2,
       "version_minor": 0
      },
      "text/plain": [
       "chain 4 |          | 00:00 Status"
      ]
     },
     "metadata": {},
     "output_type": "display_data"
    },
    {
     "name": "stdout",
     "output_type": "stream",
     "text": [
      "                                                                                                                                                                                                                                                                                                                                \n"
     ]
    },
    {
     "name": "stderr",
     "output_type": "stream",
     "text": [
      "2025-07-15 11:47:52 - orbit - INFO - Sampling (PyStan) with chains: 4, cores: 8, temperature: 1.000, warmups (per chain): 2500 and samples(per chain): 2500.\n"
     ]
    },
    {
     "data": {
      "application/json": {
       "ascii": false,
       "bar_format": "{desc} |{bar}| {elapsed} {postfix[0][value]}",
       "colour": null,
       "elapsed": 0.020636558532714844,
       "initial": 0,
       "n": 0,
       "ncols": null,
       "nrows": null,
       "postfix": [
        {
         "value": "Status"
        }
       ],
       "prefix": "chain 1",
       "rate": null,
       "total": 52,
       "unit": "it",
       "unit_divisor": 1000,
       "unit_scale": false
      },
      "application/vnd.jupyter.widget-view+json": {
       "model_id": "e1ca111f51444a029220d966078961f8",
       "version_major": 2,
       "version_minor": 0
      },
      "text/plain": [
       "chain 1 |          | 00:00 Status"
      ]
     },
     "metadata": {},
     "output_type": "display_data"
    },
    {
     "data": {
      "application/json": {
       "ascii": false,
       "bar_format": "{desc} |{bar}| {elapsed} {postfix[0][value]}",
       "colour": null,
       "elapsed": 0.017614364624023438,
       "initial": 0,
       "n": 0,
       "ncols": null,
       "nrows": null,
       "postfix": [
        {
         "value": "Status"
        }
       ],
       "prefix": "chain 2",
       "rate": null,
       "total": 52,
       "unit": "it",
       "unit_divisor": 1000,
       "unit_scale": false
      },
      "application/vnd.jupyter.widget-view+json": {
       "model_id": "dfc28a4b1f05448184a2dfc339b19965",
       "version_major": 2,
       "version_minor": 0
      },
      "text/plain": [
       "chain 2 |          | 00:00 Status"
      ]
     },
     "metadata": {},
     "output_type": "display_data"
    },
    {
     "data": {
      "application/json": {
       "ascii": false,
       "bar_format": "{desc} |{bar}| {elapsed} {postfix[0][value]}",
       "colour": null,
       "elapsed": 0.017319202423095703,
       "initial": 0,
       "n": 0,
       "ncols": null,
       "nrows": null,
       "postfix": [
        {
         "value": "Status"
        }
       ],
       "prefix": "chain 3",
       "rate": null,
       "total": 52,
       "unit": "it",
       "unit_divisor": 1000,
       "unit_scale": false
      },
      "application/vnd.jupyter.widget-view+json": {
       "model_id": "857722b47fa94c1e9e1278afaf53c9c4",
       "version_major": 2,
       "version_minor": 0
      },
      "text/plain": [
       "chain 3 |          | 00:00 Status"
      ]
     },
     "metadata": {},
     "output_type": "display_data"
    },
    {
     "data": {
      "application/json": {
       "ascii": false,
       "bar_format": "{desc} |{bar}| {elapsed} {postfix[0][value]}",
       "colour": null,
       "elapsed": 0.018436431884765625,
       "initial": 0,
       "n": 0,
       "ncols": null,
       "nrows": null,
       "postfix": [
        {
         "value": "Status"
        }
       ],
       "prefix": "chain 4",
       "rate": null,
       "total": 52,
       "unit": "it",
       "unit_divisor": 1000,
       "unit_scale": false
      },
      "application/vnd.jupyter.widget-view+json": {
       "model_id": "c4b6b2c4c55b4445bdc41905620f96e5",
       "version_major": 2,
       "version_minor": 0
      },
      "text/plain": [
       "chain 4 |          | 00:00 Status"
      ]
     },
     "metadata": {},
     "output_type": "display_data"
    },
    {
     "name": "stdout",
     "output_type": "stream",
     "text": [
      "                                                                                                                                                                                                                                                                                                                                \n"
     ]
    },
    {
     "name": "stderr",
     "output_type": "stream",
     "text": [
      "2025-07-15 11:47:55 - orbit - INFO - Sampling (PyStan) with chains: 4, cores: 8, temperature: 1.000, warmups (per chain): 2500 and samples(per chain): 2500.\n"
     ]
    },
    {
     "data": {
      "application/json": {
       "ascii": false,
       "bar_format": "{desc} |{bar}| {elapsed} {postfix[0][value]}",
       "colour": null,
       "elapsed": 0.02233290672302246,
       "initial": 0,
       "n": 0,
       "ncols": null,
       "nrows": null,
       "postfix": [
        {
         "value": "Status"
        }
       ],
       "prefix": "chain 1",
       "rate": null,
       "total": 52,
       "unit": "it",
       "unit_divisor": 1000,
       "unit_scale": false
      },
      "application/vnd.jupyter.widget-view+json": {
       "model_id": "4ab3932d6dbb41ee82405b78d34692d1",
       "version_major": 2,
       "version_minor": 0
      },
      "text/plain": [
       "chain 1 |          | 00:00 Status"
      ]
     },
     "metadata": {},
     "output_type": "display_data"
    },
    {
     "data": {
      "application/json": {
       "ascii": false,
       "bar_format": "{desc} |{bar}| {elapsed} {postfix[0][value]}",
       "colour": null,
       "elapsed": 0.018414020538330078,
       "initial": 0,
       "n": 0,
       "ncols": null,
       "nrows": null,
       "postfix": [
        {
         "value": "Status"
        }
       ],
       "prefix": "chain 2",
       "rate": null,
       "total": 52,
       "unit": "it",
       "unit_divisor": 1000,
       "unit_scale": false
      },
      "application/vnd.jupyter.widget-view+json": {
       "model_id": "ff4218d9576c4ec7bfed91aba6b46130",
       "version_major": 2,
       "version_minor": 0
      },
      "text/plain": [
       "chain 2 |          | 00:00 Status"
      ]
     },
     "metadata": {},
     "output_type": "display_data"
    },
    {
     "data": {
      "application/json": {
       "ascii": false,
       "bar_format": "{desc} |{bar}| {elapsed} {postfix[0][value]}",
       "colour": null,
       "elapsed": 0.02203655242919922,
       "initial": 0,
       "n": 0,
       "ncols": null,
       "nrows": null,
       "postfix": [
        {
         "value": "Status"
        }
       ],
       "prefix": "chain 3",
       "rate": null,
       "total": 52,
       "unit": "it",
       "unit_divisor": 1000,
       "unit_scale": false
      },
      "application/vnd.jupyter.widget-view+json": {
       "model_id": "0b460aa712d24cf3b10b30005a6defd6",
       "version_major": 2,
       "version_minor": 0
      },
      "text/plain": [
       "chain 3 |          | 00:00 Status"
      ]
     },
     "metadata": {},
     "output_type": "display_data"
    },
    {
     "data": {
      "application/json": {
       "ascii": false,
       "bar_format": "{desc} |{bar}| {elapsed} {postfix[0][value]}",
       "colour": null,
       "elapsed": 0.0174868106842041,
       "initial": 0,
       "n": 0,
       "ncols": null,
       "nrows": null,
       "postfix": [
        {
         "value": "Status"
        }
       ],
       "prefix": "chain 4",
       "rate": null,
       "total": 52,
       "unit": "it",
       "unit_divisor": 1000,
       "unit_scale": false
      },
      "application/vnd.jupyter.widget-view+json": {
       "model_id": "73cf63bb82f9481489b14ff2816d9e44",
       "version_major": 2,
       "version_minor": 0
      },
      "text/plain": [
       "chain 4 |          | 00:00 Status"
      ]
     },
     "metadata": {},
     "output_type": "display_data"
    },
    {
     "name": "stdout",
     "output_type": "stream",
     "text": [
      "                                                                                                                                                                                                                                                                                                                                \n"
     ]
    },
    {
     "name": "stderr",
     "output_type": "stream",
     "text": [
      "2025-07-15 11:47:57 - orbit - INFO - Sampling (PyStan) with chains: 4, cores: 8, temperature: 1.000, warmups (per chain): 2500 and samples(per chain): 2500.\n"
     ]
    },
    {
     "data": {
      "application/json": {
       "ascii": false,
       "bar_format": "{desc} |{bar}| {elapsed} {postfix[0][value]}",
       "colour": null,
       "elapsed": 0.020180463790893555,
       "initial": 0,
       "n": 0,
       "ncols": null,
       "nrows": null,
       "postfix": [
        {
         "value": "Status"
        }
       ],
       "prefix": "chain 1",
       "rate": null,
       "total": 52,
       "unit": "it",
       "unit_divisor": 1000,
       "unit_scale": false
      },
      "application/vnd.jupyter.widget-view+json": {
       "model_id": "d9a06947877a4a2dbd5d575678e72e15",
       "version_major": 2,
       "version_minor": 0
      },
      "text/plain": [
       "chain 1 |          | 00:00 Status"
      ]
     },
     "metadata": {},
     "output_type": "display_data"
    },
    {
     "data": {
      "application/json": {
       "ascii": false,
       "bar_format": "{desc} |{bar}| {elapsed} {postfix[0][value]}",
       "colour": null,
       "elapsed": 0.023622989654541016,
       "initial": 0,
       "n": 0,
       "ncols": null,
       "nrows": null,
       "postfix": [
        {
         "value": "Status"
        }
       ],
       "prefix": "chain 2",
       "rate": null,
       "total": 52,
       "unit": "it",
       "unit_divisor": 1000,
       "unit_scale": false
      },
      "application/vnd.jupyter.widget-view+json": {
       "model_id": "9b63ed584c3c47e891d6956abbce4902",
       "version_major": 2,
       "version_minor": 0
      },
      "text/plain": [
       "chain 2 |          | 00:00 Status"
      ]
     },
     "metadata": {},
     "output_type": "display_data"
    },
    {
     "data": {
      "application/json": {
       "ascii": false,
       "bar_format": "{desc} |{bar}| {elapsed} {postfix[0][value]}",
       "colour": null,
       "elapsed": 0.01894211769104004,
       "initial": 0,
       "n": 0,
       "ncols": null,
       "nrows": null,
       "postfix": [
        {
         "value": "Status"
        }
       ],
       "prefix": "chain 3",
       "rate": null,
       "total": 52,
       "unit": "it",
       "unit_divisor": 1000,
       "unit_scale": false
      },
      "application/vnd.jupyter.widget-view+json": {
       "model_id": "fad63611df524563af233fb8eeea1fd4",
       "version_major": 2,
       "version_minor": 0
      },
      "text/plain": [
       "chain 3 |          | 00:00 Status"
      ]
     },
     "metadata": {},
     "output_type": "display_data"
    },
    {
     "data": {
      "application/json": {
       "ascii": false,
       "bar_format": "{desc} |{bar}| {elapsed} {postfix[0][value]}",
       "colour": null,
       "elapsed": 0.016515016555786133,
       "initial": 0,
       "n": 0,
       "ncols": null,
       "nrows": null,
       "postfix": [
        {
         "value": "Status"
        }
       ],
       "prefix": "chain 4",
       "rate": null,
       "total": 52,
       "unit": "it",
       "unit_divisor": 1000,
       "unit_scale": false
      },
      "application/vnd.jupyter.widget-view+json": {
       "model_id": "508d8326469846ba97b154fc68e44423",
       "version_major": 2,
       "version_minor": 0
      },
      "text/plain": [
       "chain 4 |          | 00:00 Status"
      ]
     },
     "metadata": {},
     "output_type": "display_data"
    },
    {
     "name": "stdout",
     "output_type": "stream",
     "text": [
      "                                                                                                                                                                                                                                                                                                                                \n"
     ]
    },
    {
     "name": "stderr",
     "output_type": "stream",
     "text": [
      "2025-07-15 11:47:59 - orbit - INFO - Sampling (PyStan) with chains: 4, cores: 8, temperature: 1.000, warmups (per chain): 2500 and samples(per chain): 2500.\n"
     ]
    },
    {
     "data": {
      "application/json": {
       "ascii": false,
       "bar_format": "{desc} |{bar}| {elapsed} {postfix[0][value]}",
       "colour": null,
       "elapsed": 0.022759675979614258,
       "initial": 0,
       "n": 0,
       "ncols": null,
       "nrows": null,
       "postfix": [
        {
         "value": "Status"
        }
       ],
       "prefix": "chain 1",
       "rate": null,
       "total": 52,
       "unit": "it",
       "unit_divisor": 1000,
       "unit_scale": false
      },
      "application/vnd.jupyter.widget-view+json": {
       "model_id": "bba34ccfb3b84af7bbdc5350510bb3f8",
       "version_major": 2,
       "version_minor": 0
      },
      "text/plain": [
       "chain 1 |          | 00:00 Status"
      ]
     },
     "metadata": {},
     "output_type": "display_data"
    },
    {
     "data": {
      "application/json": {
       "ascii": false,
       "bar_format": "{desc} |{bar}| {elapsed} {postfix[0][value]}",
       "colour": null,
       "elapsed": 0.020198583602905273,
       "initial": 0,
       "n": 0,
       "ncols": null,
       "nrows": null,
       "postfix": [
        {
         "value": "Status"
        }
       ],
       "prefix": "chain 2",
       "rate": null,
       "total": 52,
       "unit": "it",
       "unit_divisor": 1000,
       "unit_scale": false
      },
      "application/vnd.jupyter.widget-view+json": {
       "model_id": "4fc1122dc2a34961983a1007fbdb371a",
       "version_major": 2,
       "version_minor": 0
      },
      "text/plain": [
       "chain 2 |          | 00:00 Status"
      ]
     },
     "metadata": {},
     "output_type": "display_data"
    },
    {
     "data": {
      "application/json": {
       "ascii": false,
       "bar_format": "{desc} |{bar}| {elapsed} {postfix[0][value]}",
       "colour": null,
       "elapsed": 0.01808929443359375,
       "initial": 0,
       "n": 0,
       "ncols": null,
       "nrows": null,
       "postfix": [
        {
         "value": "Status"
        }
       ],
       "prefix": "chain 3",
       "rate": null,
       "total": 52,
       "unit": "it",
       "unit_divisor": 1000,
       "unit_scale": false
      },
      "application/vnd.jupyter.widget-view+json": {
       "model_id": "0f51a1ac66954cb0ada69154b9919ba7",
       "version_major": 2,
       "version_minor": 0
      },
      "text/plain": [
       "chain 3 |          | 00:00 Status"
      ]
     },
     "metadata": {},
     "output_type": "display_data"
    },
    {
     "data": {
      "application/json": {
       "ascii": false,
       "bar_format": "{desc} |{bar}| {elapsed} {postfix[0][value]}",
       "colour": null,
       "elapsed": 0.01723623275756836,
       "initial": 0,
       "n": 0,
       "ncols": null,
       "nrows": null,
       "postfix": [
        {
         "value": "Status"
        }
       ],
       "prefix": "chain 4",
       "rate": null,
       "total": 52,
       "unit": "it",
       "unit_divisor": 1000,
       "unit_scale": false
      },
      "application/vnd.jupyter.widget-view+json": {
       "model_id": "0d5924c7d2fc44a49ba4f9981c0b029d",
       "version_major": 2,
       "version_minor": 0
      },
      "text/plain": [
       "chain 4 |          | 00:00 Status"
      ]
     },
     "metadata": {},
     "output_type": "display_data"
    },
    {
     "name": "stdout",
     "output_type": "stream",
     "text": [
      "                                                                                                                                                                                                                                                                                                                                \n"
     ]
    },
    {
     "name": "stderr",
     "output_type": "stream",
     "text": [
      "2025-07-15 11:48:02 - orbit - INFO - Sampling (PyStan) with chains: 4, cores: 8, temperature: 1.000, warmups (per chain): 2500 and samples(per chain): 2500.\n"
     ]
    },
    {
     "data": {
      "application/json": {
       "ascii": false,
       "bar_format": "{desc} |{bar}| {elapsed} {postfix[0][value]}",
       "colour": null,
       "elapsed": 0.02154850959777832,
       "initial": 0,
       "n": 0,
       "ncols": null,
       "nrows": null,
       "postfix": [
        {
         "value": "Status"
        }
       ],
       "prefix": "chain 1",
       "rate": null,
       "total": 52,
       "unit": "it",
       "unit_divisor": 1000,
       "unit_scale": false
      },
      "application/vnd.jupyter.widget-view+json": {
       "model_id": "e3b964fec6934e14a5bdca4923bff35d",
       "version_major": 2,
       "version_minor": 0
      },
      "text/plain": [
       "chain 1 |          | 00:00 Status"
      ]
     },
     "metadata": {},
     "output_type": "display_data"
    },
    {
     "data": {
      "application/json": {
       "ascii": false,
       "bar_format": "{desc} |{bar}| {elapsed} {postfix[0][value]}",
       "colour": null,
       "elapsed": 0.017667770385742188,
       "initial": 0,
       "n": 0,
       "ncols": null,
       "nrows": null,
       "postfix": [
        {
         "value": "Status"
        }
       ],
       "prefix": "chain 2",
       "rate": null,
       "total": 52,
       "unit": "it",
       "unit_divisor": 1000,
       "unit_scale": false
      },
      "application/vnd.jupyter.widget-view+json": {
       "model_id": "02c61f1c9c9541a787d4915f6571fc45",
       "version_major": 2,
       "version_minor": 0
      },
      "text/plain": [
       "chain 2 |          | 00:00 Status"
      ]
     },
     "metadata": {},
     "output_type": "display_data"
    },
    {
     "data": {
      "application/json": {
       "ascii": false,
       "bar_format": "{desc} |{bar}| {elapsed} {postfix[0][value]}",
       "colour": null,
       "elapsed": 0.017871379852294922,
       "initial": 0,
       "n": 0,
       "ncols": null,
       "nrows": null,
       "postfix": [
        {
         "value": "Status"
        }
       ],
       "prefix": "chain 3",
       "rate": null,
       "total": 52,
       "unit": "it",
       "unit_divisor": 1000,
       "unit_scale": false
      },
      "application/vnd.jupyter.widget-view+json": {
       "model_id": "4312a1e6dcdc4bf59e33c3e1af91d356",
       "version_major": 2,
       "version_minor": 0
      },
      "text/plain": [
       "chain 3 |          | 00:00 Status"
      ]
     },
     "metadata": {},
     "output_type": "display_data"
    },
    {
     "data": {
      "application/json": {
       "ascii": false,
       "bar_format": "{desc} |{bar}| {elapsed} {postfix[0][value]}",
       "colour": null,
       "elapsed": 0.01768326759338379,
       "initial": 0,
       "n": 0,
       "ncols": null,
       "nrows": null,
       "postfix": [
        {
         "value": "Status"
        }
       ],
       "prefix": "chain 4",
       "rate": null,
       "total": 52,
       "unit": "it",
       "unit_divisor": 1000,
       "unit_scale": false
      },
      "application/vnd.jupyter.widget-view+json": {
       "model_id": "da36258a176e464ca7aabf8d7630ee6d",
       "version_major": 2,
       "version_minor": 0
      },
      "text/plain": [
       "chain 4 |          | 00:00 Status"
      ]
     },
     "metadata": {},
     "output_type": "display_data"
    },
    {
     "name": "stdout",
     "output_type": "stream",
     "text": [
      "                                                                                                                                                                                                                                                                                                                                \n"
     ]
    },
    {
     "name": "stderr",
     "output_type": "stream",
     "text": [
      "2025-07-15 11:48:04 - orbit - INFO - Sampling (PyStan) with chains: 4, cores: 8, temperature: 1.000, warmups (per chain): 2500 and samples(per chain): 2500.\n"
     ]
    },
    {
     "data": {
      "application/json": {
       "ascii": false,
       "bar_format": "{desc} |{bar}| {elapsed} {postfix[0][value]}",
       "colour": null,
       "elapsed": 0.021382570266723633,
       "initial": 0,
       "n": 0,
       "ncols": null,
       "nrows": null,
       "postfix": [
        {
         "value": "Status"
        }
       ],
       "prefix": "chain 1",
       "rate": null,
       "total": 52,
       "unit": "it",
       "unit_divisor": 1000,
       "unit_scale": false
      },
      "application/vnd.jupyter.widget-view+json": {
       "model_id": "c43753842878484184554e0b8a5b095b",
       "version_major": 2,
       "version_minor": 0
      },
      "text/plain": [
       "chain 1 |          | 00:00 Status"
      ]
     },
     "metadata": {},
     "output_type": "display_data"
    },
    {
     "data": {
      "application/json": {
       "ascii": false,
       "bar_format": "{desc} |{bar}| {elapsed} {postfix[0][value]}",
       "colour": null,
       "elapsed": 0.02076125144958496,
       "initial": 0,
       "n": 0,
       "ncols": null,
       "nrows": null,
       "postfix": [
        {
         "value": "Status"
        }
       ],
       "prefix": "chain 2",
       "rate": null,
       "total": 52,
       "unit": "it",
       "unit_divisor": 1000,
       "unit_scale": false
      },
      "application/vnd.jupyter.widget-view+json": {
       "model_id": "6952f4eb3e5440158e75ef175cd94984",
       "version_major": 2,
       "version_minor": 0
      },
      "text/plain": [
       "chain 2 |          | 00:00 Status"
      ]
     },
     "metadata": {},
     "output_type": "display_data"
    },
    {
     "data": {
      "application/json": {
       "ascii": false,
       "bar_format": "{desc} |{bar}| {elapsed} {postfix[0][value]}",
       "colour": null,
       "elapsed": 0.018162012100219727,
       "initial": 0,
       "n": 0,
       "ncols": null,
       "nrows": null,
       "postfix": [
        {
         "value": "Status"
        }
       ],
       "prefix": "chain 3",
       "rate": null,
       "total": 52,
       "unit": "it",
       "unit_divisor": 1000,
       "unit_scale": false
      },
      "application/vnd.jupyter.widget-view+json": {
       "model_id": "12e461ca28594911978d48d5dd710790",
       "version_major": 2,
       "version_minor": 0
      },
      "text/plain": [
       "chain 3 |          | 00:00 Status"
      ]
     },
     "metadata": {},
     "output_type": "display_data"
    },
    {
     "data": {
      "application/json": {
       "ascii": false,
       "bar_format": "{desc} |{bar}| {elapsed} {postfix[0][value]}",
       "colour": null,
       "elapsed": 0.017984628677368164,
       "initial": 0,
       "n": 0,
       "ncols": null,
       "nrows": null,
       "postfix": [
        {
         "value": "Status"
        }
       ],
       "prefix": "chain 4",
       "rate": null,
       "total": 52,
       "unit": "it",
       "unit_divisor": 1000,
       "unit_scale": false
      },
      "application/vnd.jupyter.widget-view+json": {
       "model_id": "f1024c801f8942ceb377e1af9ae6f06b",
       "version_major": 2,
       "version_minor": 0
      },
      "text/plain": [
       "chain 4 |          | 00:00 Status"
      ]
     },
     "metadata": {},
     "output_type": "display_data"
    },
    {
     "name": "stdout",
     "output_type": "stream",
     "text": [
      "                                                                                                                                                                                                                                                                                                                                \n"
     ]
    },
    {
     "name": "stderr",
     "output_type": "stream",
     "text": [
      "2025-07-15 11:48:07 - orbit - INFO - Sampling (PyStan) with chains: 4, cores: 8, temperature: 1.000, warmups (per chain): 2500 and samples(per chain): 2500.\n"
     ]
    },
    {
     "data": {
      "application/json": {
       "ascii": false,
       "bar_format": "{desc} |{bar}| {elapsed} {postfix[0][value]}",
       "colour": null,
       "elapsed": 0.029009580612182617,
       "initial": 0,
       "n": 0,
       "ncols": null,
       "nrows": null,
       "postfix": [
        {
         "value": "Status"
        }
       ],
       "prefix": "chain 1",
       "rate": null,
       "total": 52,
       "unit": "it",
       "unit_divisor": 1000,
       "unit_scale": false
      },
      "application/vnd.jupyter.widget-view+json": {
       "model_id": "61bc2f100ce949488414062b4556d541",
       "version_major": 2,
       "version_minor": 0
      },
      "text/plain": [
       "chain 1 |          | 00:00 Status"
      ]
     },
     "metadata": {},
     "output_type": "display_data"
    },
    {
     "data": {
      "application/json": {
       "ascii": false,
       "bar_format": "{desc} |{bar}| {elapsed} {postfix[0][value]}",
       "colour": null,
       "elapsed": 0.019736528396606445,
       "initial": 0,
       "n": 0,
       "ncols": null,
       "nrows": null,
       "postfix": [
        {
         "value": "Status"
        }
       ],
       "prefix": "chain 2",
       "rate": null,
       "total": 52,
       "unit": "it",
       "unit_divisor": 1000,
       "unit_scale": false
      },
      "application/vnd.jupyter.widget-view+json": {
       "model_id": "8e564a6f971d416ebcb1fe4bce8d01ec",
       "version_major": 2,
       "version_minor": 0
      },
      "text/plain": [
       "chain 2 |          | 00:00 Status"
      ]
     },
     "metadata": {},
     "output_type": "display_data"
    },
    {
     "data": {
      "application/json": {
       "ascii": false,
       "bar_format": "{desc} |{bar}| {elapsed} {postfix[0][value]}",
       "colour": null,
       "elapsed": 0.01901698112487793,
       "initial": 0,
       "n": 0,
       "ncols": null,
       "nrows": null,
       "postfix": [
        {
         "value": "Status"
        }
       ],
       "prefix": "chain 3",
       "rate": null,
       "total": 52,
       "unit": "it",
       "unit_divisor": 1000,
       "unit_scale": false
      },
      "application/vnd.jupyter.widget-view+json": {
       "model_id": "feebee135d5f4241aab93bab9c3f4e3b",
       "version_major": 2,
       "version_minor": 0
      },
      "text/plain": [
       "chain 3 |          | 00:00 Status"
      ]
     },
     "metadata": {},
     "output_type": "display_data"
    },
    {
     "data": {
      "application/json": {
       "ascii": false,
       "bar_format": "{desc} |{bar}| {elapsed} {postfix[0][value]}",
       "colour": null,
       "elapsed": 0.01808929443359375,
       "initial": 0,
       "n": 0,
       "ncols": null,
       "nrows": null,
       "postfix": [
        {
         "value": "Status"
        }
       ],
       "prefix": "chain 4",
       "rate": null,
       "total": 52,
       "unit": "it",
       "unit_divisor": 1000,
       "unit_scale": false
      },
      "application/vnd.jupyter.widget-view+json": {
       "model_id": "eacb481efa3745399ec890da84a9dfd2",
       "version_major": 2,
       "version_minor": 0
      },
      "text/plain": [
       "chain 4 |          | 00:00 Status"
      ]
     },
     "metadata": {},
     "output_type": "display_data"
    },
    {
     "name": "stdout",
     "output_type": "stream",
     "text": [
      "                                                                                                                                                                                                                                                                                                                                \n"
     ]
    },
    {
     "name": "stderr",
     "output_type": "stream",
     "text": [
      "2025-07-15 11:48:09 - orbit - INFO - Sampling (PyStan) with chains: 4, cores: 8, temperature: 1.000, warmups (per chain): 2500 and samples(per chain): 2500.\n"
     ]
    },
    {
     "data": {
      "application/json": {
       "ascii": false,
       "bar_format": "{desc} |{bar}| {elapsed} {postfix[0][value]}",
       "colour": null,
       "elapsed": 0.021034955978393555,
       "initial": 0,
       "n": 0,
       "ncols": null,
       "nrows": null,
       "postfix": [
        {
         "value": "Status"
        }
       ],
       "prefix": "chain 1",
       "rate": null,
       "total": 52,
       "unit": "it",
       "unit_divisor": 1000,
       "unit_scale": false
      },
      "application/vnd.jupyter.widget-view+json": {
       "model_id": "06807c6f40734464b53401eed3308f04",
       "version_major": 2,
       "version_minor": 0
      },
      "text/plain": [
       "chain 1 |          | 00:00 Status"
      ]
     },
     "metadata": {},
     "output_type": "display_data"
    },
    {
     "data": {
      "application/json": {
       "ascii": false,
       "bar_format": "{desc} |{bar}| {elapsed} {postfix[0][value]}",
       "colour": null,
       "elapsed": 0.018012046813964844,
       "initial": 0,
       "n": 0,
       "ncols": null,
       "nrows": null,
       "postfix": [
        {
         "value": "Status"
        }
       ],
       "prefix": "chain 2",
       "rate": null,
       "total": 52,
       "unit": "it",
       "unit_divisor": 1000,
       "unit_scale": false
      },
      "application/vnd.jupyter.widget-view+json": {
       "model_id": "6ede103d1f4c48359a162cdafd7d1472",
       "version_major": 2,
       "version_minor": 0
      },
      "text/plain": [
       "chain 2 |          | 00:00 Status"
      ]
     },
     "metadata": {},
     "output_type": "display_data"
    },
    {
     "data": {
      "application/json": {
       "ascii": false,
       "bar_format": "{desc} |{bar}| {elapsed} {postfix[0][value]}",
       "colour": null,
       "elapsed": 0.018086910247802734,
       "initial": 0,
       "n": 0,
       "ncols": null,
       "nrows": null,
       "postfix": [
        {
         "value": "Status"
        }
       ],
       "prefix": "chain 3",
       "rate": null,
       "total": 52,
       "unit": "it",
       "unit_divisor": 1000,
       "unit_scale": false
      },
      "application/vnd.jupyter.widget-view+json": {
       "model_id": "6b83084532af4fa297a175cf98db0c5c",
       "version_major": 2,
       "version_minor": 0
      },
      "text/plain": [
       "chain 3 |          | 00:00 Status"
      ]
     },
     "metadata": {},
     "output_type": "display_data"
    },
    {
     "data": {
      "application/json": {
       "ascii": false,
       "bar_format": "{desc} |{bar}| {elapsed} {postfix[0][value]}",
       "colour": null,
       "elapsed": 0.017832040786743164,
       "initial": 0,
       "n": 0,
       "ncols": null,
       "nrows": null,
       "postfix": [
        {
         "value": "Status"
        }
       ],
       "prefix": "chain 4",
       "rate": null,
       "total": 52,
       "unit": "it",
       "unit_divisor": 1000,
       "unit_scale": false
      },
      "application/vnd.jupyter.widget-view+json": {
       "model_id": "56d9b290cac747408ae6e73c2bb91cd3",
       "version_major": 2,
       "version_minor": 0
      },
      "text/plain": [
       "chain 4 |          | 00:00 Status"
      ]
     },
     "metadata": {},
     "output_type": "display_data"
    },
    {
     "name": "stdout",
     "output_type": "stream",
     "text": [
      "                                                                                                                                                                                                                                                                                                                                \n"
     ]
    },
    {
     "name": "stderr",
     "output_type": "stream",
     "text": [
      "2025-07-15 11:48:12 - orbit - INFO - Sampling (PyStan) with chains: 4, cores: 8, temperature: 1.000, warmups (per chain): 2500 and samples(per chain): 2500.\n"
     ]
    },
    {
     "data": {
      "application/json": {
       "ascii": false,
       "bar_format": "{desc} |{bar}| {elapsed} {postfix[0][value]}",
       "colour": null,
       "elapsed": 0.020962953567504883,
       "initial": 0,
       "n": 0,
       "ncols": null,
       "nrows": null,
       "postfix": [
        {
         "value": "Status"
        }
       ],
       "prefix": "chain 1",
       "rate": null,
       "total": 52,
       "unit": "it",
       "unit_divisor": 1000,
       "unit_scale": false
      },
      "application/vnd.jupyter.widget-view+json": {
       "model_id": "b076cb156bc74d57b26a71020181236b",
       "version_major": 2,
       "version_minor": 0
      },
      "text/plain": [
       "chain 1 |          | 00:00 Status"
      ]
     },
     "metadata": {},
     "output_type": "display_data"
    },
    {
     "data": {
      "application/json": {
       "ascii": false,
       "bar_format": "{desc} |{bar}| {elapsed} {postfix[0][value]}",
       "colour": null,
       "elapsed": 0.01813673973083496,
       "initial": 0,
       "n": 0,
       "ncols": null,
       "nrows": null,
       "postfix": [
        {
         "value": "Status"
        }
       ],
       "prefix": "chain 2",
       "rate": null,
       "total": 52,
       "unit": "it",
       "unit_divisor": 1000,
       "unit_scale": false
      },
      "application/vnd.jupyter.widget-view+json": {
       "model_id": "90852c99e4ab43c7aede4032948fe714",
       "version_major": 2,
       "version_minor": 0
      },
      "text/plain": [
       "chain 2 |          | 00:00 Status"
      ]
     },
     "metadata": {},
     "output_type": "display_data"
    },
    {
     "data": {
      "application/json": {
       "ascii": false,
       "bar_format": "{desc} |{bar}| {elapsed} {postfix[0][value]}",
       "colour": null,
       "elapsed": 0.023352384567260742,
       "initial": 0,
       "n": 0,
       "ncols": null,
       "nrows": null,
       "postfix": [
        {
         "value": "Status"
        }
       ],
       "prefix": "chain 3",
       "rate": null,
       "total": 52,
       "unit": "it",
       "unit_divisor": 1000,
       "unit_scale": false
      },
      "application/vnd.jupyter.widget-view+json": {
       "model_id": "8912065bcf314cb798e85d36509ea056",
       "version_major": 2,
       "version_minor": 0
      },
      "text/plain": [
       "chain 3 |          | 00:00 Status"
      ]
     },
     "metadata": {},
     "output_type": "display_data"
    },
    {
     "data": {
      "application/json": {
       "ascii": false,
       "bar_format": "{desc} |{bar}| {elapsed} {postfix[0][value]}",
       "colour": null,
       "elapsed": 0.0200803279876709,
       "initial": 0,
       "n": 0,
       "ncols": null,
       "nrows": null,
       "postfix": [
        {
         "value": "Status"
        }
       ],
       "prefix": "chain 4",
       "rate": null,
       "total": 52,
       "unit": "it",
       "unit_divisor": 1000,
       "unit_scale": false
      },
      "application/vnd.jupyter.widget-view+json": {
       "model_id": "73ae042e1c6e4d5b98319fd2f224791d",
       "version_major": 2,
       "version_minor": 0
      },
      "text/plain": [
       "chain 4 |          | 00:00 Status"
      ]
     },
     "metadata": {},
     "output_type": "display_data"
    },
    {
     "name": "stdout",
     "output_type": "stream",
     "text": [
      "                                                                                                                                                                                                                                                                                                                                \n"
     ]
    },
    {
     "name": "stderr",
     "output_type": "stream",
     "text": [
      "2025-07-15 11:48:14 - orbit - INFO - Sampling (PyStan) with chains: 4, cores: 8, temperature: 1.000, warmups (per chain): 2500 and samples(per chain): 2500.\n"
     ]
    },
    {
     "data": {
      "application/json": {
       "ascii": false,
       "bar_format": "{desc} |{bar}| {elapsed} {postfix[0][value]}",
       "colour": null,
       "elapsed": 0.024003028869628906,
       "initial": 0,
       "n": 0,
       "ncols": null,
       "nrows": null,
       "postfix": [
        {
         "value": "Status"
        }
       ],
       "prefix": "chain 1",
       "rate": null,
       "total": 52,
       "unit": "it",
       "unit_divisor": 1000,
       "unit_scale": false
      },
      "application/vnd.jupyter.widget-view+json": {
       "model_id": "5d1b7e357e864d3588ba8151d45e2e19",
       "version_major": 2,
       "version_minor": 0
      },
      "text/plain": [
       "chain 1 |          | 00:00 Status"
      ]
     },
     "metadata": {},
     "output_type": "display_data"
    },
    {
     "data": {
      "application/json": {
       "ascii": false,
       "bar_format": "{desc} |{bar}| {elapsed} {postfix[0][value]}",
       "colour": null,
       "elapsed": 0.02024698257446289,
       "initial": 0,
       "n": 0,
       "ncols": null,
       "nrows": null,
       "postfix": [
        {
         "value": "Status"
        }
       ],
       "prefix": "chain 2",
       "rate": null,
       "total": 52,
       "unit": "it",
       "unit_divisor": 1000,
       "unit_scale": false
      },
      "application/vnd.jupyter.widget-view+json": {
       "model_id": "43d560e797d54970b2ce8e32d9fd2fd2",
       "version_major": 2,
       "version_minor": 0
      },
      "text/plain": [
       "chain 2 |          | 00:00 Status"
      ]
     },
     "metadata": {},
     "output_type": "display_data"
    },
    {
     "data": {
      "application/json": {
       "ascii": false,
       "bar_format": "{desc} |{bar}| {elapsed} {postfix[0][value]}",
       "colour": null,
       "elapsed": 0.01856398582458496,
       "initial": 0,
       "n": 0,
       "ncols": null,
       "nrows": null,
       "postfix": [
        {
         "value": "Status"
        }
       ],
       "prefix": "chain 3",
       "rate": null,
       "total": 52,
       "unit": "it",
       "unit_divisor": 1000,
       "unit_scale": false
      },
      "application/vnd.jupyter.widget-view+json": {
       "model_id": "f7e6f37ffd844b71b16ecf2f81ee9259",
       "version_major": 2,
       "version_minor": 0
      },
      "text/plain": [
       "chain 3 |          | 00:00 Status"
      ]
     },
     "metadata": {},
     "output_type": "display_data"
    },
    {
     "data": {
      "application/json": {
       "ascii": false,
       "bar_format": "{desc} |{bar}| {elapsed} {postfix[0][value]}",
       "colour": null,
       "elapsed": 0.018254756927490234,
       "initial": 0,
       "n": 0,
       "ncols": null,
       "nrows": null,
       "postfix": [
        {
         "value": "Status"
        }
       ],
       "prefix": "chain 4",
       "rate": null,
       "total": 52,
       "unit": "it",
       "unit_divisor": 1000,
       "unit_scale": false
      },
      "application/vnd.jupyter.widget-view+json": {
       "model_id": "c983468312114c568e317ec69bdfd095",
       "version_major": 2,
       "version_minor": 0
      },
      "text/plain": [
       "chain 4 |          | 00:00 Status"
      ]
     },
     "metadata": {},
     "output_type": "display_data"
    },
    {
     "name": "stdout",
     "output_type": "stream",
     "text": [
      "                                                                                                                                                                                                                                                                                                                                \n"
     ]
    },
    {
     "name": "stderr",
     "output_type": "stream",
     "text": [
      "2025-07-15 11:48:17 - orbit - INFO - Sampling (PyStan) with chains: 4, cores: 8, temperature: 1.000, warmups (per chain): 2500 and samples(per chain): 2500.\n"
     ]
    },
    {
     "data": {
      "application/json": {
       "ascii": false,
       "bar_format": "{desc} |{bar}| {elapsed} {postfix[0][value]}",
       "colour": null,
       "elapsed": 0.027515888214111328,
       "initial": 0,
       "n": 0,
       "ncols": null,
       "nrows": null,
       "postfix": [
        {
         "value": "Status"
        }
       ],
       "prefix": "chain 1",
       "rate": null,
       "total": 52,
       "unit": "it",
       "unit_divisor": 1000,
       "unit_scale": false
      },
      "application/vnd.jupyter.widget-view+json": {
       "model_id": "04d596d5d4bd41e2860c56cc3aa7f5dd",
       "version_major": 2,
       "version_minor": 0
      },
      "text/plain": [
       "chain 1 |          | 00:00 Status"
      ]
     },
     "metadata": {},
     "output_type": "display_data"
    },
    {
     "data": {
      "application/json": {
       "ascii": false,
       "bar_format": "{desc} |{bar}| {elapsed} {postfix[0][value]}",
       "colour": null,
       "elapsed": 0.018590688705444336,
       "initial": 0,
       "n": 0,
       "ncols": null,
       "nrows": null,
       "postfix": [
        {
         "value": "Status"
        }
       ],
       "prefix": "chain 2",
       "rate": null,
       "total": 52,
       "unit": "it",
       "unit_divisor": 1000,
       "unit_scale": false
      },
      "application/vnd.jupyter.widget-view+json": {
       "model_id": "ea3a768da8914ecbb0b4b76e3b31e71a",
       "version_major": 2,
       "version_minor": 0
      },
      "text/plain": [
       "chain 2 |          | 00:00 Status"
      ]
     },
     "metadata": {},
     "output_type": "display_data"
    },
    {
     "data": {
      "application/json": {
       "ascii": false,
       "bar_format": "{desc} |{bar}| {elapsed} {postfix[0][value]}",
       "colour": null,
       "elapsed": 0.016966819763183594,
       "initial": 0,
       "n": 0,
       "ncols": null,
       "nrows": null,
       "postfix": [
        {
         "value": "Status"
        }
       ],
       "prefix": "chain 3",
       "rate": null,
       "total": 52,
       "unit": "it",
       "unit_divisor": 1000,
       "unit_scale": false
      },
      "application/vnd.jupyter.widget-view+json": {
       "model_id": "b1f09edbc7634772af4b6105a59f8f01",
       "version_major": 2,
       "version_minor": 0
      },
      "text/plain": [
       "chain 3 |          | 00:00 Status"
      ]
     },
     "metadata": {},
     "output_type": "display_data"
    },
    {
     "data": {
      "application/json": {
       "ascii": false,
       "bar_format": "{desc} |{bar}| {elapsed} {postfix[0][value]}",
       "colour": null,
       "elapsed": 0.017679214477539062,
       "initial": 0,
       "n": 0,
       "ncols": null,
       "nrows": null,
       "postfix": [
        {
         "value": "Status"
        }
       ],
       "prefix": "chain 4",
       "rate": null,
       "total": 52,
       "unit": "it",
       "unit_divisor": 1000,
       "unit_scale": false
      },
      "application/vnd.jupyter.widget-view+json": {
       "model_id": "daa35864e1904602b437596556d644c3",
       "version_major": 2,
       "version_minor": 0
      },
      "text/plain": [
       "chain 4 |          | 00:00 Status"
      ]
     },
     "metadata": {},
     "output_type": "display_data"
    },
    {
     "name": "stdout",
     "output_type": "stream",
     "text": [
      "                                                                                                                                                                                                                                                                                                                                \n"
     ]
    },
    {
     "name": "stderr",
     "output_type": "stream",
     "text": [
      "2025-07-15 11:48:19 - orbit - INFO - Sampling (PyStan) with chains: 4, cores: 8, temperature: 1.000, warmups (per chain): 2500 and samples(per chain): 2500.\n"
     ]
    },
    {
     "data": {
      "application/json": {
       "ascii": false,
       "bar_format": "{desc} |{bar}| {elapsed} {postfix[0][value]}",
       "colour": null,
       "elapsed": 0.02201104164123535,
       "initial": 0,
       "n": 0,
       "ncols": null,
       "nrows": null,
       "postfix": [
        {
         "value": "Status"
        }
       ],
       "prefix": "chain 1",
       "rate": null,
       "total": 52,
       "unit": "it",
       "unit_divisor": 1000,
       "unit_scale": false
      },
      "application/vnd.jupyter.widget-view+json": {
       "model_id": "fb4f014dca484b188bd838332c2fda0c",
       "version_major": 2,
       "version_minor": 0
      },
      "text/plain": [
       "chain 1 |          | 00:00 Status"
      ]
     },
     "metadata": {},
     "output_type": "display_data"
    },
    {
     "data": {
      "application/json": {
       "ascii": false,
       "bar_format": "{desc} |{bar}| {elapsed} {postfix[0][value]}",
       "colour": null,
       "elapsed": 0.02004528045654297,
       "initial": 0,
       "n": 0,
       "ncols": null,
       "nrows": null,
       "postfix": [
        {
         "value": "Status"
        }
       ],
       "prefix": "chain 2",
       "rate": null,
       "total": 52,
       "unit": "it",
       "unit_divisor": 1000,
       "unit_scale": false
      },
      "application/vnd.jupyter.widget-view+json": {
       "model_id": "e1194ad59a4a4de0b5929eed5ec5b80c",
       "version_major": 2,
       "version_minor": 0
      },
      "text/plain": [
       "chain 2 |          | 00:00 Status"
      ]
     },
     "metadata": {},
     "output_type": "display_data"
    },
    {
     "data": {
      "application/json": {
       "ascii": false,
       "bar_format": "{desc} |{bar}| {elapsed} {postfix[0][value]}",
       "colour": null,
       "elapsed": 0.02071094512939453,
       "initial": 0,
       "n": 0,
       "ncols": null,
       "nrows": null,
       "postfix": [
        {
         "value": "Status"
        }
       ],
       "prefix": "chain 3",
       "rate": null,
       "total": 52,
       "unit": "it",
       "unit_divisor": 1000,
       "unit_scale": false
      },
      "application/vnd.jupyter.widget-view+json": {
       "model_id": "e31437949f614140afc12d7e82dc0025",
       "version_major": 2,
       "version_minor": 0
      },
      "text/plain": [
       "chain 3 |          | 00:00 Status"
      ]
     },
     "metadata": {},
     "output_type": "display_data"
    },
    {
     "data": {
      "application/json": {
       "ascii": false,
       "bar_format": "{desc} |{bar}| {elapsed} {postfix[0][value]}",
       "colour": null,
       "elapsed": 0.01958608627319336,
       "initial": 0,
       "n": 0,
       "ncols": null,
       "nrows": null,
       "postfix": [
        {
         "value": "Status"
        }
       ],
       "prefix": "chain 4",
       "rate": null,
       "total": 52,
       "unit": "it",
       "unit_divisor": 1000,
       "unit_scale": false
      },
      "application/vnd.jupyter.widget-view+json": {
       "model_id": "019f9b4158b149f197fe69779666be6a",
       "version_major": 2,
       "version_minor": 0
      },
      "text/plain": [
       "chain 4 |          | 00:00 Status"
      ]
     },
     "metadata": {},
     "output_type": "display_data"
    },
    {
     "name": "stdout",
     "output_type": "stream",
     "text": [
      "                                                                                                                                                                                                                                                                                                                                \n"
     ]
    },
    {
     "name": "stderr",
     "output_type": "stream",
     "text": [
      "2025-07-15 11:48:22 - orbit - INFO - Sampling (PyStan) with chains: 4, cores: 8, temperature: 1.000, warmups (per chain): 2500 and samples(per chain): 2500.\n"
     ]
    },
    {
     "data": {
      "application/json": {
       "ascii": false,
       "bar_format": "{desc} |{bar}| {elapsed} {postfix[0][value]}",
       "colour": null,
       "elapsed": 0.021840810775756836,
       "initial": 0,
       "n": 0,
       "ncols": null,
       "nrows": null,
       "postfix": [
        {
         "value": "Status"
        }
       ],
       "prefix": "chain 1",
       "rate": null,
       "total": 52,
       "unit": "it",
       "unit_divisor": 1000,
       "unit_scale": false
      },
      "application/vnd.jupyter.widget-view+json": {
       "model_id": "3492f1ff3aab4feebcf1a1ae4b000ea1",
       "version_major": 2,
       "version_minor": 0
      },
      "text/plain": [
       "chain 1 |          | 00:00 Status"
      ]
     },
     "metadata": {},
     "output_type": "display_data"
    },
    {
     "data": {
      "application/json": {
       "ascii": false,
       "bar_format": "{desc} |{bar}| {elapsed} {postfix[0][value]}",
       "colour": null,
       "elapsed": 0.01866436004638672,
       "initial": 0,
       "n": 0,
       "ncols": null,
       "nrows": null,
       "postfix": [
        {
         "value": "Status"
        }
       ],
       "prefix": "chain 2",
       "rate": null,
       "total": 52,
       "unit": "it",
       "unit_divisor": 1000,
       "unit_scale": false
      },
      "application/vnd.jupyter.widget-view+json": {
       "model_id": "1e6a7ad57bc64dc9bbea0c0a4b13905e",
       "version_major": 2,
       "version_minor": 0
      },
      "text/plain": [
       "chain 2 |          | 00:00 Status"
      ]
     },
     "metadata": {},
     "output_type": "display_data"
    },
    {
     "data": {
      "application/json": {
       "ascii": false,
       "bar_format": "{desc} |{bar}| {elapsed} {postfix[0][value]}",
       "colour": null,
       "elapsed": 0.01795792579650879,
       "initial": 0,
       "n": 0,
       "ncols": null,
       "nrows": null,
       "postfix": [
        {
         "value": "Status"
        }
       ],
       "prefix": "chain 3",
       "rate": null,
       "total": 52,
       "unit": "it",
       "unit_divisor": 1000,
       "unit_scale": false
      },
      "application/vnd.jupyter.widget-view+json": {
       "model_id": "503f7758d16c40bbaed5af8f64b0adc9",
       "version_major": 2,
       "version_minor": 0
      },
      "text/plain": [
       "chain 3 |          | 00:00 Status"
      ]
     },
     "metadata": {},
     "output_type": "display_data"
    },
    {
     "data": {
      "application/json": {
       "ascii": false,
       "bar_format": "{desc} |{bar}| {elapsed} {postfix[0][value]}",
       "colour": null,
       "elapsed": 0.017062664031982422,
       "initial": 0,
       "n": 0,
       "ncols": null,
       "nrows": null,
       "postfix": [
        {
         "value": "Status"
        }
       ],
       "prefix": "chain 4",
       "rate": null,
       "total": 52,
       "unit": "it",
       "unit_divisor": 1000,
       "unit_scale": false
      },
      "application/vnd.jupyter.widget-view+json": {
       "model_id": "4c94b9ede1d04f9a908e5c26b503e0d5",
       "version_major": 2,
       "version_minor": 0
      },
      "text/plain": [
       "chain 4 |          | 00:00 Status"
      ]
     },
     "metadata": {},
     "output_type": "display_data"
    },
    {
     "name": "stdout",
     "output_type": "stream",
     "text": [
      "                                                                                                                                                                                                                                                                                                                                \n"
     ]
    },
    {
     "name": "stderr",
     "output_type": "stream",
     "text": [
      "2025-07-15 11:48:24 - orbit - INFO - Sampling (PyStan) with chains: 4, cores: 8, temperature: 1.000, warmups (per chain): 2500 and samples(per chain): 2500.\n"
     ]
    },
    {
     "data": {
      "application/json": {
       "ascii": false,
       "bar_format": "{desc} |{bar}| {elapsed} {postfix[0][value]}",
       "colour": null,
       "elapsed": 0.026671886444091797,
       "initial": 0,
       "n": 0,
       "ncols": null,
       "nrows": null,
       "postfix": [
        {
         "value": "Status"
        }
       ],
       "prefix": "chain 1",
       "rate": null,
       "total": 52,
       "unit": "it",
       "unit_divisor": 1000,
       "unit_scale": false
      },
      "application/vnd.jupyter.widget-view+json": {
       "model_id": "a4c02f5876cd4f8d8869747ac990a06a",
       "version_major": 2,
       "version_minor": 0
      },
      "text/plain": [
       "chain 1 |          | 00:00 Status"
      ]
     },
     "metadata": {},
     "output_type": "display_data"
    },
    {
     "data": {
      "application/json": {
       "ascii": false,
       "bar_format": "{desc} |{bar}| {elapsed} {postfix[0][value]}",
       "colour": null,
       "elapsed": 0.029346227645874023,
       "initial": 0,
       "n": 0,
       "ncols": null,
       "nrows": null,
       "postfix": [
        {
         "value": "Status"
        }
       ],
       "prefix": "chain 2",
       "rate": null,
       "total": 52,
       "unit": "it",
       "unit_divisor": 1000,
       "unit_scale": false
      },
      "application/vnd.jupyter.widget-view+json": {
       "model_id": "647e45f550d44221ba779c80e6fd416d",
       "version_major": 2,
       "version_minor": 0
      },
      "text/plain": [
       "chain 2 |          | 00:00 Status"
      ]
     },
     "metadata": {},
     "output_type": "display_data"
    },
    {
     "data": {
      "application/json": {
       "ascii": false,
       "bar_format": "{desc} |{bar}| {elapsed} {postfix[0][value]}",
       "colour": null,
       "elapsed": 0.028736114501953125,
       "initial": 0,
       "n": 0,
       "ncols": null,
       "nrows": null,
       "postfix": [
        {
         "value": "Status"
        }
       ],
       "prefix": "chain 3",
       "rate": null,
       "total": 52,
       "unit": "it",
       "unit_divisor": 1000,
       "unit_scale": false
      },
      "application/vnd.jupyter.widget-view+json": {
       "model_id": "26c2872b431c4e4185121a507cac6b71",
       "version_major": 2,
       "version_minor": 0
      },
      "text/plain": [
       "chain 3 |          | 00:00 Status"
      ]
     },
     "metadata": {},
     "output_type": "display_data"
    },
    {
     "data": {
      "application/json": {
       "ascii": false,
       "bar_format": "{desc} |{bar}| {elapsed} {postfix[0][value]}",
       "colour": null,
       "elapsed": 0.0295865535736084,
       "initial": 0,
       "n": 0,
       "ncols": null,
       "nrows": null,
       "postfix": [
        {
         "value": "Status"
        }
       ],
       "prefix": "chain 4",
       "rate": null,
       "total": 52,
       "unit": "it",
       "unit_divisor": 1000,
       "unit_scale": false
      },
      "application/vnd.jupyter.widget-view+json": {
       "model_id": "59bfbaa12a5848568d2a34d975b22556",
       "version_major": 2,
       "version_minor": 0
      },
      "text/plain": [
       "chain 4 |          | 00:00 Status"
      ]
     },
     "metadata": {},
     "output_type": "display_data"
    },
    {
     "name": "stdout",
     "output_type": "stream",
     "text": [
      "                                                                                                                                                                                                                                                                                                                                \n"
     ]
    },
    {
     "name": "stderr",
     "output_type": "stream",
     "text": [
      "2025-07-15 11:48:27 - orbit - INFO - Sampling (PyStan) with chains: 4, cores: 8, temperature: 1.000, warmups (per chain): 2500 and samples(per chain): 2500.\n"
     ]
    },
    {
     "data": {
      "application/json": {
       "ascii": false,
       "bar_format": "{desc} |{bar}| {elapsed} {postfix[0][value]}",
       "colour": null,
       "elapsed": 0.02402663230895996,
       "initial": 0,
       "n": 0,
       "ncols": null,
       "nrows": null,
       "postfix": [
        {
         "value": "Status"
        }
       ],
       "prefix": "chain 1",
       "rate": null,
       "total": 52,
       "unit": "it",
       "unit_divisor": 1000,
       "unit_scale": false
      },
      "application/vnd.jupyter.widget-view+json": {
       "model_id": "351d06be064646d6a7db87cb383f0ed1",
       "version_major": 2,
       "version_minor": 0
      },
      "text/plain": [
       "chain 1 |          | 00:00 Status"
      ]
     },
     "metadata": {},
     "output_type": "display_data"
    },
    {
     "data": {
      "application/json": {
       "ascii": false,
       "bar_format": "{desc} |{bar}| {elapsed} {postfix[0][value]}",
       "colour": null,
       "elapsed": 0.019387245178222656,
       "initial": 0,
       "n": 0,
       "ncols": null,
       "nrows": null,
       "postfix": [
        {
         "value": "Status"
        }
       ],
       "prefix": "chain 2",
       "rate": null,
       "total": 52,
       "unit": "it",
       "unit_divisor": 1000,
       "unit_scale": false
      },
      "application/vnd.jupyter.widget-view+json": {
       "model_id": "4501114caf0748e7885909f13177a91a",
       "version_major": 2,
       "version_minor": 0
      },
      "text/plain": [
       "chain 2 |          | 00:00 Status"
      ]
     },
     "metadata": {},
     "output_type": "display_data"
    },
    {
     "data": {
      "application/json": {
       "ascii": false,
       "bar_format": "{desc} |{bar}| {elapsed} {postfix[0][value]}",
       "colour": null,
       "elapsed": 0.01988840103149414,
       "initial": 0,
       "n": 0,
       "ncols": null,
       "nrows": null,
       "postfix": [
        {
         "value": "Status"
        }
       ],
       "prefix": "chain 3",
       "rate": null,
       "total": 52,
       "unit": "it",
       "unit_divisor": 1000,
       "unit_scale": false
      },
      "application/vnd.jupyter.widget-view+json": {
       "model_id": "e74ca202aa994cdaa5fdd1b32cbad244",
       "version_major": 2,
       "version_minor": 0
      },
      "text/plain": [
       "chain 3 |          | 00:00 Status"
      ]
     },
     "metadata": {},
     "output_type": "display_data"
    },
    {
     "data": {
      "application/json": {
       "ascii": false,
       "bar_format": "{desc} |{bar}| {elapsed} {postfix[0][value]}",
       "colour": null,
       "elapsed": 0.018831491470336914,
       "initial": 0,
       "n": 0,
       "ncols": null,
       "nrows": null,
       "postfix": [
        {
         "value": "Status"
        }
       ],
       "prefix": "chain 4",
       "rate": null,
       "total": 52,
       "unit": "it",
       "unit_divisor": 1000,
       "unit_scale": false
      },
      "application/vnd.jupyter.widget-view+json": {
       "model_id": "38efa09ab8fa48a182eea6ee92d014d7",
       "version_major": 2,
       "version_minor": 0
      },
      "text/plain": [
       "chain 4 |          | 00:00 Status"
      ]
     },
     "metadata": {},
     "output_type": "display_data"
    },
    {
     "name": "stdout",
     "output_type": "stream",
     "text": [
      "                                                                                                                                                                                                                                                                                                                                \n"
     ]
    },
    {
     "name": "stderr",
     "output_type": "stream",
     "text": [
      "2025-07-15 11:48:29 - orbit - INFO - Sampling (PyStan) with chains: 4, cores: 8, temperature: 1.000, warmups (per chain): 2500 and samples(per chain): 2500.\n"
     ]
    },
    {
     "data": {
      "application/json": {
       "ascii": false,
       "bar_format": "{desc} |{bar}| {elapsed} {postfix[0][value]}",
       "colour": null,
       "elapsed": 0.02288651466369629,
       "initial": 0,
       "n": 0,
       "ncols": null,
       "nrows": null,
       "postfix": [
        {
         "value": "Status"
        }
       ],
       "prefix": "chain 1",
       "rate": null,
       "total": 52,
       "unit": "it",
       "unit_divisor": 1000,
       "unit_scale": false
      },
      "application/vnd.jupyter.widget-view+json": {
       "model_id": "8a6bc9ff9599459780504cd8d6383e5a",
       "version_major": 2,
       "version_minor": 0
      },
      "text/plain": [
       "chain 1 |          | 00:00 Status"
      ]
     },
     "metadata": {},
     "output_type": "display_data"
    },
    {
     "data": {
      "application/json": {
       "ascii": false,
       "bar_format": "{desc} |{bar}| {elapsed} {postfix[0][value]}",
       "colour": null,
       "elapsed": 0.01925349235534668,
       "initial": 0,
       "n": 0,
       "ncols": null,
       "nrows": null,
       "postfix": [
        {
         "value": "Status"
        }
       ],
       "prefix": "chain 2",
       "rate": null,
       "total": 52,
       "unit": "it",
       "unit_divisor": 1000,
       "unit_scale": false
      },
      "application/vnd.jupyter.widget-view+json": {
       "model_id": "d274ff0a97354127b1640064a1cda47c",
       "version_major": 2,
       "version_minor": 0
      },
      "text/plain": [
       "chain 2 |          | 00:00 Status"
      ]
     },
     "metadata": {},
     "output_type": "display_data"
    },
    {
     "data": {
      "application/json": {
       "ascii": false,
       "bar_format": "{desc} |{bar}| {elapsed} {postfix[0][value]}",
       "colour": null,
       "elapsed": 0.019116640090942383,
       "initial": 0,
       "n": 0,
       "ncols": null,
       "nrows": null,
       "postfix": [
        {
         "value": "Status"
        }
       ],
       "prefix": "chain 3",
       "rate": null,
       "total": 52,
       "unit": "it",
       "unit_divisor": 1000,
       "unit_scale": false
      },
      "application/vnd.jupyter.widget-view+json": {
       "model_id": "d03769f6fc87456fb4e1b613c4946259",
       "version_major": 2,
       "version_minor": 0
      },
      "text/plain": [
       "chain 3 |          | 00:00 Status"
      ]
     },
     "metadata": {},
     "output_type": "display_data"
    },
    {
     "data": {
      "application/json": {
       "ascii": false,
       "bar_format": "{desc} |{bar}| {elapsed} {postfix[0][value]}",
       "colour": null,
       "elapsed": 0.01877903938293457,
       "initial": 0,
       "n": 0,
       "ncols": null,
       "nrows": null,
       "postfix": [
        {
         "value": "Status"
        }
       ],
       "prefix": "chain 4",
       "rate": null,
       "total": 52,
       "unit": "it",
       "unit_divisor": 1000,
       "unit_scale": false
      },
      "application/vnd.jupyter.widget-view+json": {
       "model_id": "5e48b4950c3d4c708be27ed355167a82",
       "version_major": 2,
       "version_minor": 0
      },
      "text/plain": [
       "chain 4 |          | 00:00 Status"
      ]
     },
     "metadata": {},
     "output_type": "display_data"
    },
    {
     "name": "stdout",
     "output_type": "stream",
     "text": [
      "                                                                                                                                                                                                                                                                                                                                \n"
     ]
    },
    {
     "name": "stderr",
     "output_type": "stream",
     "text": [
      "2025-07-15 11:48:31 - orbit - INFO - Sampling (PyStan) with chains: 4, cores: 8, temperature: 1.000, warmups (per chain): 2500 and samples(per chain): 2500.\n"
     ]
    },
    {
     "data": {
      "application/json": {
       "ascii": false,
       "bar_format": "{desc} |{bar}| {elapsed} {postfix[0][value]}",
       "colour": null,
       "elapsed": 0.02483510971069336,
       "initial": 0,
       "n": 0,
       "ncols": null,
       "nrows": null,
       "postfix": [
        {
         "value": "Status"
        }
       ],
       "prefix": "chain 1",
       "rate": null,
       "total": 52,
       "unit": "it",
       "unit_divisor": 1000,
       "unit_scale": false
      },
      "application/vnd.jupyter.widget-view+json": {
       "model_id": "30bb7166217546cd92549be5da5fb577",
       "version_major": 2,
       "version_minor": 0
      },
      "text/plain": [
       "chain 1 |          | 00:00 Status"
      ]
     },
     "metadata": {},
     "output_type": "display_data"
    },
    {
     "data": {
      "application/json": {
       "ascii": false,
       "bar_format": "{desc} |{bar}| {elapsed} {postfix[0][value]}",
       "colour": null,
       "elapsed": 0.02685689926147461,
       "initial": 0,
       "n": 0,
       "ncols": null,
       "nrows": null,
       "postfix": [
        {
         "value": "Status"
        }
       ],
       "prefix": "chain 2",
       "rate": null,
       "total": 52,
       "unit": "it",
       "unit_divisor": 1000,
       "unit_scale": false
      },
      "application/vnd.jupyter.widget-view+json": {
       "model_id": "19be38c0e3214ff9bf9a3f53f1c69679",
       "version_major": 2,
       "version_minor": 0
      },
      "text/plain": [
       "chain 2 |          | 00:00 Status"
      ]
     },
     "metadata": {},
     "output_type": "display_data"
    },
    {
     "data": {
      "application/json": {
       "ascii": false,
       "bar_format": "{desc} |{bar}| {elapsed} {postfix[0][value]}",
       "colour": null,
       "elapsed": 0.028861045837402344,
       "initial": 0,
       "n": 0,
       "ncols": null,
       "nrows": null,
       "postfix": [
        {
         "value": "Status"
        }
       ],
       "prefix": "chain 3",
       "rate": null,
       "total": 52,
       "unit": "it",
       "unit_divisor": 1000,
       "unit_scale": false
      },
      "application/vnd.jupyter.widget-view+json": {
       "model_id": "bf60f7c9e2ee471aacc39f1d0c4e9d1f",
       "version_major": 2,
       "version_minor": 0
      },
      "text/plain": [
       "chain 3 |          | 00:00 Status"
      ]
     },
     "metadata": {},
     "output_type": "display_data"
    },
    {
     "data": {
      "application/json": {
       "ascii": false,
       "bar_format": "{desc} |{bar}| {elapsed} {postfix[0][value]}",
       "colour": null,
       "elapsed": 0.028041362762451172,
       "initial": 0,
       "n": 0,
       "ncols": null,
       "nrows": null,
       "postfix": [
        {
         "value": "Status"
        }
       ],
       "prefix": "chain 4",
       "rate": null,
       "total": 52,
       "unit": "it",
       "unit_divisor": 1000,
       "unit_scale": false
      },
      "application/vnd.jupyter.widget-view+json": {
       "model_id": "3146cdc3c7ca42a8b0bbe5f144aa41ca",
       "version_major": 2,
       "version_minor": 0
      },
      "text/plain": [
       "chain 4 |          | 00:00 Status"
      ]
     },
     "metadata": {},
     "output_type": "display_data"
    },
    {
     "name": "stdout",
     "output_type": "stream",
     "text": [
      "                                                                                                                                                                                                                                                                                                                                \n"
     ]
    },
    {
     "name": "stderr",
     "output_type": "stream",
     "text": [
      "2025-07-15 11:48:34 - orbit - INFO - Sampling (PyStan) with chains: 4, cores: 8, temperature: 1.000, warmups (per chain): 2500 and samples(per chain): 2500.\n"
     ]
    },
    {
     "data": {
      "application/json": {
       "ascii": false,
       "bar_format": "{desc} |{bar}| {elapsed} {postfix[0][value]}",
       "colour": null,
       "elapsed": 0.023345470428466797,
       "initial": 0,
       "n": 0,
       "ncols": null,
       "nrows": null,
       "postfix": [
        {
         "value": "Status"
        }
       ],
       "prefix": "chain 1",
       "rate": null,
       "total": 52,
       "unit": "it",
       "unit_divisor": 1000,
       "unit_scale": false
      },
      "application/vnd.jupyter.widget-view+json": {
       "model_id": "f86fd94c21674fb89c41278a26a89345",
       "version_major": 2,
       "version_minor": 0
      },
      "text/plain": [
       "chain 1 |          | 00:00 Status"
      ]
     },
     "metadata": {},
     "output_type": "display_data"
    },
    {
     "data": {
      "application/json": {
       "ascii": false,
       "bar_format": "{desc} |{bar}| {elapsed} {postfix[0][value]}",
       "colour": null,
       "elapsed": 0.02628493309020996,
       "initial": 0,
       "n": 0,
       "ncols": null,
       "nrows": null,
       "postfix": [
        {
         "value": "Status"
        }
       ],
       "prefix": "chain 2",
       "rate": null,
       "total": 52,
       "unit": "it",
       "unit_divisor": 1000,
       "unit_scale": false
      },
      "application/vnd.jupyter.widget-view+json": {
       "model_id": "2ecd85627b4f4263b379872d295b394e",
       "version_major": 2,
       "version_minor": 0
      },
      "text/plain": [
       "chain 2 |          | 00:00 Status"
      ]
     },
     "metadata": {},
     "output_type": "display_data"
    },
    {
     "data": {
      "application/json": {
       "ascii": false,
       "bar_format": "{desc} |{bar}| {elapsed} {postfix[0][value]}",
       "colour": null,
       "elapsed": 0.026871681213378906,
       "initial": 0,
       "n": 0,
       "ncols": null,
       "nrows": null,
       "postfix": [
        {
         "value": "Status"
        }
       ],
       "prefix": "chain 3",
       "rate": null,
       "total": 52,
       "unit": "it",
       "unit_divisor": 1000,
       "unit_scale": false
      },
      "application/vnd.jupyter.widget-view+json": {
       "model_id": "437ec6c86c39407992faef5ab5ea206a",
       "version_major": 2,
       "version_minor": 0
      },
      "text/plain": [
       "chain 3 |          | 00:00 Status"
      ]
     },
     "metadata": {},
     "output_type": "display_data"
    },
    {
     "data": {
      "application/json": {
       "ascii": false,
       "bar_format": "{desc} |{bar}| {elapsed} {postfix[0][value]}",
       "colour": null,
       "elapsed": 0.021693944931030273,
       "initial": 0,
       "n": 0,
       "ncols": null,
       "nrows": null,
       "postfix": [
        {
         "value": "Status"
        }
       ],
       "prefix": "chain 4",
       "rate": null,
       "total": 52,
       "unit": "it",
       "unit_divisor": 1000,
       "unit_scale": false
      },
      "application/vnd.jupyter.widget-view+json": {
       "model_id": "1c4cfc9500194862a8e490bbdfbd1e11",
       "version_major": 2,
       "version_minor": 0
      },
      "text/plain": [
       "chain 4 |          | 00:00 Status"
      ]
     },
     "metadata": {},
     "output_type": "display_data"
    },
    {
     "name": "stdout",
     "output_type": "stream",
     "text": [
      "                                                                                                                                                                                                                                                                                                                                \n"
     ]
    },
    {
     "name": "stderr",
     "output_type": "stream",
     "text": [
      "2025-07-15 11:48:37 - orbit - INFO - Sampling (PyStan) with chains: 4, cores: 8, temperature: 1.000, warmups (per chain): 2500 and samples(per chain): 2500.\n"
     ]
    },
    {
     "data": {
      "application/json": {
       "ascii": false,
       "bar_format": "{desc} |{bar}| {elapsed} {postfix[0][value]}",
       "colour": null,
       "elapsed": 0.024979114532470703,
       "initial": 0,
       "n": 0,
       "ncols": null,
       "nrows": null,
       "postfix": [
        {
         "value": "Status"
        }
       ],
       "prefix": "chain 1",
       "rate": null,
       "total": 52,
       "unit": "it",
       "unit_divisor": 1000,
       "unit_scale": false
      },
      "application/vnd.jupyter.widget-view+json": {
       "model_id": "4900f8bd88564da08b27000ef4747e01",
       "version_major": 2,
       "version_minor": 0
      },
      "text/plain": [
       "chain 1 |          | 00:00 Status"
      ]
     },
     "metadata": {},
     "output_type": "display_data"
    },
    {
     "data": {
      "application/json": {
       "ascii": false,
       "bar_format": "{desc} |{bar}| {elapsed} {postfix[0][value]}",
       "colour": null,
       "elapsed": 0.020254850387573242,
       "initial": 0,
       "n": 0,
       "ncols": null,
       "nrows": null,
       "postfix": [
        {
         "value": "Status"
        }
       ],
       "prefix": "chain 2",
       "rate": null,
       "total": 52,
       "unit": "it",
       "unit_divisor": 1000,
       "unit_scale": false
      },
      "application/vnd.jupyter.widget-view+json": {
       "model_id": "993e97ae271a42d095da4346bf37d37c",
       "version_major": 2,
       "version_minor": 0
      },
      "text/plain": [
       "chain 2 |          | 00:00 Status"
      ]
     },
     "metadata": {},
     "output_type": "display_data"
    },
    {
     "data": {
      "application/json": {
       "ascii": false,
       "bar_format": "{desc} |{bar}| {elapsed} {postfix[0][value]}",
       "colour": null,
       "elapsed": 0.020750761032104492,
       "initial": 0,
       "n": 0,
       "ncols": null,
       "nrows": null,
       "postfix": [
        {
         "value": "Status"
        }
       ],
       "prefix": "chain 3",
       "rate": null,
       "total": 52,
       "unit": "it",
       "unit_divisor": 1000,
       "unit_scale": false
      },
      "application/vnd.jupyter.widget-view+json": {
       "model_id": "3eeae0bea3ac45feb3abd4e5298058fa",
       "version_major": 2,
       "version_minor": 0
      },
      "text/plain": [
       "chain 3 |          | 00:00 Status"
      ]
     },
     "metadata": {},
     "output_type": "display_data"
    },
    {
     "data": {
      "application/json": {
       "ascii": false,
       "bar_format": "{desc} |{bar}| {elapsed} {postfix[0][value]}",
       "colour": null,
       "elapsed": 0.030111074447631836,
       "initial": 0,
       "n": 0,
       "ncols": null,
       "nrows": null,
       "postfix": [
        {
         "value": "Status"
        }
       ],
       "prefix": "chain 4",
       "rate": null,
       "total": 52,
       "unit": "it",
       "unit_divisor": 1000,
       "unit_scale": false
      },
      "application/vnd.jupyter.widget-view+json": {
       "model_id": "917623bd62e74b17ad6a5617982a4976",
       "version_major": 2,
       "version_minor": 0
      },
      "text/plain": [
       "chain 4 |          | 00:00 Status"
      ]
     },
     "metadata": {},
     "output_type": "display_data"
    },
    {
     "name": "stdout",
     "output_type": "stream",
     "text": [
      "                                                                                                                                                                                                                                                                                                                                \n"
     ]
    }
   ],
   "source": [
    "#сделаем список для бэктестеров\n",
    "#начнём со скользящего\n",
    "\n",
    "test_list_rolling = []\n",
    "\n",
    "for model in model_list:\n",
    "    \n",
    "    backtester = BackTester(\n",
    "    model=model,\n",
    "    df=df,\n",
    "    min_train_len=7,\n",
    "    incremental_len=7,\n",
    "    forecast_len=7,\n",
    "    window_type=\"rolling\")\n",
    "    \n",
    "    backtester.fit_predict()\n",
    "    \n",
    "    test_list_rolling.append(backtester)"
   ]
  },
  {
   "cell_type": "code",
   "execution_count": 19,
   "id": "8e1c72c2-e4f6-47b0-a409-b44b9b48bc9f",
   "metadata": {},
   "outputs": [
    {
     "name": "stderr",
     "output_type": "stream",
     "text": [
      "2025-07-15 11:48:43 - orbit - INFO - Sampling (PyStan) with chains: 4, cores: 8, temperature: 1.000, warmups (per chain): 2500 and samples(per chain): 2500.\n"
     ]
    },
    {
     "data": {
      "application/json": {
       "ascii": false,
       "bar_format": "{desc} |{bar}| {elapsed} {postfix[0][value]}",
       "colour": null,
       "elapsed": 0.029782533645629883,
       "initial": 0,
       "n": 0,
       "ncols": null,
       "nrows": null,
       "postfix": [
        {
         "value": "Status"
        }
       ],
       "prefix": "chain 1",
       "rate": null,
       "total": 52,
       "unit": "it",
       "unit_divisor": 1000,
       "unit_scale": false
      },
      "application/vnd.jupyter.widget-view+json": {
       "model_id": "50db5de4c0cc4106a82f4535e77a7440",
       "version_major": 2,
       "version_minor": 0
      },
      "text/plain": [
       "chain 1 |          | 00:00 Status"
      ]
     },
     "metadata": {},
     "output_type": "display_data"
    },
    {
     "data": {
      "application/json": {
       "ascii": false,
       "bar_format": "{desc} |{bar}| {elapsed} {postfix[0][value]}",
       "colour": null,
       "elapsed": 0.032097816467285156,
       "initial": 0,
       "n": 0,
       "ncols": null,
       "nrows": null,
       "postfix": [
        {
         "value": "Status"
        }
       ],
       "prefix": "chain 2",
       "rate": null,
       "total": 52,
       "unit": "it",
       "unit_divisor": 1000,
       "unit_scale": false
      },
      "application/vnd.jupyter.widget-view+json": {
       "model_id": "3eced76a4d1c4c06910e2d9061fdd276",
       "version_major": 2,
       "version_minor": 0
      },
      "text/plain": [
       "chain 2 |          | 00:00 Status"
      ]
     },
     "metadata": {},
     "output_type": "display_data"
    },
    {
     "data": {
      "application/json": {
       "ascii": false,
       "bar_format": "{desc} |{bar}| {elapsed} {postfix[0][value]}",
       "colour": null,
       "elapsed": 0.02820897102355957,
       "initial": 0,
       "n": 0,
       "ncols": null,
       "nrows": null,
       "postfix": [
        {
         "value": "Status"
        }
       ],
       "prefix": "chain 3",
       "rate": null,
       "total": 52,
       "unit": "it",
       "unit_divisor": 1000,
       "unit_scale": false
      },
      "application/vnd.jupyter.widget-view+json": {
       "model_id": "f170f237bd1149f4b3a6c68b5e749be3",
       "version_major": 2,
       "version_minor": 0
      },
      "text/plain": [
       "chain 3 |          | 00:00 Status"
      ]
     },
     "metadata": {},
     "output_type": "display_data"
    },
    {
     "data": {
      "application/json": {
       "ascii": false,
       "bar_format": "{desc} |{bar}| {elapsed} {postfix[0][value]}",
       "colour": null,
       "elapsed": 0.03217601776123047,
       "initial": 0,
       "n": 0,
       "ncols": null,
       "nrows": null,
       "postfix": [
        {
         "value": "Status"
        }
       ],
       "prefix": "chain 4",
       "rate": null,
       "total": 52,
       "unit": "it",
       "unit_divisor": 1000,
       "unit_scale": false
      },
      "application/vnd.jupyter.widget-view+json": {
       "model_id": "d8d2b433b0934ab88f7d6837eeeced56",
       "version_major": 2,
       "version_minor": 0
      },
      "text/plain": [
       "chain 4 |          | 00:00 Status"
      ]
     },
     "metadata": {},
     "output_type": "display_data"
    },
    {
     "name": "stdout",
     "output_type": "stream",
     "text": [
      "                                                                                                                                                                                                                                                                                                                                \n"
     ]
    },
    {
     "name": "stderr",
     "output_type": "stream",
     "text": [
      "2025-07-15 11:48:45 - orbit - INFO - Sampling (PyStan) with chains: 4, cores: 8, temperature: 1.000, warmups (per chain): 2500 and samples(per chain): 2500.\n"
     ]
    },
    {
     "data": {
      "application/json": {
       "ascii": false,
       "bar_format": "{desc} |{bar}| {elapsed} {postfix[0][value]}",
       "colour": null,
       "elapsed": 0.0298769474029541,
       "initial": 0,
       "n": 0,
       "ncols": null,
       "nrows": null,
       "postfix": [
        {
         "value": "Status"
        }
       ],
       "prefix": "chain 1",
       "rate": null,
       "total": 52,
       "unit": "it",
       "unit_divisor": 1000,
       "unit_scale": false
      },
      "application/vnd.jupyter.widget-view+json": {
       "model_id": "3137b36c87824ccdb1bff8c3ccf492b9",
       "version_major": 2,
       "version_minor": 0
      },
      "text/plain": [
       "chain 1 |          | 00:00 Status"
      ]
     },
     "metadata": {},
     "output_type": "display_data"
    },
    {
     "data": {
      "application/json": {
       "ascii": false,
       "bar_format": "{desc} |{bar}| {elapsed} {postfix[0][value]}",
       "colour": null,
       "elapsed": 0.020912885665893555,
       "initial": 0,
       "n": 0,
       "ncols": null,
       "nrows": null,
       "postfix": [
        {
         "value": "Status"
        }
       ],
       "prefix": "chain 2",
       "rate": null,
       "total": 52,
       "unit": "it",
       "unit_divisor": 1000,
       "unit_scale": false
      },
      "application/vnd.jupyter.widget-view+json": {
       "model_id": "fcc95e55f6b041089289ef567c9706ac",
       "version_major": 2,
       "version_minor": 0
      },
      "text/plain": [
       "chain 2 |          | 00:00 Status"
      ]
     },
     "metadata": {},
     "output_type": "display_data"
    },
    {
     "data": {
      "application/json": {
       "ascii": false,
       "bar_format": "{desc} |{bar}| {elapsed} {postfix[0][value]}",
       "colour": null,
       "elapsed": 0.01871037483215332,
       "initial": 0,
       "n": 0,
       "ncols": null,
       "nrows": null,
       "postfix": [
        {
         "value": "Status"
        }
       ],
       "prefix": "chain 3",
       "rate": null,
       "total": 52,
       "unit": "it",
       "unit_divisor": 1000,
       "unit_scale": false
      },
      "application/vnd.jupyter.widget-view+json": {
       "model_id": "146ec0a98ac24f099f7232a9f0a25f3e",
       "version_major": 2,
       "version_minor": 0
      },
      "text/plain": [
       "chain 3 |          | 00:00 Status"
      ]
     },
     "metadata": {},
     "output_type": "display_data"
    },
    {
     "data": {
      "application/json": {
       "ascii": false,
       "bar_format": "{desc} |{bar}| {elapsed} {postfix[0][value]}",
       "colour": null,
       "elapsed": 0.017591238021850586,
       "initial": 0,
       "n": 0,
       "ncols": null,
       "nrows": null,
       "postfix": [
        {
         "value": "Status"
        }
       ],
       "prefix": "chain 4",
       "rate": null,
       "total": 52,
       "unit": "it",
       "unit_divisor": 1000,
       "unit_scale": false
      },
      "application/vnd.jupyter.widget-view+json": {
       "model_id": "1cd48a73d78e431295e00301a45a3cc0",
       "version_major": 2,
       "version_minor": 0
      },
      "text/plain": [
       "chain 4 |          | 00:00 Status"
      ]
     },
     "metadata": {},
     "output_type": "display_data"
    },
    {
     "name": "stdout",
     "output_type": "stream",
     "text": [
      "                                                                                                                                                                                                                                                                                                                                \n"
     ]
    },
    {
     "name": "stderr",
     "output_type": "stream",
     "text": [
      "2025-07-15 11:48:49 - orbit - INFO - Sampling (PyStan) with chains: 4, cores: 8, temperature: 1.000, warmups (per chain): 2500 and samples(per chain): 2500.\n"
     ]
    },
    {
     "data": {
      "application/json": {
       "ascii": false,
       "bar_format": "{desc} |{bar}| {elapsed} {postfix[0][value]}",
       "colour": null,
       "elapsed": 0.022153139114379883,
       "initial": 0,
       "n": 0,
       "ncols": null,
       "nrows": null,
       "postfix": [
        {
         "value": "Status"
        }
       ],
       "prefix": "chain 1",
       "rate": null,
       "total": 52,
       "unit": "it",
       "unit_divisor": 1000,
       "unit_scale": false
      },
      "application/vnd.jupyter.widget-view+json": {
       "model_id": "ce04df2da69e41f782978d11be44128e",
       "version_major": 2,
       "version_minor": 0
      },
      "text/plain": [
       "chain 1 |          | 00:00 Status"
      ]
     },
     "metadata": {},
     "output_type": "display_data"
    },
    {
     "data": {
      "application/json": {
       "ascii": false,
       "bar_format": "{desc} |{bar}| {elapsed} {postfix[0][value]}",
       "colour": null,
       "elapsed": 0.018496274948120117,
       "initial": 0,
       "n": 0,
       "ncols": null,
       "nrows": null,
       "postfix": [
        {
         "value": "Status"
        }
       ],
       "prefix": "chain 2",
       "rate": null,
       "total": 52,
       "unit": "it",
       "unit_divisor": 1000,
       "unit_scale": false
      },
      "application/vnd.jupyter.widget-view+json": {
       "model_id": "adf46aad7fdb47118014cd7a7b449d64",
       "version_major": 2,
       "version_minor": 0
      },
      "text/plain": [
       "chain 2 |          | 00:00 Status"
      ]
     },
     "metadata": {},
     "output_type": "display_data"
    },
    {
     "data": {
      "application/json": {
       "ascii": false,
       "bar_format": "{desc} |{bar}| {elapsed} {postfix[0][value]}",
       "colour": null,
       "elapsed": 0.019635677337646484,
       "initial": 0,
       "n": 0,
       "ncols": null,
       "nrows": null,
       "postfix": [
        {
         "value": "Status"
        }
       ],
       "prefix": "chain 3",
       "rate": null,
       "total": 52,
       "unit": "it",
       "unit_divisor": 1000,
       "unit_scale": false
      },
      "application/vnd.jupyter.widget-view+json": {
       "model_id": "97e0801491a14e1ca26aa7c25bcaa624",
       "version_major": 2,
       "version_minor": 0
      },
      "text/plain": [
       "chain 3 |          | 00:00 Status"
      ]
     },
     "metadata": {},
     "output_type": "display_data"
    },
    {
     "data": {
      "application/json": {
       "ascii": false,
       "bar_format": "{desc} |{bar}| {elapsed} {postfix[0][value]}",
       "colour": null,
       "elapsed": 0.017743825912475586,
       "initial": 0,
       "n": 0,
       "ncols": null,
       "nrows": null,
       "postfix": [
        {
         "value": "Status"
        }
       ],
       "prefix": "chain 4",
       "rate": null,
       "total": 52,
       "unit": "it",
       "unit_divisor": 1000,
       "unit_scale": false
      },
      "application/vnd.jupyter.widget-view+json": {
       "model_id": "7118149396aa4d07b6cd0324d45987fe",
       "version_major": 2,
       "version_minor": 0
      },
      "text/plain": [
       "chain 4 |          | 00:00 Status"
      ]
     },
     "metadata": {},
     "output_type": "display_data"
    },
    {
     "name": "stdout",
     "output_type": "stream",
     "text": [
      "                                                                                                                                                                                                                                                                                                                                \n"
     ]
    },
    {
     "name": "stderr",
     "output_type": "stream",
     "text": [
      "2025-07-15 11:48:54 - orbit - INFO - Sampling (PyStan) with chains: 4, cores: 8, temperature: 1.000, warmups (per chain): 2500 and samples(per chain): 2500.\n"
     ]
    },
    {
     "data": {
      "application/json": {
       "ascii": false,
       "bar_format": "{desc} |{bar}| {elapsed} {postfix[0][value]}",
       "colour": null,
       "elapsed": 0.021061182022094727,
       "initial": 0,
       "n": 0,
       "ncols": null,
       "nrows": null,
       "postfix": [
        {
         "value": "Status"
        }
       ],
       "prefix": "chain 1",
       "rate": null,
       "total": 52,
       "unit": "it",
       "unit_divisor": 1000,
       "unit_scale": false
      },
      "application/vnd.jupyter.widget-view+json": {
       "model_id": "31e68cee151749f5ae91187014aac541",
       "version_major": 2,
       "version_minor": 0
      },
      "text/plain": [
       "chain 1 |          | 00:00 Status"
      ]
     },
     "metadata": {},
     "output_type": "display_data"
    },
    {
     "data": {
      "application/json": {
       "ascii": false,
       "bar_format": "{desc} |{bar}| {elapsed} {postfix[0][value]}",
       "colour": null,
       "elapsed": 0.01821446418762207,
       "initial": 0,
       "n": 0,
       "ncols": null,
       "nrows": null,
       "postfix": [
        {
         "value": "Status"
        }
       ],
       "prefix": "chain 2",
       "rate": null,
       "total": 52,
       "unit": "it",
       "unit_divisor": 1000,
       "unit_scale": false
      },
      "application/vnd.jupyter.widget-view+json": {
       "model_id": "ab87084445cb4c7994f9594e7793cf0a",
       "version_major": 2,
       "version_minor": 0
      },
      "text/plain": [
       "chain 2 |          | 00:00 Status"
      ]
     },
     "metadata": {},
     "output_type": "display_data"
    },
    {
     "data": {
      "application/json": {
       "ascii": false,
       "bar_format": "{desc} |{bar}| {elapsed} {postfix[0][value]}",
       "colour": null,
       "elapsed": 0.016680002212524414,
       "initial": 0,
       "n": 0,
       "ncols": null,
       "nrows": null,
       "postfix": [
        {
         "value": "Status"
        }
       ],
       "prefix": "chain 3",
       "rate": null,
       "total": 52,
       "unit": "it",
       "unit_divisor": 1000,
       "unit_scale": false
      },
      "application/vnd.jupyter.widget-view+json": {
       "model_id": "79ed739fd0fd4280b37a1cbdebd2bcb0",
       "version_major": 2,
       "version_minor": 0
      },
      "text/plain": [
       "chain 3 |          | 00:00 Status"
      ]
     },
     "metadata": {},
     "output_type": "display_data"
    },
    {
     "data": {
      "application/json": {
       "ascii": false,
       "bar_format": "{desc} |{bar}| {elapsed} {postfix[0][value]}",
       "colour": null,
       "elapsed": 0.016678571701049805,
       "initial": 0,
       "n": 0,
       "ncols": null,
       "nrows": null,
       "postfix": [
        {
         "value": "Status"
        }
       ],
       "prefix": "chain 4",
       "rate": null,
       "total": 52,
       "unit": "it",
       "unit_divisor": 1000,
       "unit_scale": false
      },
      "application/vnd.jupyter.widget-view+json": {
       "model_id": "12318a5684c14f3dbec9389ad9508f6a",
       "version_major": 2,
       "version_minor": 0
      },
      "text/plain": [
       "chain 4 |          | 00:00 Status"
      ]
     },
     "metadata": {},
     "output_type": "display_data"
    },
    {
     "name": "stdout",
     "output_type": "stream",
     "text": [
      "                                                                                                                                                                                                                                                                                                                                \n"
     ]
    },
    {
     "name": "stderr",
     "output_type": "stream",
     "text": [
      "2025-07-15 11:48:59 - orbit - INFO - Sampling (PyStan) with chains: 4, cores: 8, temperature: 1.000, warmups (per chain): 2500 and samples(per chain): 2500.\n"
     ]
    },
    {
     "data": {
      "application/json": {
       "ascii": false,
       "bar_format": "{desc} |{bar}| {elapsed} {postfix[0][value]}",
       "colour": null,
       "elapsed": 0.020538330078125,
       "initial": 0,
       "n": 0,
       "ncols": null,
       "nrows": null,
       "postfix": [
        {
         "value": "Status"
        }
       ],
       "prefix": "chain 1",
       "rate": null,
       "total": 52,
       "unit": "it",
       "unit_divisor": 1000,
       "unit_scale": false
      },
      "application/vnd.jupyter.widget-view+json": {
       "model_id": "62a1c8a438b741119540250107691509",
       "version_major": 2,
       "version_minor": 0
      },
      "text/plain": [
       "chain 1 |          | 00:00 Status"
      ]
     },
     "metadata": {},
     "output_type": "display_data"
    },
    {
     "data": {
      "application/json": {
       "ascii": false,
       "bar_format": "{desc} |{bar}| {elapsed} {postfix[0][value]}",
       "colour": null,
       "elapsed": 0.017166852951049805,
       "initial": 0,
       "n": 0,
       "ncols": null,
       "nrows": null,
       "postfix": [
        {
         "value": "Status"
        }
       ],
       "prefix": "chain 2",
       "rate": null,
       "total": 52,
       "unit": "it",
       "unit_divisor": 1000,
       "unit_scale": false
      },
      "application/vnd.jupyter.widget-view+json": {
       "model_id": "8bf43b6292cf40da87459bb2d86fd361",
       "version_major": 2,
       "version_minor": 0
      },
      "text/plain": [
       "chain 2 |          | 00:00 Status"
      ]
     },
     "metadata": {},
     "output_type": "display_data"
    },
    {
     "data": {
      "application/json": {
       "ascii": false,
       "bar_format": "{desc} |{bar}| {elapsed} {postfix[0][value]}",
       "colour": null,
       "elapsed": 0.016277074813842773,
       "initial": 0,
       "n": 0,
       "ncols": null,
       "nrows": null,
       "postfix": [
        {
         "value": "Status"
        }
       ],
       "prefix": "chain 3",
       "rate": null,
       "total": 52,
       "unit": "it",
       "unit_divisor": 1000,
       "unit_scale": false
      },
      "application/vnd.jupyter.widget-view+json": {
       "model_id": "8616786459d443cd8a3ed63b9fbb0913",
       "version_major": 2,
       "version_minor": 0
      },
      "text/plain": [
       "chain 3 |          | 00:00 Status"
      ]
     },
     "metadata": {},
     "output_type": "display_data"
    },
    {
     "data": {
      "application/json": {
       "ascii": false,
       "bar_format": "{desc} |{bar}| {elapsed} {postfix[0][value]}",
       "colour": null,
       "elapsed": 0.01671314239501953,
       "initial": 0,
       "n": 0,
       "ncols": null,
       "nrows": null,
       "postfix": [
        {
         "value": "Status"
        }
       ],
       "prefix": "chain 4",
       "rate": null,
       "total": 52,
       "unit": "it",
       "unit_divisor": 1000,
       "unit_scale": false
      },
      "application/vnd.jupyter.widget-view+json": {
       "model_id": "bfa1800aab564ae8a4245518ea280258",
       "version_major": 2,
       "version_minor": 0
      },
      "text/plain": [
       "chain 4 |          | 00:00 Status"
      ]
     },
     "metadata": {},
     "output_type": "display_data"
    },
    {
     "name": "stdout",
     "output_type": "stream",
     "text": [
      "                                                                                                                                                                                                                                                                                                                                \n"
     ]
    },
    {
     "name": "stderr",
     "output_type": "stream",
     "text": [
      "2025-07-15 11:49:06 - orbit - INFO - Sampling (PyStan) with chains: 4, cores: 8, temperature: 1.000, warmups (per chain): 2500 and samples(per chain): 2500.\n"
     ]
    },
    {
     "data": {
      "application/json": {
       "ascii": false,
       "bar_format": "{desc} |{bar}| {elapsed} {postfix[0][value]}",
       "colour": null,
       "elapsed": 0.021150588989257812,
       "initial": 0,
       "n": 0,
       "ncols": null,
       "nrows": null,
       "postfix": [
        {
         "value": "Status"
        }
       ],
       "prefix": "chain 1",
       "rate": null,
       "total": 52,
       "unit": "it",
       "unit_divisor": 1000,
       "unit_scale": false
      },
      "application/vnd.jupyter.widget-view+json": {
       "model_id": "5b9a503754f84324be2da6fb7a407289",
       "version_major": 2,
       "version_minor": 0
      },
      "text/plain": [
       "chain 1 |          | 00:00 Status"
      ]
     },
     "metadata": {},
     "output_type": "display_data"
    },
    {
     "data": {
      "application/json": {
       "ascii": false,
       "bar_format": "{desc} |{bar}| {elapsed} {postfix[0][value]}",
       "colour": null,
       "elapsed": 0.017574787139892578,
       "initial": 0,
       "n": 0,
       "ncols": null,
       "nrows": null,
       "postfix": [
        {
         "value": "Status"
        }
       ],
       "prefix": "chain 2",
       "rate": null,
       "total": 52,
       "unit": "it",
       "unit_divisor": 1000,
       "unit_scale": false
      },
      "application/vnd.jupyter.widget-view+json": {
       "model_id": "70b0adda4b1d4deaaaa3d650514c638a",
       "version_major": 2,
       "version_minor": 0
      },
      "text/plain": [
       "chain 2 |          | 00:00 Status"
      ]
     },
     "metadata": {},
     "output_type": "display_data"
    },
    {
     "data": {
      "application/json": {
       "ascii": false,
       "bar_format": "{desc} |{bar}| {elapsed} {postfix[0][value]}",
       "colour": null,
       "elapsed": 0.01739645004272461,
       "initial": 0,
       "n": 0,
       "ncols": null,
       "nrows": null,
       "postfix": [
        {
         "value": "Status"
        }
       ],
       "prefix": "chain 3",
       "rate": null,
       "total": 52,
       "unit": "it",
       "unit_divisor": 1000,
       "unit_scale": false
      },
      "application/vnd.jupyter.widget-view+json": {
       "model_id": "68a197b1f51e4bd88f940f08b0b377d4",
       "version_major": 2,
       "version_minor": 0
      },
      "text/plain": [
       "chain 3 |          | 00:00 Status"
      ]
     },
     "metadata": {},
     "output_type": "display_data"
    },
    {
     "data": {
      "application/json": {
       "ascii": false,
       "bar_format": "{desc} |{bar}| {elapsed} {postfix[0][value]}",
       "colour": null,
       "elapsed": 0.017071962356567383,
       "initial": 0,
       "n": 0,
       "ncols": null,
       "nrows": null,
       "postfix": [
        {
         "value": "Status"
        }
       ],
       "prefix": "chain 4",
       "rate": null,
       "total": 52,
       "unit": "it",
       "unit_divisor": 1000,
       "unit_scale": false
      },
      "application/vnd.jupyter.widget-view+json": {
       "model_id": "99c41813795444358de1a19f5bbdc7fa",
       "version_major": 2,
       "version_minor": 0
      },
      "text/plain": [
       "chain 4 |          | 00:00 Status"
      ]
     },
     "metadata": {},
     "output_type": "display_data"
    },
    {
     "name": "stdout",
     "output_type": "stream",
     "text": [
      "                                                                                                                                                                                                                                                                                                                                \n"
     ]
    },
    {
     "name": "stderr",
     "output_type": "stream",
     "text": [
      "2025-07-15 11:49:13 - orbit - INFO - Sampling (PyStan) with chains: 4, cores: 8, temperature: 1.000, warmups (per chain): 2500 and samples(per chain): 2500.\n"
     ]
    },
    {
     "data": {
      "application/json": {
       "ascii": false,
       "bar_format": "{desc} |{bar}| {elapsed} {postfix[0][value]}",
       "colour": null,
       "elapsed": 0.021250247955322266,
       "initial": 0,
       "n": 0,
       "ncols": null,
       "nrows": null,
       "postfix": [
        {
         "value": "Status"
        }
       ],
       "prefix": "chain 1",
       "rate": null,
       "total": 52,
       "unit": "it",
       "unit_divisor": 1000,
       "unit_scale": false
      },
      "application/vnd.jupyter.widget-view+json": {
       "model_id": "58469968c68a460bac49612b8fc78464",
       "version_major": 2,
       "version_minor": 0
      },
      "text/plain": [
       "chain 1 |          | 00:00 Status"
      ]
     },
     "metadata": {},
     "output_type": "display_data"
    },
    {
     "data": {
      "application/json": {
       "ascii": false,
       "bar_format": "{desc} |{bar}| {elapsed} {postfix[0][value]}",
       "colour": null,
       "elapsed": 0.018631935119628906,
       "initial": 0,
       "n": 0,
       "ncols": null,
       "nrows": null,
       "postfix": [
        {
         "value": "Status"
        }
       ],
       "prefix": "chain 2",
       "rate": null,
       "total": 52,
       "unit": "it",
       "unit_divisor": 1000,
       "unit_scale": false
      },
      "application/vnd.jupyter.widget-view+json": {
       "model_id": "0046bb977a404be093c5cd6af8832f0c",
       "version_major": 2,
       "version_minor": 0
      },
      "text/plain": [
       "chain 2 |          | 00:00 Status"
      ]
     },
     "metadata": {},
     "output_type": "display_data"
    },
    {
     "data": {
      "application/json": {
       "ascii": false,
       "bar_format": "{desc} |{bar}| {elapsed} {postfix[0][value]}",
       "colour": null,
       "elapsed": 0.02191472053527832,
       "initial": 0,
       "n": 0,
       "ncols": null,
       "nrows": null,
       "postfix": [
        {
         "value": "Status"
        }
       ],
       "prefix": "chain 3",
       "rate": null,
       "total": 52,
       "unit": "it",
       "unit_divisor": 1000,
       "unit_scale": false
      },
      "application/vnd.jupyter.widget-view+json": {
       "model_id": "a2e1336c27164dd4959cbadde6d37d96",
       "version_major": 2,
       "version_minor": 0
      },
      "text/plain": [
       "chain 3 |          | 00:00 Status"
      ]
     },
     "metadata": {},
     "output_type": "display_data"
    },
    {
     "data": {
      "application/json": {
       "ascii": false,
       "bar_format": "{desc} |{bar}| {elapsed} {postfix[0][value]}",
       "colour": null,
       "elapsed": 0.022142648696899414,
       "initial": 0,
       "n": 0,
       "ncols": null,
       "nrows": null,
       "postfix": [
        {
         "value": "Status"
        }
       ],
       "prefix": "chain 4",
       "rate": null,
       "total": 52,
       "unit": "it",
       "unit_divisor": 1000,
       "unit_scale": false
      },
      "application/vnd.jupyter.widget-view+json": {
       "model_id": "f1fafeafa8e247e188151209b0716fb1",
       "version_major": 2,
       "version_minor": 0
      },
      "text/plain": [
       "chain 4 |          | 00:00 Status"
      ]
     },
     "metadata": {},
     "output_type": "display_data"
    },
    {
     "name": "stdout",
     "output_type": "stream",
     "text": [
      "                                                                                                                                                                                                                                                                                                                                \n"
     ]
    },
    {
     "name": "stderr",
     "output_type": "stream",
     "text": [
      "2025-07-15 11:49:23 - orbit - INFO - Sampling (PyStan) with chains: 4, cores: 8, temperature: 1.000, warmups (per chain): 2500 and samples(per chain): 2500.\n"
     ]
    },
    {
     "data": {
      "application/json": {
       "ascii": false,
       "bar_format": "{desc} |{bar}| {elapsed} {postfix[0][value]}",
       "colour": null,
       "elapsed": 0.023025035858154297,
       "initial": 0,
       "n": 0,
       "ncols": null,
       "nrows": null,
       "postfix": [
        {
         "value": "Status"
        }
       ],
       "prefix": "chain 1",
       "rate": null,
       "total": 52,
       "unit": "it",
       "unit_divisor": 1000,
       "unit_scale": false
      },
      "application/vnd.jupyter.widget-view+json": {
       "model_id": "9387e2c8dcbd45298bfdbd3d3fa58343",
       "version_major": 2,
       "version_minor": 0
      },
      "text/plain": [
       "chain 1 |          | 00:00 Status"
      ]
     },
     "metadata": {},
     "output_type": "display_data"
    },
    {
     "data": {
      "application/json": {
       "ascii": false,
       "bar_format": "{desc} |{bar}| {elapsed} {postfix[0][value]}",
       "colour": null,
       "elapsed": 0.019018173217773438,
       "initial": 0,
       "n": 0,
       "ncols": null,
       "nrows": null,
       "postfix": [
        {
         "value": "Status"
        }
       ],
       "prefix": "chain 2",
       "rate": null,
       "total": 52,
       "unit": "it",
       "unit_divisor": 1000,
       "unit_scale": false
      },
      "application/vnd.jupyter.widget-view+json": {
       "model_id": "ce9bc34bd05d4f32bc74b8dd8483a17d",
       "version_major": 2,
       "version_minor": 0
      },
      "text/plain": [
       "chain 2 |          | 00:00 Status"
      ]
     },
     "metadata": {},
     "output_type": "display_data"
    },
    {
     "data": {
      "application/json": {
       "ascii": false,
       "bar_format": "{desc} |{bar}| {elapsed} {postfix[0][value]}",
       "colour": null,
       "elapsed": 0.017658233642578125,
       "initial": 0,
       "n": 0,
       "ncols": null,
       "nrows": null,
       "postfix": [
        {
         "value": "Status"
        }
       ],
       "prefix": "chain 3",
       "rate": null,
       "total": 52,
       "unit": "it",
       "unit_divisor": 1000,
       "unit_scale": false
      },
      "application/vnd.jupyter.widget-view+json": {
       "model_id": "54618399a42c43ccb5bcac0cb5f3ea5c",
       "version_major": 2,
       "version_minor": 0
      },
      "text/plain": [
       "chain 3 |          | 00:00 Status"
      ]
     },
     "metadata": {},
     "output_type": "display_data"
    },
    {
     "data": {
      "application/json": {
       "ascii": false,
       "bar_format": "{desc} |{bar}| {elapsed} {postfix[0][value]}",
       "colour": null,
       "elapsed": 0.017719030380249023,
       "initial": 0,
       "n": 0,
       "ncols": null,
       "nrows": null,
       "postfix": [
        {
         "value": "Status"
        }
       ],
       "prefix": "chain 4",
       "rate": null,
       "total": 52,
       "unit": "it",
       "unit_divisor": 1000,
       "unit_scale": false
      },
      "application/vnd.jupyter.widget-view+json": {
       "model_id": "57336ff2f2ad44a0bac8c99a4e4f33cf",
       "version_major": 2,
       "version_minor": 0
      },
      "text/plain": [
       "chain 4 |          | 00:00 Status"
      ]
     },
     "metadata": {},
     "output_type": "display_data"
    },
    {
     "name": "stdout",
     "output_type": "stream",
     "text": [
      "                                                                                                                                                                                                                                                                                                                                \n"
     ]
    },
    {
     "name": "stderr",
     "output_type": "stream",
     "text": [
      "2025-07-15 11:49:33 - orbit - INFO - Sampling (PyStan) with chains: 4, cores: 8, temperature: 1.000, warmups (per chain): 2500 and samples(per chain): 2500.\n"
     ]
    },
    {
     "data": {
      "application/json": {
       "ascii": false,
       "bar_format": "{desc} |{bar}| {elapsed} {postfix[0][value]}",
       "colour": null,
       "elapsed": 0.021410226821899414,
       "initial": 0,
       "n": 0,
       "ncols": null,
       "nrows": null,
       "postfix": [
        {
         "value": "Status"
        }
       ],
       "prefix": "chain 1",
       "rate": null,
       "total": 52,
       "unit": "it",
       "unit_divisor": 1000,
       "unit_scale": false
      },
      "application/vnd.jupyter.widget-view+json": {
       "model_id": "3b09d334126144799e676d36608d0ac3",
       "version_major": 2,
       "version_minor": 0
      },
      "text/plain": [
       "chain 1 |          | 00:00 Status"
      ]
     },
     "metadata": {},
     "output_type": "display_data"
    },
    {
     "data": {
      "application/json": {
       "ascii": false,
       "bar_format": "{desc} |{bar}| {elapsed} {postfix[0][value]}",
       "colour": null,
       "elapsed": 0.016612768173217773,
       "initial": 0,
       "n": 0,
       "ncols": null,
       "nrows": null,
       "postfix": [
        {
         "value": "Status"
        }
       ],
       "prefix": "chain 2",
       "rate": null,
       "total": 52,
       "unit": "it",
       "unit_divisor": 1000,
       "unit_scale": false
      },
      "application/vnd.jupyter.widget-view+json": {
       "model_id": "378be8013a0d48f78df7b4506b1d2589",
       "version_major": 2,
       "version_minor": 0
      },
      "text/plain": [
       "chain 2 |          | 00:00 Status"
      ]
     },
     "metadata": {},
     "output_type": "display_data"
    },
    {
     "data": {
      "application/json": {
       "ascii": false,
       "bar_format": "{desc} |{bar}| {elapsed} {postfix[0][value]}",
       "colour": null,
       "elapsed": 0.017091989517211914,
       "initial": 0,
       "n": 0,
       "ncols": null,
       "nrows": null,
       "postfix": [
        {
         "value": "Status"
        }
       ],
       "prefix": "chain 3",
       "rate": null,
       "total": 52,
       "unit": "it",
       "unit_divisor": 1000,
       "unit_scale": false
      },
      "application/vnd.jupyter.widget-view+json": {
       "model_id": "0e462148577a4f76887b0d2a6b42ec63",
       "version_major": 2,
       "version_minor": 0
      },
      "text/plain": [
       "chain 3 |          | 00:00 Status"
      ]
     },
     "metadata": {},
     "output_type": "display_data"
    },
    {
     "data": {
      "application/json": {
       "ascii": false,
       "bar_format": "{desc} |{bar}| {elapsed} {postfix[0][value]}",
       "colour": null,
       "elapsed": 0.016704082489013672,
       "initial": 0,
       "n": 0,
       "ncols": null,
       "nrows": null,
       "postfix": [
        {
         "value": "Status"
        }
       ],
       "prefix": "chain 4",
       "rate": null,
       "total": 52,
       "unit": "it",
       "unit_divisor": 1000,
       "unit_scale": false
      },
      "application/vnd.jupyter.widget-view+json": {
       "model_id": "44d90cb59bff417ba7cdaccd351047fb",
       "version_major": 2,
       "version_minor": 0
      },
      "text/plain": [
       "chain 4 |          | 00:00 Status"
      ]
     },
     "metadata": {},
     "output_type": "display_data"
    },
    {
     "name": "stdout",
     "output_type": "stream",
     "text": [
      "                                                                                                                                                                                                                                                                                                                                \n"
     ]
    },
    {
     "name": "stderr",
     "output_type": "stream",
     "text": [
      "2025-07-15 11:49:44 - orbit - INFO - Sampling (PyStan) with chains: 4, cores: 8, temperature: 1.000, warmups (per chain): 2500 and samples(per chain): 2500.\n"
     ]
    },
    {
     "data": {
      "application/json": {
       "ascii": false,
       "bar_format": "{desc} |{bar}| {elapsed} {postfix[0][value]}",
       "colour": null,
       "elapsed": 0.021077871322631836,
       "initial": 0,
       "n": 0,
       "ncols": null,
       "nrows": null,
       "postfix": [
        {
         "value": "Status"
        }
       ],
       "prefix": "chain 1",
       "rate": null,
       "total": 52,
       "unit": "it",
       "unit_divisor": 1000,
       "unit_scale": false
      },
      "application/vnd.jupyter.widget-view+json": {
       "model_id": "3f296cb62c4e4105b966c4ce3c0110d3",
       "version_major": 2,
       "version_minor": 0
      },
      "text/plain": [
       "chain 1 |          | 00:00 Status"
      ]
     },
     "metadata": {},
     "output_type": "display_data"
    },
    {
     "data": {
      "application/json": {
       "ascii": false,
       "bar_format": "{desc} |{bar}| {elapsed} {postfix[0][value]}",
       "colour": null,
       "elapsed": 0.017737865447998047,
       "initial": 0,
       "n": 0,
       "ncols": null,
       "nrows": null,
       "postfix": [
        {
         "value": "Status"
        }
       ],
       "prefix": "chain 2",
       "rate": null,
       "total": 52,
       "unit": "it",
       "unit_divisor": 1000,
       "unit_scale": false
      },
      "application/vnd.jupyter.widget-view+json": {
       "model_id": "b5a118098dfa445ab0f9d5bedc34bab5",
       "version_major": 2,
       "version_minor": 0
      },
      "text/plain": [
       "chain 2 |          | 00:00 Status"
      ]
     },
     "metadata": {},
     "output_type": "display_data"
    },
    {
     "data": {
      "application/json": {
       "ascii": false,
       "bar_format": "{desc} |{bar}| {elapsed} {postfix[0][value]}",
       "colour": null,
       "elapsed": 0.029393672943115234,
       "initial": 0,
       "n": 0,
       "ncols": null,
       "nrows": null,
       "postfix": [
        {
         "value": "Status"
        }
       ],
       "prefix": "chain 3",
       "rate": null,
       "total": 52,
       "unit": "it",
       "unit_divisor": 1000,
       "unit_scale": false
      },
      "application/vnd.jupyter.widget-view+json": {
       "model_id": "fd82f300db77483480ef1d9c51000bfa",
       "version_major": 2,
       "version_minor": 0
      },
      "text/plain": [
       "chain 3 |          | 00:00 Status"
      ]
     },
     "metadata": {},
     "output_type": "display_data"
    },
    {
     "data": {
      "application/json": {
       "ascii": false,
       "bar_format": "{desc} |{bar}| {elapsed} {postfix[0][value]}",
       "colour": null,
       "elapsed": 0.024037599563598633,
       "initial": 0,
       "n": 0,
       "ncols": null,
       "nrows": null,
       "postfix": [
        {
         "value": "Status"
        }
       ],
       "prefix": "chain 4",
       "rate": null,
       "total": 52,
       "unit": "it",
       "unit_divisor": 1000,
       "unit_scale": false
      },
      "application/vnd.jupyter.widget-view+json": {
       "model_id": "876c366d37e14c13a1ac0cebbc9111c1",
       "version_major": 2,
       "version_minor": 0
      },
      "text/plain": [
       "chain 4 |          | 00:00 Status"
      ]
     },
     "metadata": {},
     "output_type": "display_data"
    },
    {
     "name": "stdout",
     "output_type": "stream",
     "text": [
      "                                                                                                                                                                                                                                                                                                                                \n"
     ]
    },
    {
     "name": "stderr",
     "output_type": "stream",
     "text": [
      "2025-07-15 11:49:56 - orbit - INFO - Sampling (PyStan) with chains: 4, cores: 8, temperature: 1.000, warmups (per chain): 2500 and samples(per chain): 2500.\n"
     ]
    },
    {
     "data": {
      "application/json": {
       "ascii": false,
       "bar_format": "{desc} |{bar}| {elapsed} {postfix[0][value]}",
       "colour": null,
       "elapsed": 0.02087116241455078,
       "initial": 0,
       "n": 0,
       "ncols": null,
       "nrows": null,
       "postfix": [
        {
         "value": "Status"
        }
       ],
       "prefix": "chain 1",
       "rate": null,
       "total": 52,
       "unit": "it",
       "unit_divisor": 1000,
       "unit_scale": false
      },
      "application/vnd.jupyter.widget-view+json": {
       "model_id": "449962d1a0274c488ef2e083977db4e2",
       "version_major": 2,
       "version_minor": 0
      },
      "text/plain": [
       "chain 1 |          | 00:00 Status"
      ]
     },
     "metadata": {},
     "output_type": "display_data"
    },
    {
     "data": {
      "application/json": {
       "ascii": false,
       "bar_format": "{desc} |{bar}| {elapsed} {postfix[0][value]}",
       "colour": null,
       "elapsed": 0.01725149154663086,
       "initial": 0,
       "n": 0,
       "ncols": null,
       "nrows": null,
       "postfix": [
        {
         "value": "Status"
        }
       ],
       "prefix": "chain 2",
       "rate": null,
       "total": 52,
       "unit": "it",
       "unit_divisor": 1000,
       "unit_scale": false
      },
      "application/vnd.jupyter.widget-view+json": {
       "model_id": "70075e0282c7416dbe8c0b2142b7c1e8",
       "version_major": 2,
       "version_minor": 0
      },
      "text/plain": [
       "chain 2 |          | 00:00 Status"
      ]
     },
     "metadata": {},
     "output_type": "display_data"
    },
    {
     "data": {
      "application/json": {
       "ascii": false,
       "bar_format": "{desc} |{bar}| {elapsed} {postfix[0][value]}",
       "colour": null,
       "elapsed": 0.017629146575927734,
       "initial": 0,
       "n": 0,
       "ncols": null,
       "nrows": null,
       "postfix": [
        {
         "value": "Status"
        }
       ],
       "prefix": "chain 3",
       "rate": null,
       "total": 52,
       "unit": "it",
       "unit_divisor": 1000,
       "unit_scale": false
      },
      "application/vnd.jupyter.widget-view+json": {
       "model_id": "daeb296af1874e0088ce09f44721c68b",
       "version_major": 2,
       "version_minor": 0
      },
      "text/plain": [
       "chain 3 |          | 00:00 Status"
      ]
     },
     "metadata": {},
     "output_type": "display_data"
    },
    {
     "data": {
      "application/json": {
       "ascii": false,
       "bar_format": "{desc} |{bar}| {elapsed} {postfix[0][value]}",
       "colour": null,
       "elapsed": 0.01844620704650879,
       "initial": 0,
       "n": 0,
       "ncols": null,
       "nrows": null,
       "postfix": [
        {
         "value": "Status"
        }
       ],
       "prefix": "chain 4",
       "rate": null,
       "total": 52,
       "unit": "it",
       "unit_divisor": 1000,
       "unit_scale": false
      },
      "application/vnd.jupyter.widget-view+json": {
       "model_id": "0fead1b459674be38ccadc195a73731b",
       "version_major": 2,
       "version_minor": 0
      },
      "text/plain": [
       "chain 4 |          | 00:00 Status"
      ]
     },
     "metadata": {},
     "output_type": "display_data"
    },
    {
     "name": "stdout",
     "output_type": "stream",
     "text": [
      "                                                                                                                                                                                                                                                                                                                                \n"
     ]
    },
    {
     "name": "stderr",
     "output_type": "stream",
     "text": [
      "2025-07-15 11:50:10 - orbit - INFO - Sampling (PyStan) with chains: 4, cores: 8, temperature: 1.000, warmups (per chain): 2500 and samples(per chain): 2500.\n"
     ]
    },
    {
     "data": {
      "application/json": {
       "ascii": false,
       "bar_format": "{desc} |{bar}| {elapsed} {postfix[0][value]}",
       "colour": null,
       "elapsed": 0.025444984436035156,
       "initial": 0,
       "n": 0,
       "ncols": null,
       "nrows": null,
       "postfix": [
        {
         "value": "Status"
        }
       ],
       "prefix": "chain 1",
       "rate": null,
       "total": 52,
       "unit": "it",
       "unit_divisor": 1000,
       "unit_scale": false
      },
      "application/vnd.jupyter.widget-view+json": {
       "model_id": "49b947aa5e2843538defab6355b7ac69",
       "version_major": 2,
       "version_minor": 0
      },
      "text/plain": [
       "chain 1 |          | 00:00 Status"
      ]
     },
     "metadata": {},
     "output_type": "display_data"
    },
    {
     "data": {
      "application/json": {
       "ascii": false,
       "bar_format": "{desc} |{bar}| {elapsed} {postfix[0][value]}",
       "colour": null,
       "elapsed": 0.020273208618164062,
       "initial": 0,
       "n": 0,
       "ncols": null,
       "nrows": null,
       "postfix": [
        {
         "value": "Status"
        }
       ],
       "prefix": "chain 2",
       "rate": null,
       "total": 52,
       "unit": "it",
       "unit_divisor": 1000,
       "unit_scale": false
      },
      "application/vnd.jupyter.widget-view+json": {
       "model_id": "f3629b5ca9e64c68b368207e8068acb8",
       "version_major": 2,
       "version_minor": 0
      },
      "text/plain": [
       "chain 2 |          | 00:00 Status"
      ]
     },
     "metadata": {},
     "output_type": "display_data"
    },
    {
     "data": {
      "application/json": {
       "ascii": false,
       "bar_format": "{desc} |{bar}| {elapsed} {postfix[0][value]}",
       "colour": null,
       "elapsed": 0.01880049705505371,
       "initial": 0,
       "n": 0,
       "ncols": null,
       "nrows": null,
       "postfix": [
        {
         "value": "Status"
        }
       ],
       "prefix": "chain 3",
       "rate": null,
       "total": 52,
       "unit": "it",
       "unit_divisor": 1000,
       "unit_scale": false
      },
      "application/vnd.jupyter.widget-view+json": {
       "model_id": "22135d5a5fc24803877551fea4e152db",
       "version_major": 2,
       "version_minor": 0
      },
      "text/plain": [
       "chain 3 |          | 00:00 Status"
      ]
     },
     "metadata": {},
     "output_type": "display_data"
    },
    {
     "data": {
      "application/json": {
       "ascii": false,
       "bar_format": "{desc} |{bar}| {elapsed} {postfix[0][value]}",
       "colour": null,
       "elapsed": 0.017951250076293945,
       "initial": 0,
       "n": 0,
       "ncols": null,
       "nrows": null,
       "postfix": [
        {
         "value": "Status"
        }
       ],
       "prefix": "chain 4",
       "rate": null,
       "total": 52,
       "unit": "it",
       "unit_divisor": 1000,
       "unit_scale": false
      },
      "application/vnd.jupyter.widget-view+json": {
       "model_id": "2e51ae7a12db4a3c9b7d9828ad043b38",
       "version_major": 2,
       "version_minor": 0
      },
      "text/plain": [
       "chain 4 |          | 00:00 Status"
      ]
     },
     "metadata": {},
     "output_type": "display_data"
    },
    {
     "name": "stdout",
     "output_type": "stream",
     "text": [
      "                                                                                                                                                                                                                                                                                                                                \n"
     ]
    },
    {
     "name": "stderr",
     "output_type": "stream",
     "text": [
      "2025-07-15 11:50:24 - orbit - INFO - Sampling (PyStan) with chains: 4, cores: 8, temperature: 1.000, warmups (per chain): 2500 and samples(per chain): 2500.\n"
     ]
    },
    {
     "data": {
      "application/json": {
       "ascii": false,
       "bar_format": "{desc} |{bar}| {elapsed} {postfix[0][value]}",
       "colour": null,
       "elapsed": 0.027227163314819336,
       "initial": 0,
       "n": 0,
       "ncols": null,
       "nrows": null,
       "postfix": [
        {
         "value": "Status"
        }
       ],
       "prefix": "chain 1",
       "rate": null,
       "total": 52,
       "unit": "it",
       "unit_divisor": 1000,
       "unit_scale": false
      },
      "application/vnd.jupyter.widget-view+json": {
       "model_id": "d371a54365fa4e71b2dc095329e0c240",
       "version_major": 2,
       "version_minor": 0
      },
      "text/plain": [
       "chain 1 |          | 00:00 Status"
      ]
     },
     "metadata": {},
     "output_type": "display_data"
    },
    {
     "data": {
      "application/json": {
       "ascii": false,
       "bar_format": "{desc} |{bar}| {elapsed} {postfix[0][value]}",
       "colour": null,
       "elapsed": 0.02401590347290039,
       "initial": 0,
       "n": 0,
       "ncols": null,
       "nrows": null,
       "postfix": [
        {
         "value": "Status"
        }
       ],
       "prefix": "chain 2",
       "rate": null,
       "total": 52,
       "unit": "it",
       "unit_divisor": 1000,
       "unit_scale": false
      },
      "application/vnd.jupyter.widget-view+json": {
       "model_id": "a6178f9050304681a1c4ae95ecce0ff9",
       "version_major": 2,
       "version_minor": 0
      },
      "text/plain": [
       "chain 2 |          | 00:00 Status"
      ]
     },
     "metadata": {},
     "output_type": "display_data"
    },
    {
     "data": {
      "application/json": {
       "ascii": false,
       "bar_format": "{desc} |{bar}| {elapsed} {postfix[0][value]}",
       "colour": null,
       "elapsed": 0.018985509872436523,
       "initial": 0,
       "n": 0,
       "ncols": null,
       "nrows": null,
       "postfix": [
        {
         "value": "Status"
        }
       ],
       "prefix": "chain 3",
       "rate": null,
       "total": 52,
       "unit": "it",
       "unit_divisor": 1000,
       "unit_scale": false
      },
      "application/vnd.jupyter.widget-view+json": {
       "model_id": "ec3345d45d834c02899c39fee12646af",
       "version_major": 2,
       "version_minor": 0
      },
      "text/plain": [
       "chain 3 |          | 00:00 Status"
      ]
     },
     "metadata": {},
     "output_type": "display_data"
    },
    {
     "data": {
      "application/json": {
       "ascii": false,
       "bar_format": "{desc} |{bar}| {elapsed} {postfix[0][value]}",
       "colour": null,
       "elapsed": 0.020516157150268555,
       "initial": 0,
       "n": 0,
       "ncols": null,
       "nrows": null,
       "postfix": [
        {
         "value": "Status"
        }
       ],
       "prefix": "chain 4",
       "rate": null,
       "total": 52,
       "unit": "it",
       "unit_divisor": 1000,
       "unit_scale": false
      },
      "application/vnd.jupyter.widget-view+json": {
       "model_id": "905b56f964c2469b8be3264c8afbfc4a",
       "version_major": 2,
       "version_minor": 0
      },
      "text/plain": [
       "chain 4 |          | 00:00 Status"
      ]
     },
     "metadata": {},
     "output_type": "display_data"
    },
    {
     "name": "stdout",
     "output_type": "stream",
     "text": [
      "                                                                                                                                                                                                                                                                                                                                \n"
     ]
    },
    {
     "name": "stderr",
     "output_type": "stream",
     "text": [
      "2025-07-15 11:50:39 - orbit - INFO - Sampling (PyStan) with chains: 4, cores: 8, temperature: 1.000, warmups (per chain): 2500 and samples(per chain): 2500.\n"
     ]
    },
    {
     "data": {
      "application/json": {
       "ascii": false,
       "bar_format": "{desc} |{bar}| {elapsed} {postfix[0][value]}",
       "colour": null,
       "elapsed": 0.020785808563232422,
       "initial": 0,
       "n": 0,
       "ncols": null,
       "nrows": null,
       "postfix": [
        {
         "value": "Status"
        }
       ],
       "prefix": "chain 1",
       "rate": null,
       "total": 52,
       "unit": "it",
       "unit_divisor": 1000,
       "unit_scale": false
      },
      "application/vnd.jupyter.widget-view+json": {
       "model_id": "584d7e4ca1a54302812549c8499d33ef",
       "version_major": 2,
       "version_minor": 0
      },
      "text/plain": [
       "chain 1 |          | 00:00 Status"
      ]
     },
     "metadata": {},
     "output_type": "display_data"
    },
    {
     "data": {
      "application/json": {
       "ascii": false,
       "bar_format": "{desc} |{bar}| {elapsed} {postfix[0][value]}",
       "colour": null,
       "elapsed": 0.017673015594482422,
       "initial": 0,
       "n": 0,
       "ncols": null,
       "nrows": null,
       "postfix": [
        {
         "value": "Status"
        }
       ],
       "prefix": "chain 2",
       "rate": null,
       "total": 52,
       "unit": "it",
       "unit_divisor": 1000,
       "unit_scale": false
      },
      "application/vnd.jupyter.widget-view+json": {
       "model_id": "4dee2ae5e05640bf87fa688c64657bf8",
       "version_major": 2,
       "version_minor": 0
      },
      "text/plain": [
       "chain 2 |          | 00:00 Status"
      ]
     },
     "metadata": {},
     "output_type": "display_data"
    },
    {
     "data": {
      "application/json": {
       "ascii": false,
       "bar_format": "{desc} |{bar}| {elapsed} {postfix[0][value]}",
       "colour": null,
       "elapsed": 0.017634868621826172,
       "initial": 0,
       "n": 0,
       "ncols": null,
       "nrows": null,
       "postfix": [
        {
         "value": "Status"
        }
       ],
       "prefix": "chain 3",
       "rate": null,
       "total": 52,
       "unit": "it",
       "unit_divisor": 1000,
       "unit_scale": false
      },
      "application/vnd.jupyter.widget-view+json": {
       "model_id": "597ccc3d8e194f09a33a6ab8cc4940aa",
       "version_major": 2,
       "version_minor": 0
      },
      "text/plain": [
       "chain 3 |          | 00:00 Status"
      ]
     },
     "metadata": {},
     "output_type": "display_data"
    },
    {
     "data": {
      "application/json": {
       "ascii": false,
       "bar_format": "{desc} |{bar}| {elapsed} {postfix[0][value]}",
       "colour": null,
       "elapsed": 0.016993999481201172,
       "initial": 0,
       "n": 0,
       "ncols": null,
       "nrows": null,
       "postfix": [
        {
         "value": "Status"
        }
       ],
       "prefix": "chain 4",
       "rate": null,
       "total": 52,
       "unit": "it",
       "unit_divisor": 1000,
       "unit_scale": false
      },
      "application/vnd.jupyter.widget-view+json": {
       "model_id": "27bbf73f718f43a8bf96c5eb13a3e426",
       "version_major": 2,
       "version_minor": 0
      },
      "text/plain": [
       "chain 4 |          | 00:00 Status"
      ]
     },
     "metadata": {},
     "output_type": "display_data"
    },
    {
     "name": "stdout",
     "output_type": "stream",
     "text": [
      "                                                                                                                                                                                                                                                                                                                                \n"
     ]
    },
    {
     "name": "stderr",
     "output_type": "stream",
     "text": [
      "2025-07-15 11:50:55 - orbit - INFO - Sampling (PyStan) with chains: 4, cores: 8, temperature: 1.000, warmups (per chain): 2500 and samples(per chain): 2500.\n"
     ]
    },
    {
     "data": {
      "application/json": {
       "ascii": false,
       "bar_format": "{desc} |{bar}| {elapsed} {postfix[0][value]}",
       "colour": null,
       "elapsed": 0.023669004440307617,
       "initial": 0,
       "n": 0,
       "ncols": null,
       "nrows": null,
       "postfix": [
        {
         "value": "Status"
        }
       ],
       "prefix": "chain 1",
       "rate": null,
       "total": 52,
       "unit": "it",
       "unit_divisor": 1000,
       "unit_scale": false
      },
      "application/vnd.jupyter.widget-view+json": {
       "model_id": "adbdc3423709488d97defb55c316015c",
       "version_major": 2,
       "version_minor": 0
      },
      "text/plain": [
       "chain 1 |          | 00:00 Status"
      ]
     },
     "metadata": {},
     "output_type": "display_data"
    },
    {
     "data": {
      "application/json": {
       "ascii": false,
       "bar_format": "{desc} |{bar}| {elapsed} {postfix[0][value]}",
       "colour": null,
       "elapsed": 0.017905235290527344,
       "initial": 0,
       "n": 0,
       "ncols": null,
       "nrows": null,
       "postfix": [
        {
         "value": "Status"
        }
       ],
       "prefix": "chain 2",
       "rate": null,
       "total": 52,
       "unit": "it",
       "unit_divisor": 1000,
       "unit_scale": false
      },
      "application/vnd.jupyter.widget-view+json": {
       "model_id": "108683df26a44fa1b2608dccd7abcc01",
       "version_major": 2,
       "version_minor": 0
      },
      "text/plain": [
       "chain 2 |          | 00:00 Status"
      ]
     },
     "metadata": {},
     "output_type": "display_data"
    },
    {
     "data": {
      "application/json": {
       "ascii": false,
       "bar_format": "{desc} |{bar}| {elapsed} {postfix[0][value]}",
       "colour": null,
       "elapsed": 0.01788926124572754,
       "initial": 0,
       "n": 0,
       "ncols": null,
       "nrows": null,
       "postfix": [
        {
         "value": "Status"
        }
       ],
       "prefix": "chain 3",
       "rate": null,
       "total": 52,
       "unit": "it",
       "unit_divisor": 1000,
       "unit_scale": false
      },
      "application/vnd.jupyter.widget-view+json": {
       "model_id": "36b4b84996bb49fa9a39b8c273983b31",
       "version_major": 2,
       "version_minor": 0
      },
      "text/plain": [
       "chain 3 |          | 00:00 Status"
      ]
     },
     "metadata": {},
     "output_type": "display_data"
    },
    {
     "data": {
      "application/json": {
       "ascii": false,
       "bar_format": "{desc} |{bar}| {elapsed} {postfix[0][value]}",
       "colour": null,
       "elapsed": 0.017470121383666992,
       "initial": 0,
       "n": 0,
       "ncols": null,
       "nrows": null,
       "postfix": [
        {
         "value": "Status"
        }
       ],
       "prefix": "chain 4",
       "rate": null,
       "total": 52,
       "unit": "it",
       "unit_divisor": 1000,
       "unit_scale": false
      },
      "application/vnd.jupyter.widget-view+json": {
       "model_id": "99ca754a52244e238e1f35d54e164967",
       "version_major": 2,
       "version_minor": 0
      },
      "text/plain": [
       "chain 4 |          | 00:00 Status"
      ]
     },
     "metadata": {},
     "output_type": "display_data"
    },
    {
     "name": "stdout",
     "output_type": "stream",
     "text": [
      "                                                                                                                                                                                                                                                                                                                                \n"
     ]
    },
    {
     "name": "stderr",
     "output_type": "stream",
     "text": [
      "2025-07-15 11:51:12 - orbit - INFO - Sampling (PyStan) with chains: 4, cores: 8, temperature: 1.000, warmups (per chain): 2500 and samples(per chain): 2500.\n"
     ]
    },
    {
     "data": {
      "application/json": {
       "ascii": false,
       "bar_format": "{desc} |{bar}| {elapsed} {postfix[0][value]}",
       "colour": null,
       "elapsed": 0.021932125091552734,
       "initial": 0,
       "n": 0,
       "ncols": null,
       "nrows": null,
       "postfix": [
        {
         "value": "Status"
        }
       ],
       "prefix": "chain 1",
       "rate": null,
       "total": 52,
       "unit": "it",
       "unit_divisor": 1000,
       "unit_scale": false
      },
      "application/vnd.jupyter.widget-view+json": {
       "model_id": "0338e11ca25c4eaaaa02084df5fdc4fc",
       "version_major": 2,
       "version_minor": 0
      },
      "text/plain": [
       "chain 1 |          | 00:00 Status"
      ]
     },
     "metadata": {},
     "output_type": "display_data"
    },
    {
     "data": {
      "application/json": {
       "ascii": false,
       "bar_format": "{desc} |{bar}| {elapsed} {postfix[0][value]}",
       "colour": null,
       "elapsed": 0.35860371589660645,
       "initial": 0,
       "n": 0,
       "ncols": null,
       "nrows": null,
       "postfix": [
        {
         "value": "Status"
        }
       ],
       "prefix": "chain 2",
       "rate": null,
       "total": 52,
       "unit": "it",
       "unit_divisor": 1000,
       "unit_scale": false
      },
      "application/vnd.jupyter.widget-view+json": {
       "model_id": "0613f7c25653422288ffc2f423c108e6",
       "version_major": 2,
       "version_minor": 0
      },
      "text/plain": [
       "chain 2 |          | 00:00 Status"
      ]
     },
     "metadata": {},
     "output_type": "display_data"
    },
    {
     "data": {
      "application/json": {
       "ascii": false,
       "bar_format": "{desc} |{bar}| {elapsed} {postfix[0][value]}",
       "colour": null,
       "elapsed": 0.02543330192565918,
       "initial": 0,
       "n": 0,
       "ncols": null,
       "nrows": null,
       "postfix": [
        {
         "value": "Status"
        }
       ],
       "prefix": "chain 3",
       "rate": null,
       "total": 52,
       "unit": "it",
       "unit_divisor": 1000,
       "unit_scale": false
      },
      "application/vnd.jupyter.widget-view+json": {
       "model_id": "ea37b2df02354f0ab56e69768d479ed2",
       "version_major": 2,
       "version_minor": 0
      },
      "text/plain": [
       "chain 3 |          | 00:00 Status"
      ]
     },
     "metadata": {},
     "output_type": "display_data"
    },
    {
     "data": {
      "application/json": {
       "ascii": false,
       "bar_format": "{desc} |{bar}| {elapsed} {postfix[0][value]}",
       "colour": null,
       "elapsed": 0.017274856567382812,
       "initial": 0,
       "n": 0,
       "ncols": null,
       "nrows": null,
       "postfix": [
        {
         "value": "Status"
        }
       ],
       "prefix": "chain 4",
       "rate": null,
       "total": 52,
       "unit": "it",
       "unit_divisor": 1000,
       "unit_scale": false
      },
      "application/vnd.jupyter.widget-view+json": {
       "model_id": "acb7a0a4f182451eadc3178d185926f1",
       "version_major": 2,
       "version_minor": 0
      },
      "text/plain": [
       "chain 4 |          | 00:00 Status"
      ]
     },
     "metadata": {},
     "output_type": "display_data"
    },
    {
     "name": "stdout",
     "output_type": "stream",
     "text": [
      "                                                                                                                                                                                                                                                                                                                                \n"
     ]
    },
    {
     "name": "stderr",
     "output_type": "stream",
     "text": [
      "2025-07-15 11:51:30 - orbit - INFO - Sampling (PyStan) with chains: 4, cores: 8, temperature: 1.000, warmups (per chain): 2500 and samples(per chain): 2500.\n"
     ]
    },
    {
     "data": {
      "application/json": {
       "ascii": false,
       "bar_format": "{desc} |{bar}| {elapsed} {postfix[0][value]}",
       "colour": null,
       "elapsed": 0.022159099578857422,
       "initial": 0,
       "n": 0,
       "ncols": null,
       "nrows": null,
       "postfix": [
        {
         "value": "Status"
        }
       ],
       "prefix": "chain 1",
       "rate": null,
       "total": 52,
       "unit": "it",
       "unit_divisor": 1000,
       "unit_scale": false
      },
      "application/vnd.jupyter.widget-view+json": {
       "model_id": "2e5aa200742744a3bb1f4901abff61b4",
       "version_major": 2,
       "version_minor": 0
      },
      "text/plain": [
       "chain 1 |          | 00:00 Status"
      ]
     },
     "metadata": {},
     "output_type": "display_data"
    },
    {
     "data": {
      "application/json": {
       "ascii": false,
       "bar_format": "{desc} |{bar}| {elapsed} {postfix[0][value]}",
       "colour": null,
       "elapsed": 0.020183324813842773,
       "initial": 0,
       "n": 0,
       "ncols": null,
       "nrows": null,
       "postfix": [
        {
         "value": "Status"
        }
       ],
       "prefix": "chain 2",
       "rate": null,
       "total": 52,
       "unit": "it",
       "unit_divisor": 1000,
       "unit_scale": false
      },
      "application/vnd.jupyter.widget-view+json": {
       "model_id": "94ff1540b3c94b1793e4c45fa338145c",
       "version_major": 2,
       "version_minor": 0
      },
      "text/plain": [
       "chain 2 |          | 00:00 Status"
      ]
     },
     "metadata": {},
     "output_type": "display_data"
    },
    {
     "data": {
      "application/json": {
       "ascii": false,
       "bar_format": "{desc} |{bar}| {elapsed} {postfix[0][value]}",
       "colour": null,
       "elapsed": 0.017095565795898438,
       "initial": 0,
       "n": 0,
       "ncols": null,
       "nrows": null,
       "postfix": [
        {
         "value": "Status"
        }
       ],
       "prefix": "chain 3",
       "rate": null,
       "total": 52,
       "unit": "it",
       "unit_divisor": 1000,
       "unit_scale": false
      },
      "application/vnd.jupyter.widget-view+json": {
       "model_id": "2adb0bee9661461198a1391a1c65e9b4",
       "version_major": 2,
       "version_minor": 0
      },
      "text/plain": [
       "chain 3 |          | 00:00 Status"
      ]
     },
     "metadata": {},
     "output_type": "display_data"
    },
    {
     "data": {
      "application/json": {
       "ascii": false,
       "bar_format": "{desc} |{bar}| {elapsed} {postfix[0][value]}",
       "colour": null,
       "elapsed": 0.017865896224975586,
       "initial": 0,
       "n": 0,
       "ncols": null,
       "nrows": null,
       "postfix": [
        {
         "value": "Status"
        }
       ],
       "prefix": "chain 4",
       "rate": null,
       "total": 52,
       "unit": "it",
       "unit_divisor": 1000,
       "unit_scale": false
      },
      "application/vnd.jupyter.widget-view+json": {
       "model_id": "c258932cd9df4e5789bc916cc83141bc",
       "version_major": 2,
       "version_minor": 0
      },
      "text/plain": [
       "chain 4 |          | 00:00 Status"
      ]
     },
     "metadata": {},
     "output_type": "display_data"
    },
    {
     "name": "stdout",
     "output_type": "stream",
     "text": [
      "                                                                                                                                                                                                                                                                                                                                \n"
     ]
    },
    {
     "name": "stderr",
     "output_type": "stream",
     "text": [
      "2025-07-15 11:51:50 - orbit - INFO - Sampling (PyStan) with chains: 4, cores: 8, temperature: 1.000, warmups (per chain): 2500 and samples(per chain): 2500.\n"
     ]
    },
    {
     "data": {
      "application/json": {
       "ascii": false,
       "bar_format": "{desc} |{bar}| {elapsed} {postfix[0][value]}",
       "colour": null,
       "elapsed": 0.021912336349487305,
       "initial": 0,
       "n": 0,
       "ncols": null,
       "nrows": null,
       "postfix": [
        {
         "value": "Status"
        }
       ],
       "prefix": "chain 1",
       "rate": null,
       "total": 52,
       "unit": "it",
       "unit_divisor": 1000,
       "unit_scale": false
      },
      "application/vnd.jupyter.widget-view+json": {
       "model_id": "4061c32b3c5b4a84a964c0bb2f742d53",
       "version_major": 2,
       "version_minor": 0
      },
      "text/plain": [
       "chain 1 |          | 00:00 Status"
      ]
     },
     "metadata": {},
     "output_type": "display_data"
    },
    {
     "data": {
      "application/json": {
       "ascii": false,
       "bar_format": "{desc} |{bar}| {elapsed} {postfix[0][value]}",
       "colour": null,
       "elapsed": 0.018333911895751953,
       "initial": 0,
       "n": 0,
       "ncols": null,
       "nrows": null,
       "postfix": [
        {
         "value": "Status"
        }
       ],
       "prefix": "chain 2",
       "rate": null,
       "total": 52,
       "unit": "it",
       "unit_divisor": 1000,
       "unit_scale": false
      },
      "application/vnd.jupyter.widget-view+json": {
       "model_id": "11045d89db7045a3b85e958bbed85c43",
       "version_major": 2,
       "version_minor": 0
      },
      "text/plain": [
       "chain 2 |          | 00:00 Status"
      ]
     },
     "metadata": {},
     "output_type": "display_data"
    },
    {
     "data": {
      "application/json": {
       "ascii": false,
       "bar_format": "{desc} |{bar}| {elapsed} {postfix[0][value]}",
       "colour": null,
       "elapsed": 0.018737316131591797,
       "initial": 0,
       "n": 0,
       "ncols": null,
       "nrows": null,
       "postfix": [
        {
         "value": "Status"
        }
       ],
       "prefix": "chain 3",
       "rate": null,
       "total": 52,
       "unit": "it",
       "unit_divisor": 1000,
       "unit_scale": false
      },
      "application/vnd.jupyter.widget-view+json": {
       "model_id": "6a704cfd0782480987c1f6ac60995ec1",
       "version_major": 2,
       "version_minor": 0
      },
      "text/plain": [
       "chain 3 |          | 00:00 Status"
      ]
     },
     "metadata": {},
     "output_type": "display_data"
    },
    {
     "data": {
      "application/json": {
       "ascii": false,
       "bar_format": "{desc} |{bar}| {elapsed} {postfix[0][value]}",
       "colour": null,
       "elapsed": 0.018481016159057617,
       "initial": 0,
       "n": 0,
       "ncols": null,
       "nrows": null,
       "postfix": [
        {
         "value": "Status"
        }
       ],
       "prefix": "chain 4",
       "rate": null,
       "total": 52,
       "unit": "it",
       "unit_divisor": 1000,
       "unit_scale": false
      },
      "application/vnd.jupyter.widget-view+json": {
       "model_id": "655c511f52324818b4202b51b2ecbbba",
       "version_major": 2,
       "version_minor": 0
      },
      "text/plain": [
       "chain 4 |          | 00:00 Status"
      ]
     },
     "metadata": {},
     "output_type": "display_data"
    },
    {
     "name": "stdout",
     "output_type": "stream",
     "text": [
      "                                                                                                                                                                                                                                                                                                                                \n"
     ]
    },
    {
     "name": "stderr",
     "output_type": "stream",
     "text": [
      "2025-07-15 11:52:09 - orbit - INFO - Sampling (PyStan) with chains: 4, cores: 8, temperature: 1.000, warmups (per chain): 2500 and samples(per chain): 2500.\n"
     ]
    },
    {
     "data": {
      "application/json": {
       "ascii": false,
       "bar_format": "{desc} |{bar}| {elapsed} {postfix[0][value]}",
       "colour": null,
       "elapsed": 0.02266526222229004,
       "initial": 0,
       "n": 0,
       "ncols": null,
       "nrows": null,
       "postfix": [
        {
         "value": "Status"
        }
       ],
       "prefix": "chain 1",
       "rate": null,
       "total": 52,
       "unit": "it",
       "unit_divisor": 1000,
       "unit_scale": false
      },
      "application/vnd.jupyter.widget-view+json": {
       "model_id": "abcbfd66806f4d3784de4ead2d9ee636",
       "version_major": 2,
       "version_minor": 0
      },
      "text/plain": [
       "chain 1 |          | 00:00 Status"
      ]
     },
     "metadata": {},
     "output_type": "display_data"
    },
    {
     "data": {
      "application/json": {
       "ascii": false,
       "bar_format": "{desc} |{bar}| {elapsed} {postfix[0][value]}",
       "colour": null,
       "elapsed": 0.01851034164428711,
       "initial": 0,
       "n": 0,
       "ncols": null,
       "nrows": null,
       "postfix": [
        {
         "value": "Status"
        }
       ],
       "prefix": "chain 2",
       "rate": null,
       "total": 52,
       "unit": "it",
       "unit_divisor": 1000,
       "unit_scale": false
      },
      "application/vnd.jupyter.widget-view+json": {
       "model_id": "340204b4468841f5b5b107b37eccfc71",
       "version_major": 2,
       "version_minor": 0
      },
      "text/plain": [
       "chain 2 |          | 00:00 Status"
      ]
     },
     "metadata": {},
     "output_type": "display_data"
    },
    {
     "data": {
      "application/json": {
       "ascii": false,
       "bar_format": "{desc} |{bar}| {elapsed} {postfix[0][value]}",
       "colour": null,
       "elapsed": 0.01845550537109375,
       "initial": 0,
       "n": 0,
       "ncols": null,
       "nrows": null,
       "postfix": [
        {
         "value": "Status"
        }
       ],
       "prefix": "chain 3",
       "rate": null,
       "total": 52,
       "unit": "it",
       "unit_divisor": 1000,
       "unit_scale": false
      },
      "application/vnd.jupyter.widget-view+json": {
       "model_id": "4358a5d4c36645c4acef6b99a9a52f2e",
       "version_major": 2,
       "version_minor": 0
      },
      "text/plain": [
       "chain 3 |          | 00:00 Status"
      ]
     },
     "metadata": {},
     "output_type": "display_data"
    },
    {
     "data": {
      "application/json": {
       "ascii": false,
       "bar_format": "{desc} |{bar}| {elapsed} {postfix[0][value]}",
       "colour": null,
       "elapsed": 0.019866466522216797,
       "initial": 0,
       "n": 0,
       "ncols": null,
       "nrows": null,
       "postfix": [
        {
         "value": "Status"
        }
       ],
       "prefix": "chain 4",
       "rate": null,
       "total": 52,
       "unit": "it",
       "unit_divisor": 1000,
       "unit_scale": false
      },
      "application/vnd.jupyter.widget-view+json": {
       "model_id": "7577f06e8e5347a29f8d893bc49d13b3",
       "version_major": 2,
       "version_minor": 0
      },
      "text/plain": [
       "chain 4 |          | 00:00 Status"
      ]
     },
     "metadata": {},
     "output_type": "display_data"
    },
    {
     "name": "stdout",
     "output_type": "stream",
     "text": [
      "                                                                                                                                                                                                                                                                                                                                \n"
     ]
    },
    {
     "name": "stderr",
     "output_type": "stream",
     "text": [
      "2025-07-15 11:52:12 - orbit - INFO - Sampling (PyStan) with chains: 4, cores: 8, temperature: 1.000, warmups (per chain): 2500 and samples(per chain): 2500.\n"
     ]
    },
    {
     "data": {
      "application/json": {
       "ascii": false,
       "bar_format": "{desc} |{bar}| {elapsed} {postfix[0][value]}",
       "colour": null,
       "elapsed": 0.023105144500732422,
       "initial": 0,
       "n": 0,
       "ncols": null,
       "nrows": null,
       "postfix": [
        {
         "value": "Status"
        }
       ],
       "prefix": "chain 1",
       "rate": null,
       "total": 52,
       "unit": "it",
       "unit_divisor": 1000,
       "unit_scale": false
      },
      "application/vnd.jupyter.widget-view+json": {
       "model_id": "4a9e8fed93f64455b89e8e279decb7bd",
       "version_major": 2,
       "version_minor": 0
      },
      "text/plain": [
       "chain 1 |          | 00:00 Status"
      ]
     },
     "metadata": {},
     "output_type": "display_data"
    },
    {
     "data": {
      "application/json": {
       "ascii": false,
       "bar_format": "{desc} |{bar}| {elapsed} {postfix[0][value]}",
       "colour": null,
       "elapsed": 0.017830371856689453,
       "initial": 0,
       "n": 0,
       "ncols": null,
       "nrows": null,
       "postfix": [
        {
         "value": "Status"
        }
       ],
       "prefix": "chain 2",
       "rate": null,
       "total": 52,
       "unit": "it",
       "unit_divisor": 1000,
       "unit_scale": false
      },
      "application/vnd.jupyter.widget-view+json": {
       "model_id": "f33be79f01bc41e8a963edc3308d76e7",
       "version_major": 2,
       "version_minor": 0
      },
      "text/plain": [
       "chain 2 |          | 00:00 Status"
      ]
     },
     "metadata": {},
     "output_type": "display_data"
    },
    {
     "data": {
      "application/json": {
       "ascii": false,
       "bar_format": "{desc} |{bar}| {elapsed} {postfix[0][value]}",
       "colour": null,
       "elapsed": 0.0175168514251709,
       "initial": 0,
       "n": 0,
       "ncols": null,
       "nrows": null,
       "postfix": [
        {
         "value": "Status"
        }
       ],
       "prefix": "chain 3",
       "rate": null,
       "total": 52,
       "unit": "it",
       "unit_divisor": 1000,
       "unit_scale": false
      },
      "application/vnd.jupyter.widget-view+json": {
       "model_id": "fac3cc1b1e4c4493b3512e79f6a35474",
       "version_major": 2,
       "version_minor": 0
      },
      "text/plain": [
       "chain 3 |          | 00:00 Status"
      ]
     },
     "metadata": {},
     "output_type": "display_data"
    },
    {
     "data": {
      "application/json": {
       "ascii": false,
       "bar_format": "{desc} |{bar}| {elapsed} {postfix[0][value]}",
       "colour": null,
       "elapsed": 0.018683433532714844,
       "initial": 0,
       "n": 0,
       "ncols": null,
       "nrows": null,
       "postfix": [
        {
         "value": "Status"
        }
       ],
       "prefix": "chain 4",
       "rate": null,
       "total": 52,
       "unit": "it",
       "unit_divisor": 1000,
       "unit_scale": false
      },
      "application/vnd.jupyter.widget-view+json": {
       "model_id": "044b2e3f043e41ab887d229fd7cc790d",
       "version_major": 2,
       "version_minor": 0
      },
      "text/plain": [
       "chain 4 |          | 00:00 Status"
      ]
     },
     "metadata": {},
     "output_type": "display_data"
    },
    {
     "name": "stdout",
     "output_type": "stream",
     "text": [
      "                                                                                                                                                                                                                                                                                                                                \n"
     ]
    },
    {
     "name": "stderr",
     "output_type": "stream",
     "text": [
      "2025-07-15 11:52:15 - orbit - INFO - Sampling (PyStan) with chains: 4, cores: 8, temperature: 1.000, warmups (per chain): 2500 and samples(per chain): 2500.\n"
     ]
    },
    {
     "data": {
      "application/json": {
       "ascii": false,
       "bar_format": "{desc} |{bar}| {elapsed} {postfix[0][value]}",
       "colour": null,
       "elapsed": 0.020781517028808594,
       "initial": 0,
       "n": 0,
       "ncols": null,
       "nrows": null,
       "postfix": [
        {
         "value": "Status"
        }
       ],
       "prefix": "chain 1",
       "rate": null,
       "total": 52,
       "unit": "it",
       "unit_divisor": 1000,
       "unit_scale": false
      },
      "application/vnd.jupyter.widget-view+json": {
       "model_id": "6b99444ce3a640faaa7ee224d72478ee",
       "version_major": 2,
       "version_minor": 0
      },
      "text/plain": [
       "chain 1 |          | 00:00 Status"
      ]
     },
     "metadata": {},
     "output_type": "display_data"
    },
    {
     "data": {
      "application/json": {
       "ascii": false,
       "bar_format": "{desc} |{bar}| {elapsed} {postfix[0][value]}",
       "colour": null,
       "elapsed": 0.016972064971923828,
       "initial": 0,
       "n": 0,
       "ncols": null,
       "nrows": null,
       "postfix": [
        {
         "value": "Status"
        }
       ],
       "prefix": "chain 2",
       "rate": null,
       "total": 52,
       "unit": "it",
       "unit_divisor": 1000,
       "unit_scale": false
      },
      "application/vnd.jupyter.widget-view+json": {
       "model_id": "5b2d23a394bd41dcb112178ecba97e77",
       "version_major": 2,
       "version_minor": 0
      },
      "text/plain": [
       "chain 2 |          | 00:00 Status"
      ]
     },
     "metadata": {},
     "output_type": "display_data"
    },
    {
     "data": {
      "application/json": {
       "ascii": false,
       "bar_format": "{desc} |{bar}| {elapsed} {postfix[0][value]}",
       "colour": null,
       "elapsed": 0.017109394073486328,
       "initial": 0,
       "n": 0,
       "ncols": null,
       "nrows": null,
       "postfix": [
        {
         "value": "Status"
        }
       ],
       "prefix": "chain 3",
       "rate": null,
       "total": 52,
       "unit": "it",
       "unit_divisor": 1000,
       "unit_scale": false
      },
      "application/vnd.jupyter.widget-view+json": {
       "model_id": "ccd963ca86ed46eab5dd7d134b28fd80",
       "version_major": 2,
       "version_minor": 0
      },
      "text/plain": [
       "chain 3 |          | 00:00 Status"
      ]
     },
     "metadata": {},
     "output_type": "display_data"
    },
    {
     "data": {
      "application/json": {
       "ascii": false,
       "bar_format": "{desc} |{bar}| {elapsed} {postfix[0][value]}",
       "colour": null,
       "elapsed": 0.01937580108642578,
       "initial": 0,
       "n": 0,
       "ncols": null,
       "nrows": null,
       "postfix": [
        {
         "value": "Status"
        }
       ],
       "prefix": "chain 4",
       "rate": null,
       "total": 52,
       "unit": "it",
       "unit_divisor": 1000,
       "unit_scale": false
      },
      "application/vnd.jupyter.widget-view+json": {
       "model_id": "ab347c2899714603982f25fba60a921f",
       "version_major": 2,
       "version_minor": 0
      },
      "text/plain": [
       "chain 4 |          | 00:00 Status"
      ]
     },
     "metadata": {},
     "output_type": "display_data"
    },
    {
     "name": "stdout",
     "output_type": "stream",
     "text": [
      "                                                                                                                                                                                                                                                                                                                                \n"
     ]
    },
    {
     "name": "stderr",
     "output_type": "stream",
     "text": [
      "2025-07-15 11:52:20 - orbit - INFO - Sampling (PyStan) with chains: 4, cores: 8, temperature: 1.000, warmups (per chain): 2500 and samples(per chain): 2500.\n"
     ]
    },
    {
     "data": {
      "application/json": {
       "ascii": false,
       "bar_format": "{desc} |{bar}| {elapsed} {postfix[0][value]}",
       "colour": null,
       "elapsed": 0.021288633346557617,
       "initial": 0,
       "n": 0,
       "ncols": null,
       "nrows": null,
       "postfix": [
        {
         "value": "Status"
        }
       ],
       "prefix": "chain 1",
       "rate": null,
       "total": 52,
       "unit": "it",
       "unit_divisor": 1000,
       "unit_scale": false
      },
      "application/vnd.jupyter.widget-view+json": {
       "model_id": "a75d034709a94c22a77fd01b3566ef16",
       "version_major": 2,
       "version_minor": 0
      },
      "text/plain": [
       "chain 1 |          | 00:00 Status"
      ]
     },
     "metadata": {},
     "output_type": "display_data"
    },
    {
     "data": {
      "application/json": {
       "ascii": false,
       "bar_format": "{desc} |{bar}| {elapsed} {postfix[0][value]}",
       "colour": null,
       "elapsed": 0.018976449966430664,
       "initial": 0,
       "n": 0,
       "ncols": null,
       "nrows": null,
       "postfix": [
        {
         "value": "Status"
        }
       ],
       "prefix": "chain 2",
       "rate": null,
       "total": 52,
       "unit": "it",
       "unit_divisor": 1000,
       "unit_scale": false
      },
      "application/vnd.jupyter.widget-view+json": {
       "model_id": "6acb9cbac5e64d189d57726b9b950c37",
       "version_major": 2,
       "version_minor": 0
      },
      "text/plain": [
       "chain 2 |          | 00:00 Status"
      ]
     },
     "metadata": {},
     "output_type": "display_data"
    },
    {
     "data": {
      "application/json": {
       "ascii": false,
       "bar_format": "{desc} |{bar}| {elapsed} {postfix[0][value]}",
       "colour": null,
       "elapsed": 0.018412113189697266,
       "initial": 0,
       "n": 0,
       "ncols": null,
       "nrows": null,
       "postfix": [
        {
         "value": "Status"
        }
       ],
       "prefix": "chain 3",
       "rate": null,
       "total": 52,
       "unit": "it",
       "unit_divisor": 1000,
       "unit_scale": false
      },
      "application/vnd.jupyter.widget-view+json": {
       "model_id": "edd7399b7b84406282307ff6e393c3c7",
       "version_major": 2,
       "version_minor": 0
      },
      "text/plain": [
       "chain 3 |          | 00:00 Status"
      ]
     },
     "metadata": {},
     "output_type": "display_data"
    },
    {
     "data": {
      "application/json": {
       "ascii": false,
       "bar_format": "{desc} |{bar}| {elapsed} {postfix[0][value]}",
       "colour": null,
       "elapsed": 0.019988059997558594,
       "initial": 0,
       "n": 0,
       "ncols": null,
       "nrows": null,
       "postfix": [
        {
         "value": "Status"
        }
       ],
       "prefix": "chain 4",
       "rate": null,
       "total": 52,
       "unit": "it",
       "unit_divisor": 1000,
       "unit_scale": false
      },
      "application/vnd.jupyter.widget-view+json": {
       "model_id": "76de806300f244d09b9b08400f1b608a",
       "version_major": 2,
       "version_minor": 0
      },
      "text/plain": [
       "chain 4 |          | 00:00 Status"
      ]
     },
     "metadata": {},
     "output_type": "display_data"
    },
    {
     "name": "stdout",
     "output_type": "stream",
     "text": [
      "                                                                                                                                                                                                                                                                                                                                \n"
     ]
    },
    {
     "name": "stderr",
     "output_type": "stream",
     "text": [
      "2025-07-15 11:52:26 - orbit - INFO - Sampling (PyStan) with chains: 4, cores: 8, temperature: 1.000, warmups (per chain): 2500 and samples(per chain): 2500.\n"
     ]
    },
    {
     "data": {
      "application/json": {
       "ascii": false,
       "bar_format": "{desc} |{bar}| {elapsed} {postfix[0][value]}",
       "colour": null,
       "elapsed": 0.03208494186401367,
       "initial": 0,
       "n": 0,
       "ncols": null,
       "nrows": null,
       "postfix": [
        {
         "value": "Status"
        }
       ],
       "prefix": "chain 1",
       "rate": null,
       "total": 52,
       "unit": "it",
       "unit_divisor": 1000,
       "unit_scale": false
      },
      "application/vnd.jupyter.widget-view+json": {
       "model_id": "346419bbfb554116b924a52db74eba22",
       "version_major": 2,
       "version_minor": 0
      },
      "text/plain": [
       "chain 1 |          | 00:00 Status"
      ]
     },
     "metadata": {},
     "output_type": "display_data"
    },
    {
     "data": {
      "application/json": {
       "ascii": false,
       "bar_format": "{desc} |{bar}| {elapsed} {postfix[0][value]}",
       "colour": null,
       "elapsed": 0.02504563331604004,
       "initial": 0,
       "n": 0,
       "ncols": null,
       "nrows": null,
       "postfix": [
        {
         "value": "Status"
        }
       ],
       "prefix": "chain 2",
       "rate": null,
       "total": 52,
       "unit": "it",
       "unit_divisor": 1000,
       "unit_scale": false
      },
      "application/vnd.jupyter.widget-view+json": {
       "model_id": "b86ed5c8930740a2856dd79dfbae133b",
       "version_major": 2,
       "version_minor": 0
      },
      "text/plain": [
       "chain 2 |          | 00:00 Status"
      ]
     },
     "metadata": {},
     "output_type": "display_data"
    },
    {
     "data": {
      "application/json": {
       "ascii": false,
       "bar_format": "{desc} |{bar}| {elapsed} {postfix[0][value]}",
       "colour": null,
       "elapsed": 0.023816347122192383,
       "initial": 0,
       "n": 0,
       "ncols": null,
       "nrows": null,
       "postfix": [
        {
         "value": "Status"
        }
       ],
       "prefix": "chain 3",
       "rate": null,
       "total": 52,
       "unit": "it",
       "unit_divisor": 1000,
       "unit_scale": false
      },
      "application/vnd.jupyter.widget-view+json": {
       "model_id": "ceb672ad316b49b6843dffe900c28c2e",
       "version_major": 2,
       "version_minor": 0
      },
      "text/plain": [
       "chain 3 |          | 00:00 Status"
      ]
     },
     "metadata": {},
     "output_type": "display_data"
    },
    {
     "data": {
      "application/json": {
       "ascii": false,
       "bar_format": "{desc} |{bar}| {elapsed} {postfix[0][value]}",
       "colour": null,
       "elapsed": 0.016808748245239258,
       "initial": 0,
       "n": 0,
       "ncols": null,
       "nrows": null,
       "postfix": [
        {
         "value": "Status"
        }
       ],
       "prefix": "chain 4",
       "rate": null,
       "total": 52,
       "unit": "it",
       "unit_divisor": 1000,
       "unit_scale": false
      },
      "application/vnd.jupyter.widget-view+json": {
       "model_id": "6f304bc8406348f9b212fbb7c33c776b",
       "version_major": 2,
       "version_minor": 0
      },
      "text/plain": [
       "chain 4 |          | 00:00 Status"
      ]
     },
     "metadata": {},
     "output_type": "display_data"
    },
    {
     "name": "stdout",
     "output_type": "stream",
     "text": [
      "                                                                                                                                                                                                                                                                                                                                \n"
     ]
    },
    {
     "name": "stderr",
     "output_type": "stream",
     "text": [
      "2025-07-15 11:52:33 - orbit - INFO - Sampling (PyStan) with chains: 4, cores: 8, temperature: 1.000, warmups (per chain): 2500 and samples(per chain): 2500.\n"
     ]
    },
    {
     "data": {
      "application/json": {
       "ascii": false,
       "bar_format": "{desc} |{bar}| {elapsed} {postfix[0][value]}",
       "colour": null,
       "elapsed": 0.026075363159179688,
       "initial": 0,
       "n": 0,
       "ncols": null,
       "nrows": null,
       "postfix": [
        {
         "value": "Status"
        }
       ],
       "prefix": "chain 1",
       "rate": null,
       "total": 52,
       "unit": "it",
       "unit_divisor": 1000,
       "unit_scale": false
      },
      "application/vnd.jupyter.widget-view+json": {
       "model_id": "e31d059ea395478ab8ee086b738da34d",
       "version_major": 2,
       "version_minor": 0
      },
      "text/plain": [
       "chain 1 |          | 00:00 Status"
      ]
     },
     "metadata": {},
     "output_type": "display_data"
    },
    {
     "data": {
      "application/json": {
       "ascii": false,
       "bar_format": "{desc} |{bar}| {elapsed} {postfix[0][value]}",
       "colour": null,
       "elapsed": 0.02064800262451172,
       "initial": 0,
       "n": 0,
       "ncols": null,
       "nrows": null,
       "postfix": [
        {
         "value": "Status"
        }
       ],
       "prefix": "chain 2",
       "rate": null,
       "total": 52,
       "unit": "it",
       "unit_divisor": 1000,
       "unit_scale": false
      },
      "application/vnd.jupyter.widget-view+json": {
       "model_id": "631de0aede1c4196b0951cc7ff962a5c",
       "version_major": 2,
       "version_minor": 0
      },
      "text/plain": [
       "chain 2 |          | 00:00 Status"
      ]
     },
     "metadata": {},
     "output_type": "display_data"
    },
    {
     "data": {
      "application/json": {
       "ascii": false,
       "bar_format": "{desc} |{bar}| {elapsed} {postfix[0][value]}",
       "colour": null,
       "elapsed": 0.018532991409301758,
       "initial": 0,
       "n": 0,
       "ncols": null,
       "nrows": null,
       "postfix": [
        {
         "value": "Status"
        }
       ],
       "prefix": "chain 3",
       "rate": null,
       "total": 52,
       "unit": "it",
       "unit_divisor": 1000,
       "unit_scale": false
      },
      "application/vnd.jupyter.widget-view+json": {
       "model_id": "83cd9eb7a0fa4375ac3aac4790aba3c4",
       "version_major": 2,
       "version_minor": 0
      },
      "text/plain": [
       "chain 3 |          | 00:00 Status"
      ]
     },
     "metadata": {},
     "output_type": "display_data"
    },
    {
     "data": {
      "application/json": {
       "ascii": false,
       "bar_format": "{desc} |{bar}| {elapsed} {postfix[0][value]}",
       "colour": null,
       "elapsed": 0.017826318740844727,
       "initial": 0,
       "n": 0,
       "ncols": null,
       "nrows": null,
       "postfix": [
        {
         "value": "Status"
        }
       ],
       "prefix": "chain 4",
       "rate": null,
       "total": 52,
       "unit": "it",
       "unit_divisor": 1000,
       "unit_scale": false
      },
      "application/vnd.jupyter.widget-view+json": {
       "model_id": "250b61a17b6e40a481aac74d2e5ff395",
       "version_major": 2,
       "version_minor": 0
      },
      "text/plain": [
       "chain 4 |          | 00:00 Status"
      ]
     },
     "metadata": {},
     "output_type": "display_data"
    },
    {
     "name": "stdout",
     "output_type": "stream",
     "text": [
      "                                                                                                                                                                                                                                                                                                                                \n"
     ]
    },
    {
     "name": "stderr",
     "output_type": "stream",
     "text": [
      "2025-07-15 11:52:40 - orbit - INFO - Sampling (PyStan) with chains: 4, cores: 8, temperature: 1.000, warmups (per chain): 2500 and samples(per chain): 2500.\n"
     ]
    },
    {
     "data": {
      "application/json": {
       "ascii": false,
       "bar_format": "{desc} |{bar}| {elapsed} {postfix[0][value]}",
       "colour": null,
       "elapsed": 0.022076129913330078,
       "initial": 0,
       "n": 0,
       "ncols": null,
       "nrows": null,
       "postfix": [
        {
         "value": "Status"
        }
       ],
       "prefix": "chain 1",
       "rate": null,
       "total": 52,
       "unit": "it",
       "unit_divisor": 1000,
       "unit_scale": false
      },
      "application/vnd.jupyter.widget-view+json": {
       "model_id": "d9874a269f974e118f34fbe81df748a7",
       "version_major": 2,
       "version_minor": 0
      },
      "text/plain": [
       "chain 1 |          | 00:00 Status"
      ]
     },
     "metadata": {},
     "output_type": "display_data"
    },
    {
     "data": {
      "application/json": {
       "ascii": false,
       "bar_format": "{desc} |{bar}| {elapsed} {postfix[0][value]}",
       "colour": null,
       "elapsed": 0.019032716751098633,
       "initial": 0,
       "n": 0,
       "ncols": null,
       "nrows": null,
       "postfix": [
        {
         "value": "Status"
        }
       ],
       "prefix": "chain 2",
       "rate": null,
       "total": 52,
       "unit": "it",
       "unit_divisor": 1000,
       "unit_scale": false
      },
      "application/vnd.jupyter.widget-view+json": {
       "model_id": "801df634e88d453cb7be2f0a488ab8ac",
       "version_major": 2,
       "version_minor": 0
      },
      "text/plain": [
       "chain 2 |          | 00:00 Status"
      ]
     },
     "metadata": {},
     "output_type": "display_data"
    },
    {
     "data": {
      "application/json": {
       "ascii": false,
       "bar_format": "{desc} |{bar}| {elapsed} {postfix[0][value]}",
       "colour": null,
       "elapsed": 0.01771831512451172,
       "initial": 0,
       "n": 0,
       "ncols": null,
       "nrows": null,
       "postfix": [
        {
         "value": "Status"
        }
       ],
       "prefix": "chain 3",
       "rate": null,
       "total": 52,
       "unit": "it",
       "unit_divisor": 1000,
       "unit_scale": false
      },
      "application/vnd.jupyter.widget-view+json": {
       "model_id": "caac003991c4426dbf8f20a2a9dd0c4c",
       "version_major": 2,
       "version_minor": 0
      },
      "text/plain": [
       "chain 3 |          | 00:00 Status"
      ]
     },
     "metadata": {},
     "output_type": "display_data"
    },
    {
     "data": {
      "application/json": {
       "ascii": false,
       "bar_format": "{desc} |{bar}| {elapsed} {postfix[0][value]}",
       "colour": null,
       "elapsed": 0.018137693405151367,
       "initial": 0,
       "n": 0,
       "ncols": null,
       "nrows": null,
       "postfix": [
        {
         "value": "Status"
        }
       ],
       "prefix": "chain 4",
       "rate": null,
       "total": 52,
       "unit": "it",
       "unit_divisor": 1000,
       "unit_scale": false
      },
      "application/vnd.jupyter.widget-view+json": {
       "model_id": "3c248e0fc7b34c90b0fab7372b4f573e",
       "version_major": 2,
       "version_minor": 0
      },
      "text/plain": [
       "chain 4 |          | 00:00 Status"
      ]
     },
     "metadata": {},
     "output_type": "display_data"
    },
    {
     "name": "stdout",
     "output_type": "stream",
     "text": [
      "                                                                                                                                                                                                                                                                                                                                \n"
     ]
    },
    {
     "name": "stderr",
     "output_type": "stream",
     "text": [
      "2025-07-15 11:52:49 - orbit - INFO - Sampling (PyStan) with chains: 4, cores: 8, temperature: 1.000, warmups (per chain): 2500 and samples(per chain): 2500.\n"
     ]
    },
    {
     "data": {
      "application/json": {
       "ascii": false,
       "bar_format": "{desc} |{bar}| {elapsed} {postfix[0][value]}",
       "colour": null,
       "elapsed": 0.021978139877319336,
       "initial": 0,
       "n": 0,
       "ncols": null,
       "nrows": null,
       "postfix": [
        {
         "value": "Status"
        }
       ],
       "prefix": "chain 1",
       "rate": null,
       "total": 52,
       "unit": "it",
       "unit_divisor": 1000,
       "unit_scale": false
      },
      "application/vnd.jupyter.widget-view+json": {
       "model_id": "a7ccf10a34644908b02235a5172ef9ea",
       "version_major": 2,
       "version_minor": 0
      },
      "text/plain": [
       "chain 1 |          | 00:00 Status"
      ]
     },
     "metadata": {},
     "output_type": "display_data"
    },
    {
     "data": {
      "application/json": {
       "ascii": false,
       "bar_format": "{desc} |{bar}| {elapsed} {postfix[0][value]}",
       "colour": null,
       "elapsed": 0.01773357391357422,
       "initial": 0,
       "n": 0,
       "ncols": null,
       "nrows": null,
       "postfix": [
        {
         "value": "Status"
        }
       ],
       "prefix": "chain 2",
       "rate": null,
       "total": 52,
       "unit": "it",
       "unit_divisor": 1000,
       "unit_scale": false
      },
      "application/vnd.jupyter.widget-view+json": {
       "model_id": "450b08763a5648689e1eb855b66f0529",
       "version_major": 2,
       "version_minor": 0
      },
      "text/plain": [
       "chain 2 |          | 00:00 Status"
      ]
     },
     "metadata": {},
     "output_type": "display_data"
    },
    {
     "data": {
      "application/json": {
       "ascii": false,
       "bar_format": "{desc} |{bar}| {elapsed} {postfix[0][value]}",
       "colour": null,
       "elapsed": 0.017610549926757812,
       "initial": 0,
       "n": 0,
       "ncols": null,
       "nrows": null,
       "postfix": [
        {
         "value": "Status"
        }
       ],
       "prefix": "chain 3",
       "rate": null,
       "total": 52,
       "unit": "it",
       "unit_divisor": 1000,
       "unit_scale": false
      },
      "application/vnd.jupyter.widget-view+json": {
       "model_id": "612dcec56a1e40da8c31e6820c48e6de",
       "version_major": 2,
       "version_minor": 0
      },
      "text/plain": [
       "chain 3 |          | 00:00 Status"
      ]
     },
     "metadata": {},
     "output_type": "display_data"
    },
    {
     "data": {
      "application/json": {
       "ascii": false,
       "bar_format": "{desc} |{bar}| {elapsed} {postfix[0][value]}",
       "colour": null,
       "elapsed": 0.020340919494628906,
       "initial": 0,
       "n": 0,
       "ncols": null,
       "nrows": null,
       "postfix": [
        {
         "value": "Status"
        }
       ],
       "prefix": "chain 4",
       "rate": null,
       "total": 52,
       "unit": "it",
       "unit_divisor": 1000,
       "unit_scale": false
      },
      "application/vnd.jupyter.widget-view+json": {
       "model_id": "a75ed8e248c044439ad305e22cfd4890",
       "version_major": 2,
       "version_minor": 0
      },
      "text/plain": [
       "chain 4 |          | 00:00 Status"
      ]
     },
     "metadata": {},
     "output_type": "display_data"
    },
    {
     "name": "stdout",
     "output_type": "stream",
     "text": [
      "                                                                                                                                                                                                                                                                                                                                \n"
     ]
    },
    {
     "name": "stderr",
     "output_type": "stream",
     "text": [
      "2025-07-15 11:53:00 - orbit - INFO - Sampling (PyStan) with chains: 4, cores: 8, temperature: 1.000, warmups (per chain): 2500 and samples(per chain): 2500.\n"
     ]
    },
    {
     "data": {
      "application/json": {
       "ascii": false,
       "bar_format": "{desc} |{bar}| {elapsed} {postfix[0][value]}",
       "colour": null,
       "elapsed": 0.022353172302246094,
       "initial": 0,
       "n": 0,
       "ncols": null,
       "nrows": null,
       "postfix": [
        {
         "value": "Status"
        }
       ],
       "prefix": "chain 1",
       "rate": null,
       "total": 52,
       "unit": "it",
       "unit_divisor": 1000,
       "unit_scale": false
      },
      "application/vnd.jupyter.widget-view+json": {
       "model_id": "216dc77c02a04cc889d2b454ba7a6114",
       "version_major": 2,
       "version_minor": 0
      },
      "text/plain": [
       "chain 1 |          | 00:00 Status"
      ]
     },
     "metadata": {},
     "output_type": "display_data"
    },
    {
     "data": {
      "application/json": {
       "ascii": false,
       "bar_format": "{desc} |{bar}| {elapsed} {postfix[0][value]}",
       "colour": null,
       "elapsed": 0.01705455780029297,
       "initial": 0,
       "n": 0,
       "ncols": null,
       "nrows": null,
       "postfix": [
        {
         "value": "Status"
        }
       ],
       "prefix": "chain 2",
       "rate": null,
       "total": 52,
       "unit": "it",
       "unit_divisor": 1000,
       "unit_scale": false
      },
      "application/vnd.jupyter.widget-view+json": {
       "model_id": "71f1e97a9b3442f2a7665b7c7f73220a",
       "version_major": 2,
       "version_minor": 0
      },
      "text/plain": [
       "chain 2 |          | 00:00 Status"
      ]
     },
     "metadata": {},
     "output_type": "display_data"
    },
    {
     "data": {
      "application/json": {
       "ascii": false,
       "bar_format": "{desc} |{bar}| {elapsed} {postfix[0][value]}",
       "colour": null,
       "elapsed": 0.017319440841674805,
       "initial": 0,
       "n": 0,
       "ncols": null,
       "nrows": null,
       "postfix": [
        {
         "value": "Status"
        }
       ],
       "prefix": "chain 3",
       "rate": null,
       "total": 52,
       "unit": "it",
       "unit_divisor": 1000,
       "unit_scale": false
      },
      "application/vnd.jupyter.widget-view+json": {
       "model_id": "4c5cf10bd33345f1bde086847deb7197",
       "version_major": 2,
       "version_minor": 0
      },
      "text/plain": [
       "chain 3 |          | 00:00 Status"
      ]
     },
     "metadata": {},
     "output_type": "display_data"
    },
    {
     "data": {
      "application/json": {
       "ascii": false,
       "bar_format": "{desc} |{bar}| {elapsed} {postfix[0][value]}",
       "colour": null,
       "elapsed": 0.017069339752197266,
       "initial": 0,
       "n": 0,
       "ncols": null,
       "nrows": null,
       "postfix": [
        {
         "value": "Status"
        }
       ],
       "prefix": "chain 4",
       "rate": null,
       "total": 52,
       "unit": "it",
       "unit_divisor": 1000,
       "unit_scale": false
      },
      "application/vnd.jupyter.widget-view+json": {
       "model_id": "71f3ac8812fc499498f850b82212e85a",
       "version_major": 2,
       "version_minor": 0
      },
      "text/plain": [
       "chain 4 |          | 00:00 Status"
      ]
     },
     "metadata": {},
     "output_type": "display_data"
    },
    {
     "name": "stdout",
     "output_type": "stream",
     "text": [
      "                                                                                                                                                                                                                                                                                                                                \n"
     ]
    },
    {
     "name": "stderr",
     "output_type": "stream",
     "text": [
      "2025-07-15 11:53:11 - orbit - INFO - Sampling (PyStan) with chains: 4, cores: 8, temperature: 1.000, warmups (per chain): 2500 and samples(per chain): 2500.\n"
     ]
    },
    {
     "data": {
      "application/json": {
       "ascii": false,
       "bar_format": "{desc} |{bar}| {elapsed} {postfix[0][value]}",
       "colour": null,
       "elapsed": 0.021158218383789062,
       "initial": 0,
       "n": 0,
       "ncols": null,
       "nrows": null,
       "postfix": [
        {
         "value": "Status"
        }
       ],
       "prefix": "chain 1",
       "rate": null,
       "total": 52,
       "unit": "it",
       "unit_divisor": 1000,
       "unit_scale": false
      },
      "application/vnd.jupyter.widget-view+json": {
       "model_id": "ec6e025c2c5d40dd8c29a967e0e6881c",
       "version_major": 2,
       "version_minor": 0
      },
      "text/plain": [
       "chain 1 |          | 00:00 Status"
      ]
     },
     "metadata": {},
     "output_type": "display_data"
    },
    {
     "data": {
      "application/json": {
       "ascii": false,
       "bar_format": "{desc} |{bar}| {elapsed} {postfix[0][value]}",
       "colour": null,
       "elapsed": 0.017386198043823242,
       "initial": 0,
       "n": 0,
       "ncols": null,
       "nrows": null,
       "postfix": [
        {
         "value": "Status"
        }
       ],
       "prefix": "chain 2",
       "rate": null,
       "total": 52,
       "unit": "it",
       "unit_divisor": 1000,
       "unit_scale": false
      },
      "application/vnd.jupyter.widget-view+json": {
       "model_id": "c6a3fdd7130b417284a352ba65cb7909",
       "version_major": 2,
       "version_minor": 0
      },
      "text/plain": [
       "chain 2 |          | 00:00 Status"
      ]
     },
     "metadata": {},
     "output_type": "display_data"
    },
    {
     "data": {
      "application/json": {
       "ascii": false,
       "bar_format": "{desc} |{bar}| {elapsed} {postfix[0][value]}",
       "colour": null,
       "elapsed": 0.016556739807128906,
       "initial": 0,
       "n": 0,
       "ncols": null,
       "nrows": null,
       "postfix": [
        {
         "value": "Status"
        }
       ],
       "prefix": "chain 3",
       "rate": null,
       "total": 52,
       "unit": "it",
       "unit_divisor": 1000,
       "unit_scale": false
      },
      "application/vnd.jupyter.widget-view+json": {
       "model_id": "45ab4217c2ab473ba0d902cd31ca223c",
       "version_major": 2,
       "version_minor": 0
      },
      "text/plain": [
       "chain 3 |          | 00:00 Status"
      ]
     },
     "metadata": {},
     "output_type": "display_data"
    },
    {
     "data": {
      "application/json": {
       "ascii": false,
       "bar_format": "{desc} |{bar}| {elapsed} {postfix[0][value]}",
       "colour": null,
       "elapsed": 0.01633429527282715,
       "initial": 0,
       "n": 0,
       "ncols": null,
       "nrows": null,
       "postfix": [
        {
         "value": "Status"
        }
       ],
       "prefix": "chain 4",
       "rate": null,
       "total": 52,
       "unit": "it",
       "unit_divisor": 1000,
       "unit_scale": false
      },
      "application/vnd.jupyter.widget-view+json": {
       "model_id": "04cccbbd2d454adb88b905a1ce63d0ca",
       "version_major": 2,
       "version_minor": 0
      },
      "text/plain": [
       "chain 4 |          | 00:00 Status"
      ]
     },
     "metadata": {},
     "output_type": "display_data"
    },
    {
     "name": "stdout",
     "output_type": "stream",
     "text": [
      "                                                                                                                                                                                                                                                                                                                                \n"
     ]
    },
    {
     "name": "stderr",
     "output_type": "stream",
     "text": [
      "2025-07-15 11:53:23 - orbit - INFO - Sampling (PyStan) with chains: 4, cores: 8, temperature: 1.000, warmups (per chain): 2500 and samples(per chain): 2500.\n"
     ]
    },
    {
     "data": {
      "application/json": {
       "ascii": false,
       "bar_format": "{desc} |{bar}| {elapsed} {postfix[0][value]}",
       "colour": null,
       "elapsed": 0.021255970001220703,
       "initial": 0,
       "n": 0,
       "ncols": null,
       "nrows": null,
       "postfix": [
        {
         "value": "Status"
        }
       ],
       "prefix": "chain 1",
       "rate": null,
       "total": 52,
       "unit": "it",
       "unit_divisor": 1000,
       "unit_scale": false
      },
      "application/vnd.jupyter.widget-view+json": {
       "model_id": "d8a0ae2051a14dc2b80f49b90147d2da",
       "version_major": 2,
       "version_minor": 0
      },
      "text/plain": [
       "chain 1 |          | 00:00 Status"
      ]
     },
     "metadata": {},
     "output_type": "display_data"
    },
    {
     "data": {
      "application/json": {
       "ascii": false,
       "bar_format": "{desc} |{bar}| {elapsed} {postfix[0][value]}",
       "colour": null,
       "elapsed": 0.019128084182739258,
       "initial": 0,
       "n": 0,
       "ncols": null,
       "nrows": null,
       "postfix": [
        {
         "value": "Status"
        }
       ],
       "prefix": "chain 2",
       "rate": null,
       "total": 52,
       "unit": "it",
       "unit_divisor": 1000,
       "unit_scale": false
      },
      "application/vnd.jupyter.widget-view+json": {
       "model_id": "f1baf0733b3644d4afdf5a163a050084",
       "version_major": 2,
       "version_minor": 0
      },
      "text/plain": [
       "chain 2 |          | 00:00 Status"
      ]
     },
     "metadata": {},
     "output_type": "display_data"
    },
    {
     "data": {
      "application/json": {
       "ascii": false,
       "bar_format": "{desc} |{bar}| {elapsed} {postfix[0][value]}",
       "colour": null,
       "elapsed": 0.018639802932739258,
       "initial": 0,
       "n": 0,
       "ncols": null,
       "nrows": null,
       "postfix": [
        {
         "value": "Status"
        }
       ],
       "prefix": "chain 3",
       "rate": null,
       "total": 52,
       "unit": "it",
       "unit_divisor": 1000,
       "unit_scale": false
      },
      "application/vnd.jupyter.widget-view+json": {
       "model_id": "4d88192c35dc4c43a6cd98df78e08f39",
       "version_major": 2,
       "version_minor": 0
      },
      "text/plain": [
       "chain 3 |          | 00:00 Status"
      ]
     },
     "metadata": {},
     "output_type": "display_data"
    },
    {
     "data": {
      "application/json": {
       "ascii": false,
       "bar_format": "{desc} |{bar}| {elapsed} {postfix[0][value]}",
       "colour": null,
       "elapsed": 0.016321659088134766,
       "initial": 0,
       "n": 0,
       "ncols": null,
       "nrows": null,
       "postfix": [
        {
         "value": "Status"
        }
       ],
       "prefix": "chain 4",
       "rate": null,
       "total": 52,
       "unit": "it",
       "unit_divisor": 1000,
       "unit_scale": false
      },
      "application/vnd.jupyter.widget-view+json": {
       "model_id": "f88e981c7a6541e2a3fc619b0b968a13",
       "version_major": 2,
       "version_minor": 0
      },
      "text/plain": [
       "chain 4 |          | 00:00 Status"
      ]
     },
     "metadata": {},
     "output_type": "display_data"
    },
    {
     "name": "stdout",
     "output_type": "stream",
     "text": [
      "                                                                                                                                                                                                                                                                                                                                \n"
     ]
    },
    {
     "name": "stderr",
     "output_type": "stream",
     "text": [
      "2025-07-15 11:53:36 - orbit - INFO - Sampling (PyStan) with chains: 4, cores: 8, temperature: 1.000, warmups (per chain): 2500 and samples(per chain): 2500.\n"
     ]
    },
    {
     "data": {
      "application/json": {
       "ascii": false,
       "bar_format": "{desc} |{bar}| {elapsed} {postfix[0][value]}",
       "colour": null,
       "elapsed": 0.02181696891784668,
       "initial": 0,
       "n": 0,
       "ncols": null,
       "nrows": null,
       "postfix": [
        {
         "value": "Status"
        }
       ],
       "prefix": "chain 1",
       "rate": null,
       "total": 52,
       "unit": "it",
       "unit_divisor": 1000,
       "unit_scale": false
      },
      "application/vnd.jupyter.widget-view+json": {
       "model_id": "5f1e817e64f7472fae5129a35ef6829e",
       "version_major": 2,
       "version_minor": 0
      },
      "text/plain": [
       "chain 1 |          | 00:00 Status"
      ]
     },
     "metadata": {},
     "output_type": "display_data"
    },
    {
     "data": {
      "application/json": {
       "ascii": false,
       "bar_format": "{desc} |{bar}| {elapsed} {postfix[0][value]}",
       "colour": null,
       "elapsed": 0.02690744400024414,
       "initial": 0,
       "n": 0,
       "ncols": null,
       "nrows": null,
       "postfix": [
        {
         "value": "Status"
        }
       ],
       "prefix": "chain 2",
       "rate": null,
       "total": 52,
       "unit": "it",
       "unit_divisor": 1000,
       "unit_scale": false
      },
      "application/vnd.jupyter.widget-view+json": {
       "model_id": "04c98beb54bf46b6a408c89d71543795",
       "version_major": 2,
       "version_minor": 0
      },
      "text/plain": [
       "chain 2 |          | 00:00 Status"
      ]
     },
     "metadata": {},
     "output_type": "display_data"
    },
    {
     "data": {
      "application/json": {
       "ascii": false,
       "bar_format": "{desc} |{bar}| {elapsed} {postfix[0][value]}",
       "colour": null,
       "elapsed": 0.0261991024017334,
       "initial": 0,
       "n": 0,
       "ncols": null,
       "nrows": null,
       "postfix": [
        {
         "value": "Status"
        }
       ],
       "prefix": "chain 3",
       "rate": null,
       "total": 52,
       "unit": "it",
       "unit_divisor": 1000,
       "unit_scale": false
      },
      "application/vnd.jupyter.widget-view+json": {
       "model_id": "e7c8905e0cb948d7ac88fe1ff46d399b",
       "version_major": 2,
       "version_minor": 0
      },
      "text/plain": [
       "chain 3 |          | 00:00 Status"
      ]
     },
     "metadata": {},
     "output_type": "display_data"
    },
    {
     "data": {
      "application/json": {
       "ascii": false,
       "bar_format": "{desc} |{bar}| {elapsed} {postfix[0][value]}",
       "colour": null,
       "elapsed": 0.025582313537597656,
       "initial": 0,
       "n": 0,
       "ncols": null,
       "nrows": null,
       "postfix": [
        {
         "value": "Status"
        }
       ],
       "prefix": "chain 4",
       "rate": null,
       "total": 52,
       "unit": "it",
       "unit_divisor": 1000,
       "unit_scale": false
      },
      "application/vnd.jupyter.widget-view+json": {
       "model_id": "6ec6f0510e1d42dc80324129f6eb2440",
       "version_major": 2,
       "version_minor": 0
      },
      "text/plain": [
       "chain 4 |          | 00:00 Status"
      ]
     },
     "metadata": {},
     "output_type": "display_data"
    },
    {
     "name": "stdout",
     "output_type": "stream",
     "text": [
      "                                                                                                                                                                                                                                                                                                                                \n"
     ]
    },
    {
     "name": "stderr",
     "output_type": "stream",
     "text": [
      "2025-07-15 11:53:50 - orbit - INFO - Sampling (PyStan) with chains: 4, cores: 8, temperature: 1.000, warmups (per chain): 2500 and samples(per chain): 2500.\n"
     ]
    },
    {
     "data": {
      "application/json": {
       "ascii": false,
       "bar_format": "{desc} |{bar}| {elapsed} {postfix[0][value]}",
       "colour": null,
       "elapsed": 0.023054838180541992,
       "initial": 0,
       "n": 0,
       "ncols": null,
       "nrows": null,
       "postfix": [
        {
         "value": "Status"
        }
       ],
       "prefix": "chain 1",
       "rate": null,
       "total": 52,
       "unit": "it",
       "unit_divisor": 1000,
       "unit_scale": false
      },
      "application/vnd.jupyter.widget-view+json": {
       "model_id": "40c6f933a5464dbd85a262436dc01bbe",
       "version_major": 2,
       "version_minor": 0
      },
      "text/plain": [
       "chain 1 |          | 00:00 Status"
      ]
     },
     "metadata": {},
     "output_type": "display_data"
    },
    {
     "data": {
      "application/json": {
       "ascii": false,
       "bar_format": "{desc} |{bar}| {elapsed} {postfix[0][value]}",
       "colour": null,
       "elapsed": 0.017684459686279297,
       "initial": 0,
       "n": 0,
       "ncols": null,
       "nrows": null,
       "postfix": [
        {
         "value": "Status"
        }
       ],
       "prefix": "chain 2",
       "rate": null,
       "total": 52,
       "unit": "it",
       "unit_divisor": 1000,
       "unit_scale": false
      },
      "application/vnd.jupyter.widget-view+json": {
       "model_id": "7406d6b2b4764b62a58e107647fe6531",
       "version_major": 2,
       "version_minor": 0
      },
      "text/plain": [
       "chain 2 |          | 00:00 Status"
      ]
     },
     "metadata": {},
     "output_type": "display_data"
    },
    {
     "data": {
      "application/json": {
       "ascii": false,
       "bar_format": "{desc} |{bar}| {elapsed} {postfix[0][value]}",
       "colour": null,
       "elapsed": 0.01718902587890625,
       "initial": 0,
       "n": 0,
       "ncols": null,
       "nrows": null,
       "postfix": [
        {
         "value": "Status"
        }
       ],
       "prefix": "chain 3",
       "rate": null,
       "total": 52,
       "unit": "it",
       "unit_divisor": 1000,
       "unit_scale": false
      },
      "application/vnd.jupyter.widget-view+json": {
       "model_id": "ae8ad479cfae427ca079684e3013de40",
       "version_major": 2,
       "version_minor": 0
      },
      "text/plain": [
       "chain 3 |          | 00:00 Status"
      ]
     },
     "metadata": {},
     "output_type": "display_data"
    },
    {
     "data": {
      "application/json": {
       "ascii": false,
       "bar_format": "{desc} |{bar}| {elapsed} {postfix[0][value]}",
       "colour": null,
       "elapsed": 0.01824808120727539,
       "initial": 0,
       "n": 0,
       "ncols": null,
       "nrows": null,
       "postfix": [
        {
         "value": "Status"
        }
       ],
       "prefix": "chain 4",
       "rate": null,
       "total": 52,
       "unit": "it",
       "unit_divisor": 1000,
       "unit_scale": false
      },
      "application/vnd.jupyter.widget-view+json": {
       "model_id": "0c8a4e3aa90b4c3585748e45ab300ed3",
       "version_major": 2,
       "version_minor": 0
      },
      "text/plain": [
       "chain 4 |          | 00:00 Status"
      ]
     },
     "metadata": {},
     "output_type": "display_data"
    },
    {
     "name": "stdout",
     "output_type": "stream",
     "text": [
      "                                                                                                                                                                                                                                                                                                                                \n"
     ]
    },
    {
     "name": "stderr",
     "output_type": "stream",
     "text": [
      "2025-07-15 11:54:05 - orbit - INFO - Sampling (PyStan) with chains: 4, cores: 8, temperature: 1.000, warmups (per chain): 2500 and samples(per chain): 2500.\n"
     ]
    },
    {
     "data": {
      "application/json": {
       "ascii": false,
       "bar_format": "{desc} |{bar}| {elapsed} {postfix[0][value]}",
       "colour": null,
       "elapsed": 0.02291107177734375,
       "initial": 0,
       "n": 0,
       "ncols": null,
       "nrows": null,
       "postfix": [
        {
         "value": "Status"
        }
       ],
       "prefix": "chain 1",
       "rate": null,
       "total": 52,
       "unit": "it",
       "unit_divisor": 1000,
       "unit_scale": false
      },
      "application/vnd.jupyter.widget-view+json": {
       "model_id": "b5f6ba4ea95d41638dc0a465c3c8dcef",
       "version_major": 2,
       "version_minor": 0
      },
      "text/plain": [
       "chain 1 |          | 00:00 Status"
      ]
     },
     "metadata": {},
     "output_type": "display_data"
    },
    {
     "data": {
      "application/json": {
       "ascii": false,
       "bar_format": "{desc} |{bar}| {elapsed} {postfix[0][value]}",
       "colour": null,
       "elapsed": 0.026139497756958008,
       "initial": 0,
       "n": 0,
       "ncols": null,
       "nrows": null,
       "postfix": [
        {
         "value": "Status"
        }
       ],
       "prefix": "chain 2",
       "rate": null,
       "total": 52,
       "unit": "it",
       "unit_divisor": 1000,
       "unit_scale": false
      },
      "application/vnd.jupyter.widget-view+json": {
       "model_id": "01e526f00fd34a18ab4bdcc372ca2178",
       "version_major": 2,
       "version_minor": 0
      },
      "text/plain": [
       "chain 2 |          | 00:00 Status"
      ]
     },
     "metadata": {},
     "output_type": "display_data"
    },
    {
     "data": {
      "application/json": {
       "ascii": false,
       "bar_format": "{desc} |{bar}| {elapsed} {postfix[0][value]}",
       "colour": null,
       "elapsed": 0.019898653030395508,
       "initial": 0,
       "n": 0,
       "ncols": null,
       "nrows": null,
       "postfix": [
        {
         "value": "Status"
        }
       ],
       "prefix": "chain 3",
       "rate": null,
       "total": 52,
       "unit": "it",
       "unit_divisor": 1000,
       "unit_scale": false
      },
      "application/vnd.jupyter.widget-view+json": {
       "model_id": "119117252a424eaeb95e8618e7119714",
       "version_major": 2,
       "version_minor": 0
      },
      "text/plain": [
       "chain 3 |          | 00:00 Status"
      ]
     },
     "metadata": {},
     "output_type": "display_data"
    },
    {
     "data": {
      "application/json": {
       "ascii": false,
       "bar_format": "{desc} |{bar}| {elapsed} {postfix[0][value]}",
       "colour": null,
       "elapsed": 0.022853612899780273,
       "initial": 0,
       "n": 0,
       "ncols": null,
       "nrows": null,
       "postfix": [
        {
         "value": "Status"
        }
       ],
       "prefix": "chain 4",
       "rate": null,
       "total": 52,
       "unit": "it",
       "unit_divisor": 1000,
       "unit_scale": false
      },
      "application/vnd.jupyter.widget-view+json": {
       "model_id": "8aee1cf0e4d6443584b7f7c3cb31e814",
       "version_major": 2,
       "version_minor": 0
      },
      "text/plain": [
       "chain 4 |          | 00:00 Status"
      ]
     },
     "metadata": {},
     "output_type": "display_data"
    },
    {
     "name": "stdout",
     "output_type": "stream",
     "text": [
      "                                                                                                                                                                                                                                                                                                                                \n"
     ]
    },
    {
     "name": "stderr",
     "output_type": "stream",
     "text": [
      "2025-07-15 11:54:22 - orbit - INFO - Sampling (PyStan) with chains: 4, cores: 8, temperature: 1.000, warmups (per chain): 2500 and samples(per chain): 2500.\n"
     ]
    },
    {
     "data": {
      "application/json": {
       "ascii": false,
       "bar_format": "{desc} |{bar}| {elapsed} {postfix[0][value]}",
       "colour": null,
       "elapsed": 0.026028871536254883,
       "initial": 0,
       "n": 0,
       "ncols": null,
       "nrows": null,
       "postfix": [
        {
         "value": "Status"
        }
       ],
       "prefix": "chain 1",
       "rate": null,
       "total": 52,
       "unit": "it",
       "unit_divisor": 1000,
       "unit_scale": false
      },
      "application/vnd.jupyter.widget-view+json": {
       "model_id": "4d7f69fd00c847f09e05d3bf4f3e26c4",
       "version_major": 2,
       "version_minor": 0
      },
      "text/plain": [
       "chain 1 |          | 00:00 Status"
      ]
     },
     "metadata": {},
     "output_type": "display_data"
    },
    {
     "data": {
      "application/json": {
       "ascii": false,
       "bar_format": "{desc} |{bar}| {elapsed} {postfix[0][value]}",
       "colour": null,
       "elapsed": 0.016709327697753906,
       "initial": 0,
       "n": 0,
       "ncols": null,
       "nrows": null,
       "postfix": [
        {
         "value": "Status"
        }
       ],
       "prefix": "chain 2",
       "rate": null,
       "total": 52,
       "unit": "it",
       "unit_divisor": 1000,
       "unit_scale": false
      },
      "application/vnd.jupyter.widget-view+json": {
       "model_id": "d6f75cbdd4f3459a9410a909397b3a04",
       "version_major": 2,
       "version_minor": 0
      },
      "text/plain": [
       "chain 2 |          | 00:00 Status"
      ]
     },
     "metadata": {},
     "output_type": "display_data"
    },
    {
     "data": {
      "application/json": {
       "ascii": false,
       "bar_format": "{desc} |{bar}| {elapsed} {postfix[0][value]}",
       "colour": null,
       "elapsed": 0.01933574676513672,
       "initial": 0,
       "n": 0,
       "ncols": null,
       "nrows": null,
       "postfix": [
        {
         "value": "Status"
        }
       ],
       "prefix": "chain 3",
       "rate": null,
       "total": 52,
       "unit": "it",
       "unit_divisor": 1000,
       "unit_scale": false
      },
      "application/vnd.jupyter.widget-view+json": {
       "model_id": "d5e45e4a18184e6ba7840ff4b4ed6088",
       "version_major": 2,
       "version_minor": 0
      },
      "text/plain": [
       "chain 3 |          | 00:00 Status"
      ]
     },
     "metadata": {},
     "output_type": "display_data"
    },
    {
     "data": {
      "application/json": {
       "ascii": false,
       "bar_format": "{desc} |{bar}| {elapsed} {postfix[0][value]}",
       "colour": null,
       "elapsed": 0.026636838912963867,
       "initial": 0,
       "n": 0,
       "ncols": null,
       "nrows": null,
       "postfix": [
        {
         "value": "Status"
        }
       ],
       "prefix": "chain 4",
       "rate": null,
       "total": 52,
       "unit": "it",
       "unit_divisor": 1000,
       "unit_scale": false
      },
      "application/vnd.jupyter.widget-view+json": {
       "model_id": "6786dee7d7394621bb9ec864fe77ec1f",
       "version_major": 2,
       "version_minor": 0
      },
      "text/plain": [
       "chain 4 |          | 00:00 Status"
      ]
     },
     "metadata": {},
     "output_type": "display_data"
    },
    {
     "name": "stdout",
     "output_type": "stream",
     "text": [
      "                                                                                                                                                                                                                                                                                                                                \n"
     ]
    },
    {
     "name": "stderr",
     "output_type": "stream",
     "text": [
      "2025-07-15 11:54:41 - orbit - INFO - Sampling (PyStan) with chains: 4, cores: 8, temperature: 1.000, warmups (per chain): 2500 and samples(per chain): 2500.\n"
     ]
    },
    {
     "data": {
      "application/json": {
       "ascii": false,
       "bar_format": "{desc} |{bar}| {elapsed} {postfix[0][value]}",
       "colour": null,
       "elapsed": 0.024990558624267578,
       "initial": 0,
       "n": 0,
       "ncols": null,
       "nrows": null,
       "postfix": [
        {
         "value": "Status"
        }
       ],
       "prefix": "chain 1",
       "rate": null,
       "total": 52,
       "unit": "it",
       "unit_divisor": 1000,
       "unit_scale": false
      },
      "application/vnd.jupyter.widget-view+json": {
       "model_id": "cc282971416b461db3a1ca2bf19a94b4",
       "version_major": 2,
       "version_minor": 0
      },
      "text/plain": [
       "chain 1 |          | 00:00 Status"
      ]
     },
     "metadata": {},
     "output_type": "display_data"
    },
    {
     "data": {
      "application/json": {
       "ascii": false,
       "bar_format": "{desc} |{bar}| {elapsed} {postfix[0][value]}",
       "colour": null,
       "elapsed": 0.019926786422729492,
       "initial": 0,
       "n": 0,
       "ncols": null,
       "nrows": null,
       "postfix": [
        {
         "value": "Status"
        }
       ],
       "prefix": "chain 2",
       "rate": null,
       "total": 52,
       "unit": "it",
       "unit_divisor": 1000,
       "unit_scale": false
      },
      "application/vnd.jupyter.widget-view+json": {
       "model_id": "ec769aa7487247cea1ec9af25d9fd296",
       "version_major": 2,
       "version_minor": 0
      },
      "text/plain": [
       "chain 2 |          | 00:00 Status"
      ]
     },
     "metadata": {},
     "output_type": "display_data"
    },
    {
     "data": {
      "application/json": {
       "ascii": false,
       "bar_format": "{desc} |{bar}| {elapsed} {postfix[0][value]}",
       "colour": null,
       "elapsed": 0.018659591674804688,
       "initial": 0,
       "n": 0,
       "ncols": null,
       "nrows": null,
       "postfix": [
        {
         "value": "Status"
        }
       ],
       "prefix": "chain 3",
       "rate": null,
       "total": 52,
       "unit": "it",
       "unit_divisor": 1000,
       "unit_scale": false
      },
      "application/vnd.jupyter.widget-view+json": {
       "model_id": "44d5e6dd5678492f921fa17bc06a4f31",
       "version_major": 2,
       "version_minor": 0
      },
      "text/plain": [
       "chain 3 |          | 00:00 Status"
      ]
     },
     "metadata": {},
     "output_type": "display_data"
    },
    {
     "data": {
      "application/json": {
       "ascii": false,
       "bar_format": "{desc} |{bar}| {elapsed} {postfix[0][value]}",
       "colour": null,
       "elapsed": 0.020726919174194336,
       "initial": 0,
       "n": 0,
       "ncols": null,
       "nrows": null,
       "postfix": [
        {
         "value": "Status"
        }
       ],
       "prefix": "chain 4",
       "rate": null,
       "total": 52,
       "unit": "it",
       "unit_divisor": 1000,
       "unit_scale": false
      },
      "application/vnd.jupyter.widget-view+json": {
       "model_id": "2ab145e3ee154a93bf6f3a1776708de7",
       "version_major": 2,
       "version_minor": 0
      },
      "text/plain": [
       "chain 4 |          | 00:00 Status"
      ]
     },
     "metadata": {},
     "output_type": "display_data"
    },
    {
     "name": "stdout",
     "output_type": "stream",
     "text": [
      "                                                                                                                                                                                                                                                                                                                                \n"
     ]
    },
    {
     "name": "stderr",
     "output_type": "stream",
     "text": [
      "2025-07-15 11:55:00 - orbit - INFO - Sampling (PyStan) with chains: 4, cores: 8, temperature: 1.000, warmups (per chain): 2500 and samples(per chain): 2500.\n"
     ]
    },
    {
     "data": {
      "application/json": {
       "ascii": false,
       "bar_format": "{desc} |{bar}| {elapsed} {postfix[0][value]}",
       "colour": null,
       "elapsed": 0.023615360260009766,
       "initial": 0,
       "n": 0,
       "ncols": null,
       "nrows": null,
       "postfix": [
        {
         "value": "Status"
        }
       ],
       "prefix": "chain 1",
       "rate": null,
       "total": 52,
       "unit": "it",
       "unit_divisor": 1000,
       "unit_scale": false
      },
      "application/vnd.jupyter.widget-view+json": {
       "model_id": "43e4efa261dc4cac92adc59302434543",
       "version_major": 2,
       "version_minor": 0
      },
      "text/plain": [
       "chain 1 |          | 00:00 Status"
      ]
     },
     "metadata": {},
     "output_type": "display_data"
    },
    {
     "data": {
      "application/json": {
       "ascii": false,
       "bar_format": "{desc} |{bar}| {elapsed} {postfix[0][value]}",
       "colour": null,
       "elapsed": 0.019467592239379883,
       "initial": 0,
       "n": 0,
       "ncols": null,
       "nrows": null,
       "postfix": [
        {
         "value": "Status"
        }
       ],
       "prefix": "chain 2",
       "rate": null,
       "total": 52,
       "unit": "it",
       "unit_divisor": 1000,
       "unit_scale": false
      },
      "application/vnd.jupyter.widget-view+json": {
       "model_id": "a034c3ed72c4400d9410b295473fb3d0",
       "version_major": 2,
       "version_minor": 0
      },
      "text/plain": [
       "chain 2 |          | 00:00 Status"
      ]
     },
     "metadata": {},
     "output_type": "display_data"
    },
    {
     "data": {
      "application/json": {
       "ascii": false,
       "bar_format": "{desc} |{bar}| {elapsed} {postfix[0][value]}",
       "colour": null,
       "elapsed": 0.020847320556640625,
       "initial": 0,
       "n": 0,
       "ncols": null,
       "nrows": null,
       "postfix": [
        {
         "value": "Status"
        }
       ],
       "prefix": "chain 3",
       "rate": null,
       "total": 52,
       "unit": "it",
       "unit_divisor": 1000,
       "unit_scale": false
      },
      "application/vnd.jupyter.widget-view+json": {
       "model_id": "8d5d4e0ea30d444d8a880b34e488ef7c",
       "version_major": 2,
       "version_minor": 0
      },
      "text/plain": [
       "chain 3 |          | 00:00 Status"
      ]
     },
     "metadata": {},
     "output_type": "display_data"
    },
    {
     "data": {
      "application/json": {
       "ascii": false,
       "bar_format": "{desc} |{bar}| {elapsed} {postfix[0][value]}",
       "colour": null,
       "elapsed": 0.019178390502929688,
       "initial": 0,
       "n": 0,
       "ncols": null,
       "nrows": null,
       "postfix": [
        {
         "value": "Status"
        }
       ],
       "prefix": "chain 4",
       "rate": null,
       "total": 52,
       "unit": "it",
       "unit_divisor": 1000,
       "unit_scale": false
      },
      "application/vnd.jupyter.widget-view+json": {
       "model_id": "3c1cc1da2be242a9a23a8037a2a69148",
       "version_major": 2,
       "version_minor": 0
      },
      "text/plain": [
       "chain 4 |          | 00:00 Status"
      ]
     },
     "metadata": {},
     "output_type": "display_data"
    },
    {
     "name": "stdout",
     "output_type": "stream",
     "text": [
      "                                                                                                                                                                                                                                                                                                                                \n"
     ]
    },
    {
     "name": "stderr",
     "output_type": "stream",
     "text": [
      "2025-07-15 11:55:20 - orbit - INFO - Sampling (PyStan) with chains: 4, cores: 8, temperature: 1.000, warmups (per chain): 2500 and samples(per chain): 2500.\n"
     ]
    },
    {
     "data": {
      "application/json": {
       "ascii": false,
       "bar_format": "{desc} |{bar}| {elapsed} {postfix[0][value]}",
       "colour": null,
       "elapsed": 0.022217988967895508,
       "initial": 0,
       "n": 0,
       "ncols": null,
       "nrows": null,
       "postfix": [
        {
         "value": "Status"
        }
       ],
       "prefix": "chain 1",
       "rate": null,
       "total": 52,
       "unit": "it",
       "unit_divisor": 1000,
       "unit_scale": false
      },
      "application/vnd.jupyter.widget-view+json": {
       "model_id": "f4f92f39edd948a09573e201ffae4610",
       "version_major": 2,
       "version_minor": 0
      },
      "text/plain": [
       "chain 1 |          | 00:00 Status"
      ]
     },
     "metadata": {},
     "output_type": "display_data"
    },
    {
     "data": {
      "application/json": {
       "ascii": false,
       "bar_format": "{desc} |{bar}| {elapsed} {postfix[0][value]}",
       "colour": null,
       "elapsed": 0.022056102752685547,
       "initial": 0,
       "n": 0,
       "ncols": null,
       "nrows": null,
       "postfix": [
        {
         "value": "Status"
        }
       ],
       "prefix": "chain 2",
       "rate": null,
       "total": 52,
       "unit": "it",
       "unit_divisor": 1000,
       "unit_scale": false
      },
      "application/vnd.jupyter.widget-view+json": {
       "model_id": "f57660ebf9f948608ceecb7e759dfd5f",
       "version_major": 2,
       "version_minor": 0
      },
      "text/plain": [
       "chain 2 |          | 00:00 Status"
      ]
     },
     "metadata": {},
     "output_type": "display_data"
    },
    {
     "data": {
      "application/json": {
       "ascii": false,
       "bar_format": "{desc} |{bar}| {elapsed} {postfix[0][value]}",
       "colour": null,
       "elapsed": 0.021882057189941406,
       "initial": 0,
       "n": 0,
       "ncols": null,
       "nrows": null,
       "postfix": [
        {
         "value": "Status"
        }
       ],
       "prefix": "chain 3",
       "rate": null,
       "total": 52,
       "unit": "it",
       "unit_divisor": 1000,
       "unit_scale": false
      },
      "application/vnd.jupyter.widget-view+json": {
       "model_id": "28b9435bacbb43b49f340b22a9cabc63",
       "version_major": 2,
       "version_minor": 0
      },
      "text/plain": [
       "chain 3 |          | 00:00 Status"
      ]
     },
     "metadata": {},
     "output_type": "display_data"
    },
    {
     "data": {
      "application/json": {
       "ascii": false,
       "bar_format": "{desc} |{bar}| {elapsed} {postfix[0][value]}",
       "colour": null,
       "elapsed": 0.018755197525024414,
       "initial": 0,
       "n": 0,
       "ncols": null,
       "nrows": null,
       "postfix": [
        {
         "value": "Status"
        }
       ],
       "prefix": "chain 4",
       "rate": null,
       "total": 52,
       "unit": "it",
       "unit_divisor": 1000,
       "unit_scale": false
      },
      "application/vnd.jupyter.widget-view+json": {
       "model_id": "8f4e2b12fe344c98be7ed006062ffa74",
       "version_major": 2,
       "version_minor": 0
      },
      "text/plain": [
       "chain 4 |          | 00:00 Status"
      ]
     },
     "metadata": {},
     "output_type": "display_data"
    },
    {
     "name": "stdout",
     "output_type": "stream",
     "text": [
      "                                                                                                                                                                                                                                                                                                                                \n"
     ]
    }
   ],
   "source": [
    "test_list_exp = []\n",
    "\n",
    "for model in model_list:\n",
    "    \n",
    "    backtester = BackTester(\n",
    "    model=model,\n",
    "    df=df,\n",
    "    min_train_len=7,\n",
    "    incremental_len=7,\n",
    "    forecast_len=7,\n",
    "    window_type=\"expanding\")\n",
    "    \n",
    "    backtester.fit_predict()\n",
    "    \n",
    "    test_list_exp.append(backtester)"
   ]
  },
  {
   "cell_type": "code",
   "execution_count": 20,
   "id": "85ad3d69-1b54-462e-997b-a1714acff014",
   "metadata": {},
   "outputs": [],
   "source": [
    "roll_df = []\n",
    "\n",
    "for number, tester in enumerate(test_list_rolling):\n",
    "    \n",
    "    inter_df = tester.score()\n",
    "    inter_df.insert(0, \"model_number\", number + 1)\n",
    "    \n",
    "    roll_df.append(inter_df)\n",
    "    \n",
    "roll_df = pd.concat(roll_df)\n",
    "roll_df = roll_df.set_index(\"model_number\")"
   ]
  },
  {
   "cell_type": "code",
   "execution_count": 21,
   "id": "d07935b9-6ec1-42ed-869d-98ee03d236da",
   "metadata": {},
   "outputs": [
    {
     "data": {
      "text/html": [
       "<div>\n",
       "<style scoped>\n",
       "    .dataframe tbody tr th:only-of-type {\n",
       "        vertical-align: middle;\n",
       "    }\n",
       "\n",
       "    .dataframe tbody tr th {\n",
       "        vertical-align: top;\n",
       "    }\n",
       "\n",
       "    .dataframe thead th {\n",
       "        text-align: right;\n",
       "    }\n",
       "</style>\n",
       "<table border=\"1\" class=\"dataframe\">\n",
       "  <thead>\n",
       "    <tr style=\"text-align: right;\">\n",
       "      <th></th>\n",
       "      <th>metric_name</th>\n",
       "      <th>metric_values</th>\n",
       "      <th>is_training_metric</th>\n",
       "    </tr>\n",
       "    <tr>\n",
       "      <th>model_number</th>\n",
       "      <th></th>\n",
       "      <th></th>\n",
       "      <th></th>\n",
       "    </tr>\n",
       "  </thead>\n",
       "  <tbody>\n",
       "    <tr>\n",
       "      <th>1</th>\n",
       "      <td>smape</td>\n",
       "      <td>1.986824e-01</td>\n",
       "      <td>False</td>\n",
       "    </tr>\n",
       "    <tr>\n",
       "      <th>1</th>\n",
       "      <td>wmape</td>\n",
       "      <td>2.291168e-01</td>\n",
       "      <td>False</td>\n",
       "    </tr>\n",
       "    <tr>\n",
       "      <th>1</th>\n",
       "      <td>mape</td>\n",
       "      <td>2.284110e-01</td>\n",
       "      <td>False</td>\n",
       "    </tr>\n",
       "    <tr>\n",
       "      <th>1</th>\n",
       "      <td>mse</td>\n",
       "      <td>4.516993e+10</td>\n",
       "      <td>False</td>\n",
       "    </tr>\n",
       "    <tr>\n",
       "      <th>1</th>\n",
       "      <td>mae</td>\n",
       "      <td>1.380899e+05</td>\n",
       "      <td>False</td>\n",
       "    </tr>\n",
       "  </tbody>\n",
       "</table>\n",
       "</div>"
      ],
      "text/plain": [
       "             metric_name  metric_values  is_training_metric\n",
       "model_number                                               \n",
       "1                  smape   1.986824e-01               False\n",
       "1                  wmape   2.291168e-01               False\n",
       "1                   mape   2.284110e-01               False\n",
       "1                    mse   4.516993e+10               False\n",
       "1                    mae   1.380899e+05               False"
      ]
     },
     "execution_count": 21,
     "metadata": {},
     "output_type": "execute_result"
    }
   ],
   "source": [
    "roll_df.head()"
   ]
  },
  {
   "cell_type": "code",
   "execution_count": 22,
   "id": "36ab90f4-ed09-4ed9-8437-1c3782d45c0d",
   "metadata": {},
   "outputs": [
    {
     "name": "stdout",
     "output_type": "stream",
     "text": [
      "Самая лучшая модель по метрике smape - 2\n",
      "Самая лучшая модель по метрике wmape - 2\n",
      "Самая лучшая модель по метрике mape - 2\n",
      "Самая лучшая модель по метрике mse - 2\n",
      "Самая лучшая модель по метрике mae - 2\n",
      "Самая лучшая модель по метрике rmsse - 2\n"
     ]
    }
   ],
   "source": [
    "for metric in roll_df.metric_name.unique():\n",
    "    \n",
    "    winning_model = roll_df.loc[roll_df.metric_name == metric].metric_values.idxmin()\n",
    "    \n",
    "    print(f\"Самая лучшая модель по метрике {metric} - {winning_model}\")"
   ]
  },
  {
   "cell_type": "code",
   "execution_count": 23,
   "id": "1851a406-9716-4b08-a511-0f8b34c7c2d3",
   "metadata": {},
   "outputs": [],
   "source": [
    "exp_df = []\n",
    "\n",
    "for number, tester in enumerate(test_list_exp):\n",
    "    \n",
    "    inter_df = tester.score()\n",
    "    inter_df.insert(0, \"model_number\", number + 1)\n",
    "    \n",
    "    exp_df.append(inter_df)\n",
    "    \n",
    "exp_df = pd.concat(exp_df)\n",
    "exp_df = exp_df.set_index(\"model_number\")"
   ]
  },
  {
   "cell_type": "code",
   "execution_count": 24,
   "id": "3601da45-f625-49c2-bb9a-b4b66aff0185",
   "metadata": {},
   "outputs": [
    {
     "name": "stdout",
     "output_type": "stream",
     "text": [
      "Самая лучшая модель по метрике smape - 2\n",
      "Самая лучшая модель по метрике wmape - 2\n",
      "Самая лучшая модель по метрике mape - 2\n",
      "Самая лучшая модель по метрике mse - 2\n",
      "Самая лучшая модель по метрике mae - 2\n",
      "Самая лучшая модель по метрике rmsse - 2\n"
     ]
    }
   ],
   "source": [
    "for metric in exp_df.metric_name.unique():\n",
    "    \n",
    "    winning_model = exp_df.loc[exp_df.metric_name == metric].metric_values.idxmin()\n",
    "    \n",
    "    print(f\"Самая лучшая модель по метрике {metric} - {winning_model}\")"
   ]
  },
  {
   "cell_type": "markdown",
   "id": "fc982996-b400-4a88-8692-de3c92ddde09",
   "metadata": {},
   "source": [
    "### Проверка WBIC"
   ]
  },
  {
   "cell_type": "code",
   "execution_count": 25,
   "id": "dff8d612-bef9-463b-b5c1-7ed818a2783a",
   "metadata": {},
   "outputs": [
    {
     "name": "stderr",
     "output_type": "stream",
     "text": [
      "2025-07-15 11:56:02 - orbit - INFO - Sampling (PyStan) with chains: 4, cores: 8, temperature: 4.913, warmups (per chain): 2500 and samples(per chain): 2500.\n"
     ]
    },
    {
     "data": {
      "application/json": {
       "ascii": false,
       "bar_format": "{desc} |{bar}| {elapsed} {postfix[0][value]}",
       "colour": null,
       "elapsed": 0.02196502685546875,
       "initial": 0,
       "n": 0,
       "ncols": null,
       "nrows": null,
       "postfix": [
        {
         "value": "Status"
        }
       ],
       "prefix": "chain 1",
       "rate": null,
       "total": 52,
       "unit": "it",
       "unit_divisor": 1000,
       "unit_scale": false
      },
      "application/vnd.jupyter.widget-view+json": {
       "model_id": "e0a37ec4653343f8b1b8ef9ab0e02d93",
       "version_major": 2,
       "version_minor": 0
      },
      "text/plain": [
       "chain 1 |          | 00:00 Status"
      ]
     },
     "metadata": {},
     "output_type": "display_data"
    },
    {
     "data": {
      "application/json": {
       "ascii": false,
       "bar_format": "{desc} |{bar}| {elapsed} {postfix[0][value]}",
       "colour": null,
       "elapsed": 0.01809072494506836,
       "initial": 0,
       "n": 0,
       "ncols": null,
       "nrows": null,
       "postfix": [
        {
         "value": "Status"
        }
       ],
       "prefix": "chain 2",
       "rate": null,
       "total": 52,
       "unit": "it",
       "unit_divisor": 1000,
       "unit_scale": false
      },
      "application/vnd.jupyter.widget-view+json": {
       "model_id": "b11e7638c1c645b7be827ecc68b07a28",
       "version_major": 2,
       "version_minor": 0
      },
      "text/plain": [
       "chain 2 |          | 00:00 Status"
      ]
     },
     "metadata": {},
     "output_type": "display_data"
    },
    {
     "data": {
      "application/json": {
       "ascii": false,
       "bar_format": "{desc} |{bar}| {elapsed} {postfix[0][value]}",
       "colour": null,
       "elapsed": 0.01916360855102539,
       "initial": 0,
       "n": 0,
       "ncols": null,
       "nrows": null,
       "postfix": [
        {
         "value": "Status"
        }
       ],
       "prefix": "chain 3",
       "rate": null,
       "total": 52,
       "unit": "it",
       "unit_divisor": 1000,
       "unit_scale": false
      },
      "application/vnd.jupyter.widget-view+json": {
       "model_id": "6c360da6199148e0b63b2140805a6ae6",
       "version_major": 2,
       "version_minor": 0
      },
      "text/plain": [
       "chain 3 |          | 00:00 Status"
      ]
     },
     "metadata": {},
     "output_type": "display_data"
    },
    {
     "data": {
      "application/json": {
       "ascii": false,
       "bar_format": "{desc} |{bar}| {elapsed} {postfix[0][value]}",
       "colour": null,
       "elapsed": 0.018281936645507812,
       "initial": 0,
       "n": 0,
       "ncols": null,
       "nrows": null,
       "postfix": [
        {
         "value": "Status"
        }
       ],
       "prefix": "chain 4",
       "rate": null,
       "total": 52,
       "unit": "it",
       "unit_divisor": 1000,
       "unit_scale": false
      },
      "application/vnd.jupyter.widget-view+json": {
       "model_id": "282d8cd2ff7e43f78c4f7de0a9e3bf07",
       "version_major": 2,
       "version_minor": 0
      },
      "text/plain": [
       "chain 4 |          | 00:00 Status"
      ]
     },
     "metadata": {},
     "output_type": "display_data"
    },
    {
     "name": "stdout",
     "output_type": "stream",
     "text": [
      "                                                                                                                                                                                                                                                                                                                                \n"
     ]
    },
    {
     "name": "stderr",
     "output_type": "stream",
     "text": [
      "2025-07-15 11:56:24 - orbit - INFO - Sampling (PyStan) with chains: 4, cores: 8, temperature: 4.913, warmups (per chain): 2500 and samples(per chain): 2500.\n"
     ]
    },
    {
     "data": {
      "application/json": {
       "ascii": false,
       "bar_format": "{desc} |{bar}| {elapsed} {postfix[0][value]}",
       "colour": null,
       "elapsed": 0.020856857299804688,
       "initial": 0,
       "n": 0,
       "ncols": null,
       "nrows": null,
       "postfix": [
        {
         "value": "Status"
        }
       ],
       "prefix": "chain 1",
       "rate": null,
       "total": 52,
       "unit": "it",
       "unit_divisor": 1000,
       "unit_scale": false
      },
      "application/vnd.jupyter.widget-view+json": {
       "model_id": "6b375c853bb748cfb366de162e906e7d",
       "version_major": 2,
       "version_minor": 0
      },
      "text/plain": [
       "chain 1 |          | 00:00 Status"
      ]
     },
     "metadata": {},
     "output_type": "display_data"
    },
    {
     "data": {
      "application/json": {
       "ascii": false,
       "bar_format": "{desc} |{bar}| {elapsed} {postfix[0][value]}",
       "colour": null,
       "elapsed": 0.016768217086791992,
       "initial": 0,
       "n": 0,
       "ncols": null,
       "nrows": null,
       "postfix": [
        {
         "value": "Status"
        }
       ],
       "prefix": "chain 2",
       "rate": null,
       "total": 52,
       "unit": "it",
       "unit_divisor": 1000,
       "unit_scale": false
      },
      "application/vnd.jupyter.widget-view+json": {
       "model_id": "74a31724cdf54918921f080ba90c3886",
       "version_major": 2,
       "version_minor": 0
      },
      "text/plain": [
       "chain 2 |          | 00:00 Status"
      ]
     },
     "metadata": {},
     "output_type": "display_data"
    },
    {
     "data": {
      "application/json": {
       "ascii": false,
       "bar_format": "{desc} |{bar}| {elapsed} {postfix[0][value]}",
       "colour": null,
       "elapsed": 0.017244338989257812,
       "initial": 0,
       "n": 0,
       "ncols": null,
       "nrows": null,
       "postfix": [
        {
         "value": "Status"
        }
       ],
       "prefix": "chain 3",
       "rate": null,
       "total": 52,
       "unit": "it",
       "unit_divisor": 1000,
       "unit_scale": false
      },
      "application/vnd.jupyter.widget-view+json": {
       "model_id": "a508951e4b114f54a7fb67b7db04cc12",
       "version_major": 2,
       "version_minor": 0
      },
      "text/plain": [
       "chain 3 |          | 00:00 Status"
      ]
     },
     "metadata": {},
     "output_type": "display_data"
    },
    {
     "data": {
      "application/json": {
       "ascii": false,
       "bar_format": "{desc} |{bar}| {elapsed} {postfix[0][value]}",
       "colour": null,
       "elapsed": 0.016718626022338867,
       "initial": 0,
       "n": 0,
       "ncols": null,
       "nrows": null,
       "postfix": [
        {
         "value": "Status"
        }
       ],
       "prefix": "chain 4",
       "rate": null,
       "total": 52,
       "unit": "it",
       "unit_divisor": 1000,
       "unit_scale": false
      },
      "application/vnd.jupyter.widget-view+json": {
       "model_id": "612542cc3d9d4d8980136292bc5a4538",
       "version_major": 2,
       "version_minor": 0
      },
      "text/plain": [
       "chain 4 |          | 00:00 Status"
      ]
     },
     "metadata": {},
     "output_type": "display_data"
    },
    {
     "name": "stdout",
     "output_type": "stream",
     "text": [
      "                                                                                                                                                                                                                                                                                                                                \n"
     ]
    }
   ],
   "source": [
    "for model in model_list:\n",
    "    \n",
    "    model.fit_wbic(df)"
   ]
  },
  {
   "cell_type": "code",
   "execution_count": 26,
   "id": "0ed756ed-112d-443e-88c9-c529d47a37ee",
   "metadata": {},
   "outputs": [
    {
     "name": "stdout",
     "output_type": "stream",
     "text": [
      "Модель №1, WBIC = 3477.9795895348147\n",
      "Модель №2, WBIC = 3473.4622321114102\n"
     ]
    }
   ],
   "source": [
    "for number, model in enumerate(model_list):\n",
    "    \n",
    "    print(f\"Модель №{number+1}, WBIC = {model.get_wbic()}\")"
   ]
  },
  {
   "cell_type": "markdown",
   "id": "5239a00b-3a09-4e92-be34-7bc6cf7d12fc",
   "metadata": {},
   "source": [
    "#### Таким образом, по всем метрикам наиболее удачной моделью оказалась модель №2 с логлинейным трендом"
   ]
  },
  {
   "cell_type": "code",
   "execution_count": 33,
   "id": "874e350a-e9f9-4682-84de-7cefaabb8949",
   "metadata": {},
   "outputs": [],
   "source": [
    "comps = model_list[0].predict(futur, decompose=True)"
   ]
  },
  {
   "cell_type": "code",
   "execution_count": 34,
   "id": "e09304b2-a4e8-4196-b63a-baef3aac536f",
   "metadata": {},
   "outputs": [
    {
     "name": "stderr",
     "output_type": "stream",
     "text": [
      "findfont: Generic family 'sans-serif' not found because none of the following families were found: Arial\n",
      "findfont: Generic family 'sans-serif' not found because none of the following families were found: Arial\n",
      "findfont: Generic family 'sans-serif' not found because none of the following families were found: Arial\n",
      "findfont: Generic family 'sans-serif' not found because none of the following families were found: Arial\n",
      "findfont: Generic family 'sans-serif' not found because none of the following families were found: Arial\n",
      "findfont: Generic family 'sans-serif' not found because none of the following families were found: Arial\n",
      "findfont: Generic family 'sans-serif' not found because none of the following families were found: Arial\n",
      "findfont: Generic family 'sans-serif' not found because none of the following families were found: Arial\n",
      "findfont: Generic family 'sans-serif' not found because none of the following families were found: Arial\n",
      "findfont: Generic family 'sans-serif' not found because none of the following families were found: Arial\n",
      "findfont: Generic family 'sans-serif' not found because none of the following families were found: Arial\n",
      "findfont: Generic family 'sans-serif' not found because none of the following families were found: Arial\n",
      "findfont: Generic family 'sans-serif' not found because none of the following families were found: Arial\n",
      "findfont: Generic family 'sans-serif' not found because none of the following families were found: Arial\n",
      "findfont: Generic family 'sans-serif' not found because none of the following families were found: Arial\n",
      "findfont: Generic family 'sans-serif' not found because none of the following families were found: Arial\n",
      "findfont: Generic family 'sans-serif' not found because none of the following families were found: Arial\n",
      "findfont: Generic family 'sans-serif' not found because none of the following families were found: Arial\n",
      "findfont: Generic family 'sans-serif' not found because none of the following families were found: Arial\n",
      "findfont: Generic family 'sans-serif' not found because none of the following families were found: Arial\n",
      "findfont: Generic family 'sans-serif' not found because none of the following families were found: Arial\n",
      "findfont: Generic family 'sans-serif' not found because none of the following families were found: Arial\n",
      "findfont: Generic family 'sans-serif' not found because none of the following families were found: Arial\n",
      "findfont: Generic family 'sans-serif' not found because none of the following families were found: Arial\n",
      "findfont: Generic family 'sans-serif' not found because none of the following families were found: Arial\n",
      "findfont: Generic family 'sans-serif' not found because none of the following families were found: Arial\n",
      "findfont: Generic family 'sans-serif' not found because none of the following families were found: Arial\n",
      "findfont: Generic family 'sans-serif' not found because none of the following families were found: Arial\n",
      "findfont: Generic family 'sans-serif' not found because none of the following families were found: Arial\n",
      "findfont: Generic family 'sans-serif' not found because none of the following families were found: Arial\n",
      "findfont: Generic family 'sans-serif' not found because none of the following families were found: Arial\n",
      "findfont: Generic family 'sans-serif' not found because none of the following families were found: Arial\n",
      "findfont: Generic family 'sans-serif' not found because none of the following families were found: Arial\n",
      "findfont: Generic family 'sans-serif' not found because none of the following families were found: Arial\n",
      "findfont: Generic family 'sans-serif' not found because none of the following families were found: Arial\n",
      "findfont: Generic family 'sans-serif' not found because none of the following families were found: Arial\n",
      "findfont: Generic family 'sans-serif' not found because none of the following families were found: Arial\n",
      "findfont: Generic family 'sans-serif' not found because none of the following families were found: Arial\n",
      "findfont: Generic family 'sans-serif' not found because none of the following families were found: Arial\n",
      "findfont: Generic family 'sans-serif' not found because none of the following families were found: Arial\n",
      "findfont: Generic family 'sans-serif' not found because none of the following families were found: Arial\n",
      "findfont: Generic family 'sans-serif' not found because none of the following families were found: Arial\n",
      "findfont: Generic family 'sans-serif' not found because none of the following families were found: Arial\n",
      "findfont: Generic family 'sans-serif' not found because none of the following families were found: Arial\n",
      "findfont: Generic family 'sans-serif' not found because none of the following families were found: Arial\n",
      "findfont: Generic family 'sans-serif' not found because none of the following families were found: Arial\n",
      "findfont: Generic family 'sans-serif' not found because none of the following families were found: Arial\n",
      "findfont: Generic family 'sans-serif' not found because none of the following families were found: Arial\n",
      "findfont: Generic family 'sans-serif' not found because none of the following families were found: Arial\n",
      "findfont: Generic family 'sans-serif' not found because none of the following families were found: Arial\n",
      "findfont: Generic family 'sans-serif' not found because none of the following families were found: Arial\n",
      "findfont: Generic family 'sans-serif' not found because none of the following families were found: Arial\n",
      "findfont: Generic family 'sans-serif' not found because none of the following families were found: Arial\n",
      "findfont: Generic family 'sans-serif' not found because none of the following families were found: Arial\n",
      "findfont: Generic family 'sans-serif' not found because none of the following families were found: Arial\n",
      "findfont: Generic family 'sans-serif' not found because none of the following families were found: Arial\n",
      "findfont: Generic family 'sans-serif' not found because none of the following families were found: Arial\n",
      "findfont: Generic family 'sans-serif' not found because none of the following families were found: Arial\n",
      "findfont: Generic family 'sans-serif' not found because none of the following families were found: Arial\n",
      "findfont: Generic family 'sans-serif' not found because none of the following families were found: Arial\n",
      "findfont: Generic family 'sans-serif' not found because none of the following families were found: Arial\n",
      "findfont: Generic family 'sans-serif' not found because none of the following families were found: Arial\n",
      "findfont: Generic family 'sans-serif' not found because none of the following families were found: Arial\n",
      "findfont: Generic family 'sans-serif' not found because none of the following families were found: Arial\n",
      "findfont: Generic family 'sans-serif' not found because none of the following families were found: Arial\n",
      "findfont: Generic family 'sans-serif' not found because none of the following families were found: Arial\n",
      "findfont: Generic family 'sans-serif' not found because none of the following families were found: Arial\n",
      "findfont: Generic family 'sans-serif' not found because none of the following families were found: Arial\n",
      "findfont: Generic family 'sans-serif' not found because none of the following families were found: Arial\n",
      "findfont: Generic family 'sans-serif' not found because none of the following families were found: Arial\n",
      "findfont: Generic family 'sans-serif' not found because none of the following families were found: Arial\n",
      "findfont: Generic family 'sans-serif' not found because none of the following families were found: Arial\n",
      "findfont: Generic family 'sans-serif' not found because none of the following families were found: Arial\n",
      "findfont: Generic family 'sans-serif' not found because none of the following families were found: Arial\n"
     ]
    },
    {
     "data": {
      "image/png": "[encoded data removed]",
      "text/plain": [
       "<Figure size 1600x800 with 3 Axes>"
      ]
     },
     "metadata": {},
     "output_type": "display_data"
    }
   ],
   "source": [
    "_ = plot_predicted_components(comps, \"date\", plot_components=['prediction', 'trend', 'regression'])"
   ]
  },
  {
   "cell_type": "code",
   "execution_count": 35,
   "id": "0eefb525-6ec0-4e80-95da-c4bcef98902f",
   "metadata": {},
   "outputs": [
    {
     "data": {
      "text/plain": [
       "dict_keys(['l', 'b', 'lev_sm', 'slp_sm', 'obs_sigma', 'nu', 'lt_sum', 'gt_sum', 'gb', 'gl', 'loglk'])"
      ]
     },
     "execution_count": 35,
     "metadata": {},
     "output_type": "execute_result"
    }
   ],
   "source": [
    "ps = model_list[0].get_posterior_samples(relabel=True, permute=False)\n",
    "ps.keys()"
   ]
  },
  {
   "cell_type": "code",
   "execution_count": 40,
   "id": "5bf23a06-32bf-4310-b4be-6087df00255c",
   "metadata": {},
   "outputs": [
    {
     "data": {
      "image/png": "[encoded data removed]",
      "text/plain": [
       "<Figure size 864x432 with 6 Axes>"
      ]
     },
     "metadata": {
      "needs_background": "light"
     },
     "output_type": "display_data"
    }
   ],
   "source": [
    "az.plot_trace(\n",
    "    ps,\n",
    "    var_names=['obs_sigma', 'gb', 'gl'],\n",
    "    chain_prop={\"color\": ['r', 'b', 'g', 'y']},\n",
    ");"
   ]
  },
  {
   "cell_type": "code",
   "execution_count": null,
   "id": "adfefa41-4e76-4e26-b828-52cc611adb49",
   "metadata": {},
   "outputs": [],
   "source": []
  },
  {
   "cell_type": "code",
   "execution_count": 66,
   "id": "0468e14a-f662-42dd-a6bd-a240b56d6ef8",
   "metadata": {},
   "outputs": [
    {
     "data": {
      "text/html": [
       "<div>\n",
       "<style scoped>\n",
       "    .dataframe tbody tr th:only-of-type {\n",
       "        vertical-align: middle;\n",
       "    }\n",
       "\n",
       "    .dataframe tbody tr th {\n",
       "        vertical-align: top;\n",
       "    }\n",
       "\n",
       "    .dataframe thead th {\n",
       "        text-align: right;\n",
       "    }\n",
       "</style>\n",
       "<table border=\"1\" class=\"dataframe\">\n",
       "  <thead>\n",
       "    <tr style=\"text-align: right;\">\n",
       "      <th></th>\n",
       "      <th>date</th>\n",
       "      <th>DAU</th>\n",
       "      <th>likes</th>\n",
       "      <th>views</th>\n",
       "      <th>ctr</th>\n",
       "      <th>FM</th>\n",
       "      <th>Adv</th>\n",
       "      <th>Fall</th>\n",
       "    </tr>\n",
       "  </thead>\n",
       "  <tbody>\n",
       "    <tr>\n",
       "      <th>0</th>\n",
       "      <td>2025-03-01</td>\n",
       "      <td>878</td>\n",
       "      <td>1560</td>\n",
       "      <td>7603</td>\n",
       "      <td>0.205182</td>\n",
       "      <td>0</td>\n",
       "      <td>0</td>\n",
       "      <td>0</td>\n",
       "    </tr>\n",
       "    <tr>\n",
       "      <th>1</th>\n",
       "      <td>2025-03-02</td>\n",
       "      <td>2238</td>\n",
       "      <td>12816</td>\n",
       "      <td>62770</td>\n",
       "      <td>0.204174</td>\n",
       "      <td>0</td>\n",
       "      <td>0</td>\n",
       "      <td>0</td>\n",
       "    </tr>\n",
       "    <tr>\n",
       "      <th>2</th>\n",
       "      <td>2025-03-03</td>\n",
       "      <td>3105</td>\n",
       "      <td>20958</td>\n",
       "      <td>105526</td>\n",
       "      <td>0.198605</td>\n",
       "      <td>0</td>\n",
       "      <td>0</td>\n",
       "      <td>0</td>\n",
       "    </tr>\n",
       "    <tr>\n",
       "      <th>3</th>\n",
       "      <td>2025-03-04</td>\n",
       "      <td>3721</td>\n",
       "      <td>23800</td>\n",
       "      <td>118996</td>\n",
       "      <td>0.200007</td>\n",
       "      <td>0</td>\n",
       "      <td>0</td>\n",
       "      <td>0</td>\n",
       "    </tr>\n",
       "    <tr>\n",
       "      <th>4</th>\n",
       "      <td>2025-03-05</td>\n",
       "      <td>4617</td>\n",
       "      <td>34504</td>\n",
       "      <td>174454</td>\n",
       "      <td>0.197783</td>\n",
       "      <td>0</td>\n",
       "      <td>0</td>\n",
       "      <td>0</td>\n",
       "    </tr>\n",
       "  </tbody>\n",
       "</table>\n",
       "</div>"
      ],
      "text/plain": [
       "        date   DAU  likes   views       ctr  FM  Adv  Fall\n",
       "0 2025-03-01   878   1560    7603  0.205182   0    0     0\n",
       "1 2025-03-02  2238  12816   62770  0.204174   0    0     0\n",
       "2 2025-03-03  3105  20958  105526  0.198605   0    0     0\n",
       "3 2025-03-04  3721  23800  118996  0.200007   0    0     0\n",
       "4 2025-03-05  4617  34504  174454  0.197783   0    0     0"
      ]
     },
     "execution_count": 66,
     "metadata": {},
     "output_type": "execute_result"
    }
   ],
   "source": [
    "df[\"FM\"] = df[\"date\"].between(pd.to_datetime(\"2025-04-11\"), pd.to_datetime(\"2025-04-17\")).astype(int)\n",
    "df[\"Adv\"] = (df[\"date\"] == \"2025-04-10\").astype(int)\n",
    "df[\"Fall\"] = (df[\"date\"] == \"2025-04-19\").astype(int)\n",
    "df.head()"
   ]
  },
  {
   "cell_type": "code",
   "execution_count": 67,
   "id": "d5dc9e56-249f-4548-8017-081036e2abfa",
   "metadata": {},
   "outputs": [
    {
     "name": "stderr",
     "output_type": "stream",
     "text": [
      "2025-07-10 13:25:01 - orbit - INFO - Optimizing (PyStan) with algorithm: LBFGS.\n"
     ]
    }
   ],
   "source": [
    "dlt = DLT(response_col=\"DAU\", #название колонки с метрикой\n",
    "          date_col=\"date\", #название колонки с датами-временем\n",
    "          seasonality=7, #длина периода сезонности\n",
    "          estimator=\"stan-map\", #алгоритм оценки\n",
    "          regressor_col=[\"FM\", \"Adv\", \"Fall\"],\n",
    "          regression_penalty=\"auto_ridge\",\n",
    "          n_bootstrap_draws=1000) #количество сэмплов бутстрапа для доверительного интервала"
   ]
  },
  {
   "cell_type": "code",
   "execution_count": 68,
   "id": "98d8b4d8-e831-413b-9ccc-79ac370fd420",
   "metadata": {},
   "outputs": [],
   "source": [
    "# dlt = DLT(response_col=\"DAU\", #название колонки с метрикой\n",
    "#           date_col=\"hour_time\", #название колонки с датами-временем\n",
    "#           seasonality=24, #длина периода сезонности \n",
    "#           estimator=\"stan-map\", #алгоритм оценки\n",
    "#           n_bootstrap_draws=1000) #количество сэмплов бутстрапа для доверительного интервала"
   ]
  },
  {
   "cell_type": "code",
   "execution_count": 69,
   "id": "23013713-87ce-4223-a769-76623544a4e6",
   "metadata": {},
   "outputs": [
    {
     "data": {
      "text/plain": [
       "<orbit.forecaster.map.MAPForecaster at 0x7f2c20826f10>"
      ]
     },
     "execution_count": 69,
     "metadata": {},
     "output_type": "execute_result"
    }
   ],
   "source": [
    "dlt.fit(df) #тут мы указываем данные, на которых строится модель"
   ]
  },
  {
   "cell_type": "code",
   "execution_count": 70,
   "id": "ec425856-e8fa-4921-9638-f16f02f4f063",
   "metadata": {},
   "outputs": [
    {
     "data": {
      "text/html": [
       "<div>\n",
       "<style scoped>\n",
       "    .dataframe tbody tr th:only-of-type {\n",
       "        vertical-align: middle;\n",
       "    }\n",
       "\n",
       "    .dataframe tbody tr th {\n",
       "        vertical-align: top;\n",
       "    }\n",
       "\n",
       "    .dataframe thead th {\n",
       "        text-align: right;\n",
       "    }\n",
       "</style>\n",
       "<table border=\"1\" class=\"dataframe\">\n",
       "  <thead>\n",
       "    <tr style=\"text-align: right;\">\n",
       "      <th></th>\n",
       "      <th>date</th>\n",
       "      <th>FM</th>\n",
       "      <th>Adv</th>\n",
       "      <th>Fall</th>\n",
       "    </tr>\n",
       "  </thead>\n",
       "  <tbody>\n",
       "    <tr>\n",
       "      <th>0</th>\n",
       "      <td>2025-07-11</td>\n",
       "      <td>0</td>\n",
       "      <td>0</td>\n",
       "      <td>0</td>\n",
       "    </tr>\n",
       "    <tr>\n",
       "      <th>1</th>\n",
       "      <td>2025-07-12</td>\n",
       "      <td>0</td>\n",
       "      <td>0</td>\n",
       "      <td>0</td>\n",
       "    </tr>\n",
       "    <tr>\n",
       "      <th>2</th>\n",
       "      <td>2025-07-13</td>\n",
       "      <td>0</td>\n",
       "      <td>0</td>\n",
       "      <td>0</td>\n",
       "    </tr>\n",
       "    <tr>\n",
       "      <th>3</th>\n",
       "      <td>2025-07-14</td>\n",
       "      <td>0</td>\n",
       "      <td>0</td>\n",
       "      <td>0</td>\n",
       "    </tr>\n",
       "    <tr>\n",
       "      <th>4</th>\n",
       "      <td>2025-07-15</td>\n",
       "      <td>0</td>\n",
       "      <td>0</td>\n",
       "      <td>0</td>\n",
       "    </tr>\n",
       "  </tbody>\n",
       "</table>\n",
       "</div>"
      ],
      "text/plain": [
       "        date  FM  Adv  Fall\n",
       "0 2025-07-11   0    0     0\n",
       "1 2025-07-12   0    0     0\n",
       "2 2025-07-13   0    0     0\n",
       "3 2025-07-14   0    0     0\n",
       "4 2025-07-15   0    0     0"
      ]
     },
     "execution_count": 70,
     "metadata": {},
     "output_type": "execute_result"
    }
   ],
   "source": [
    "future_df = dlt.make_future_df(periods=14)\n",
    "future_df[\"FM\"] = future_df[\"date\"].between(pd.to_datetime(\"2025-04-11\"), pd.to_datetime(\"2025-04-17\")).astype(int)\n",
    "future_df[\"Adv\"] = (future_df[\"date\"] == \"2025-04-10\").astype(int)\n",
    "future_df[\"Fall\"] = (future_df[\"date\"] == \"2025-04-19\").astype(int)\n",
    "future_df.head()"
   ]
  },
  {
   "cell_type": "code",
   "execution_count": 71,
   "id": "581de739-dd05-48b5-a96a-54b582478600",
   "metadata": {},
   "outputs": [
    {
     "data": {
      "text/html": [
       "<div>\n",
       "<style scoped>\n",
       "    .dataframe tbody tr th:only-of-type {\n",
       "        vertical-align: middle;\n",
       "    }\n",
       "\n",
       "    .dataframe tbody tr th {\n",
       "        vertical-align: top;\n",
       "    }\n",
       "\n",
       "    .dataframe thead th {\n",
       "        text-align: right;\n",
       "    }\n",
       "</style>\n",
       "<table border=\"1\" class=\"dataframe\">\n",
       "  <thead>\n",
       "    <tr style=\"text-align: right;\">\n",
       "      <th></th>\n",
       "      <th>date</th>\n",
       "      <th>prediction_5</th>\n",
       "      <th>prediction</th>\n",
       "      <th>prediction_95</th>\n",
       "    </tr>\n",
       "  </thead>\n",
       "  <tbody>\n",
       "    <tr>\n",
       "      <th>0</th>\n",
       "      <td>2025-07-11</td>\n",
       "      <td>11758.887108</td>\n",
       "      <td>18282.521102</td>\n",
       "      <td>25179.881825</td>\n",
       "    </tr>\n",
       "    <tr>\n",
       "      <th>1</th>\n",
       "      <td>2025-07-12</td>\n",
       "      <td>11654.151102</td>\n",
       "      <td>18038.048009</td>\n",
       "      <td>25001.064364</td>\n",
       "    </tr>\n",
       "    <tr>\n",
       "      <th>2</th>\n",
       "      <td>2025-07-13</td>\n",
       "      <td>12154.526216</td>\n",
       "      <td>18050.186295</td>\n",
       "      <td>25096.968558</td>\n",
       "    </tr>\n",
       "    <tr>\n",
       "      <th>3</th>\n",
       "      <td>2025-07-14</td>\n",
       "      <td>12172.104265</td>\n",
       "      <td>18587.973684</td>\n",
       "      <td>25486.619246</td>\n",
       "    </tr>\n",
       "    <tr>\n",
       "      <th>4</th>\n",
       "      <td>2025-07-15</td>\n",
       "      <td>11739.709121</td>\n",
       "      <td>18262.000357</td>\n",
       "      <td>25319.406480</td>\n",
       "    </tr>\n",
       "  </tbody>\n",
       "</table>\n",
       "</div>"
      ],
      "text/plain": [
       "        date  prediction_5    prediction  prediction_95\n",
       "0 2025-07-11  11758.887108  18282.521102   25179.881825\n",
       "1 2025-07-12  11654.151102  18038.048009   25001.064364\n",
       "2 2025-07-13  12154.526216  18050.186295   25096.968558\n",
       "3 2025-07-14  12172.104265  18587.973684   25486.619246\n",
       "4 2025-07-15  11739.709121  18262.000357   25319.406480"
      ]
     },
     "execution_count": 71,
     "metadata": {},
     "output_type": "execute_result"
    }
   ],
   "source": [
    "predicted_df = dlt.predict(df=future_df)\n",
    "predicted_df.head()"
   ]
  },
  {
   "cell_type": "code",
   "execution_count": 72,
   "id": "df201ada-fbe9-4a76-a315-74ed450d73fd",
   "metadata": {},
   "outputs": [
    {
     "name": "stderr",
     "output_type": "stream",
     "text": [
      "findfont: Generic family 'sans-serif' not found because none of the following families were found: Arial\n",
      "findfont: Generic family 'sans-serif' not found because none of the following families were found: Arial\n",
      "findfont: Generic family 'sans-serif' not found because none of the following families were found: Arial\n",
      "findfont: Generic family 'sans-serif' not found because none of the following families were found: Arial\n",
      "findfont: Generic family 'sans-serif' not found because none of the following families were found: Arial\n",
      "findfont: Generic family 'sans-serif' not found because none of the following families were found: Arial\n",
      "findfont: Generic family 'sans-serif' not found because none of the following families were found: Arial\n",
      "findfont: Generic family 'sans-serif' not found because none of the following families were found: Arial\n",
      "findfont: Generic family 'sans-serif' not found because none of the following families were found: Arial\n",
      "findfont: Generic family 'sans-serif' not found because none of the following families were found: Arial\n",
      "findfont: Generic family 'sans-serif' not found because none of the following families were found: Arial\n",
      "findfont: Generic family 'sans-serif' not found because none of the following families were found: Arial\n",
      "findfont: Generic family 'sans-serif' not found because none of the following families were found: Arial\n",
      "findfont: Generic family 'sans-serif' not found because none of the following families were found: Arial\n",
      "findfont: Generic family 'sans-serif' not found because none of the following families were found: Arial\n",
      "findfont: Generic family 'sans-serif' not found because none of the following families were found: Arial\n",
      "findfont: Generic family 'sans-serif' not found because none of the following families were found: Arial\n",
      "findfont: Generic family 'sans-serif' not found because none of the following families were found: Arial\n",
      "findfont: Generic family 'sans-serif' not found because none of the following families were found: Arial\n",
      "findfont: Generic family 'sans-serif' not found because none of the following families were found: Arial\n",
      "findfont: Generic family 'sans-serif' not found because none of the following families were found: Arial\n",
      "findfont: Generic family 'sans-serif' not found because none of the following families were found: Arial\n",
      "findfont: Generic family 'sans-serif' not found because none of the following families were found: Arial\n",
      "findfont: Generic family 'sans-serif' not found because none of the following families were found: Arial\n",
      "findfont: Generic family 'sans-serif' not found because none of the following families were found: Arial\n",
      "findfont: Generic family 'sans-serif' not found because none of the following families were found: Arial\n",
      "findfont: Generic family 'sans-serif' not found because none of the following families were found: Arial\n",
      "findfont: Generic family 'sans-serif' not found because none of the following families were found: Arial\n",
      "findfont: Generic family 'sans-serif' not found because none of the following families were found: Arial\n",
      "findfont: Generic family 'sans-serif' not found because none of the following families were found: Arial\n",
      "findfont: Generic family 'sans-serif' not found because none of the following families were found: Arial\n",
      "findfont: Generic family 'sans-serif' not found because none of the following families were found: Arial\n",
      "findfont: Generic family 'sans-serif' not found because none of the following families were found: Arial\n",
      "findfont: Generic family 'sans-serif' not found because none of the following families were found: Arial\n",
      "findfont: Generic family 'sans-serif' not found because none of the following families were found: Arial\n",
      "findfont: Generic family 'sans-serif' not found because none of the following families were found: Arial\n",
      "findfont: Generic family 'sans-serif' not found because none of the following families were found: Arial\n",
      "findfont: Generic family 'sans-serif' not found because none of the following families were found: Arial\n",
      "findfont: Generic family 'sans-serif' not found because none of the following families were found: Arial\n",
      "findfont: Generic family 'sans-serif' not found because none of the following families were found: Arial\n",
      "findfont: Generic family 'sans-serif' not found because none of the following families were found: Arial\n",
      "findfont: Generic family 'sans-serif' not found because none of the following families were found: Arial\n",
      "findfont: Generic family 'sans-serif' not found because none of the following families were found: Arial\n",
      "findfont: Generic family 'sans-serif' not found because none of the following families were found: Arial\n",
      "findfont: Generic family 'sans-serif' not found because none of the following families were found: Arial\n",
      "findfont: Generic family 'sans-serif' not found because none of the following families were found: Arial\n",
      "findfont: Generic family 'sans-serif' not found because none of the following families were found: Arial\n",
      "findfont: Generic family 'sans-serif' not found because none of the following families were found: Arial\n",
      "findfont: Generic family 'sans-serif' not found because none of the following families were found: Arial\n",
      "findfont: Generic family 'sans-serif' not found because none of the following families were found: Arial\n",
      "findfont: Generic family 'sans-serif' not found because none of the following families were found: Arial\n",
      "findfont: Generic family 'sans-serif' not found because none of the following families were found: Arial\n",
      "findfont: Generic family 'sans-serif' not found because none of the following families were found: Arial\n",
      "findfont: Generic family 'sans-serif' not found because none of the following families were found: Arial\n",
      "findfont: Generic family 'sans-serif' not found because none of the following families were found: Arial\n",
      "findfont: Generic family 'sans-serif' not found because none of the following families were found: Arial\n",
      "findfont: Generic family 'sans-serif' not found because none of the following families were found: Arial\n",
      "findfont: Generic family 'sans-serif' not found because none of the following families were found: Arial\n",
      "findfont: Generic family 'sans-serif' not found because none of the following families were found: Arial\n",
      "findfont: Generic family 'sans-serif' not found because none of the following families were found: Arial\n",
      "findfont: Generic family 'sans-serif' not found because none of the following families were found: Arial\n",
      "findfont: Generic family 'sans-serif' not found because none of the following families were found: Arial\n",
      "findfont: Generic family 'sans-serif' not found because none of the following families were found: Arial\n",
      "findfont: Generic family 'sans-serif' not found because none of the following families were found: Arial\n",
      "findfont: Generic family 'sans-serif' not found because none of the following families were found: Arial\n",
      "findfont: Generic family 'sans-serif' not found because none of the following families were found: Arial\n",
      "findfont: Generic family 'sans-serif' not found because none of the following families were found: Arial\n",
      "findfont: Generic family 'sans-serif' not found because none of the following families were found: Arial\n",
      "findfont: Generic family 'sans-serif' not found because none of the following families were found: Arial\n",
      "findfont: Generic family 'sans-serif' not found because none of the following families were found: Arial\n",
      "findfont: Generic family 'sans-serif' not found because none of the following families were found: Arial\n",
      "findfont: Generic family 'sans-serif' not found because none of the following families were found: Arial\n",
      "findfont: Generic family 'sans-serif' not found because none of the following families were found: Arial\n",
      "findfont: Generic family 'sans-serif' not found because none of the following families were found: Arial\n",
      "findfont: Generic family 'sans-serif' not found because none of the following families were found: Arial\n",
      "findfont: Generic family 'sans-serif' not found because none of the following families were found: Arial\n",
      "findfont: Generic family 'sans-serif' not found because none of the following families were found: Arial\n"
     ]
    },
    {
     "data": {
      "image/png": "[encoded data removed]",
      "text/plain": [
       "<Figure size 1600x800 with 1 Axes>"
      ]
     },
     "metadata": {},
     "output_type": "display_data"
    }
   ],
   "source": [
    "_ = plot_predicted_data(df, predicted_df, \"date\", 'DAU', title='Prediction with DLT')"
   ]
  },
  {
   "cell_type": "code",
   "execution_count": 75,
   "id": "c68c0a27-e13b-4520-991c-b67da6592938",
   "metadata": {},
   "outputs": [
    {
     "name": "stderr",
     "output_type": "stream",
     "text": [
      "findfont: Generic family 'sans-serif' not found because none of the following families were found: Arial\n",
      "findfont: Generic family 'sans-serif' not found because none of the following families were found: Arial\n",
      "findfont: Generic family 'sans-serif' not found because none of the following families were found: Arial\n",
      "findfont: Generic family 'sans-serif' not found because none of the following families were found: Arial\n",
      "findfont: Generic family 'sans-serif' not found because none of the following families were found: Arial\n",
      "findfont: Generic family 'sans-serif' not found because none of the following families were found: Arial\n",
      "findfont: Generic family 'sans-serif' not found because none of the following families were found: Arial\n",
      "findfont: Generic family 'sans-serif' not found because none of the following families were found: Arial\n",
      "findfont: Generic family 'sans-serif' not found because none of the following families were found: Arial\n",
      "findfont: Generic family 'sans-serif' not found because none of the following families were found: Arial\n",
      "findfont: Generic family 'sans-serif' not found because none of the following families were found: Arial\n",
      "findfont: Generic family 'sans-serif' not found because none of the following families were found: Arial\n",
      "findfont: Generic family 'sans-serif' not found because none of the following families were found: Arial\n",
      "findfont: Generic family 'sans-serif' not found because none of the following families were found: Arial\n",
      "findfont: Generic family 'sans-serif' not found because none of the following families were found: Arial\n",
      "findfont: Generic family 'sans-serif' not found because none of the following families were found: Arial\n",
      "findfont: Generic family 'sans-serif' not found because none of the following families were found: Arial\n",
      "findfont: Generic family 'sans-serif' not found because none of the following families were found: Arial\n",
      "findfont: Generic family 'sans-serif' not found because none of the following families were found: Arial\n",
      "findfont: Generic family 'sans-serif' not found because none of the following families were found: Arial\n",
      "findfont: Generic family 'sans-serif' not found because none of the following families were found: Arial\n",
      "findfont: Generic family 'sans-serif' not found because none of the following families were found: Arial\n",
      "findfont: Generic family 'sans-serif' not found because none of the following families were found: Arial\n",
      "findfont: Generic family 'sans-serif' not found because none of the following families were found: Arial\n",
      "findfont: Generic family 'sans-serif' not found because none of the following families were found: Arial\n",
      "findfont: Generic family 'sans-serif' not found because none of the following families were found: Arial\n",
      "findfont: Generic family 'sans-serif' not found because none of the following families were found: Arial\n",
      "findfont: Generic family 'sans-serif' not found because none of the following families were found: Arial\n",
      "findfont: Generic family 'sans-serif' not found because none of the following families were found: Arial\n",
      "findfont: Generic family 'sans-serif' not found because none of the following families were found: Arial\n",
      "findfont: Generic family 'sans-serif' not found because none of the following families were found: Arial\n",
      "findfont: Generic family 'sans-serif' not found because none of the following families were found: Arial\n",
      "findfont: Generic family 'sans-serif' not found because none of the following families were found: Arial\n",
      "findfont: Generic family 'sans-serif' not found because none of the following families were found: Arial\n",
      "findfont: Generic family 'sans-serif' not found because none of the following families were found: Arial\n",
      "findfont: Generic family 'sans-serif' not found because none of the following families were found: Arial\n",
      "findfont: Generic family 'sans-serif' not found because none of the following families were found: Arial\n",
      "findfont: Generic family 'sans-serif' not found because none of the following families were found: Arial\n",
      "findfont: Generic family 'sans-serif' not found because none of the following families were found: Arial\n",
      "findfont: Generic family 'sans-serif' not found because none of the following families were found: Arial\n",
      "findfont: Generic family 'sans-serif' not found because none of the following families were found: Arial\n",
      "findfont: Generic family 'sans-serif' not found because none of the following families were found: Arial\n",
      "findfont: Generic family 'sans-serif' not found because none of the following families were found: Arial\n",
      "findfont: Generic family 'sans-serif' not found because none of the following families were found: Arial\n",
      "findfont: Generic family 'sans-serif' not found because none of the following families were found: Arial\n",
      "findfont: Generic family 'sans-serif' not found because none of the following families were found: Arial\n",
      "findfont: Generic family 'sans-serif' not found because none of the following families were found: Arial\n",
      "findfont: Generic family 'sans-serif' not found because none of the following families were found: Arial\n",
      "findfont: Generic family 'sans-serif' not found because none of the following families were found: Arial\n",
      "findfont: Generic family 'sans-serif' not found because none of the following families were found: Arial\n",
      "findfont: Generic family 'sans-serif' not found because none of the following families were found: Arial\n",
      "findfont: Generic family 'sans-serif' not found because none of the following families were found: Arial\n",
      "findfont: Generic family 'sans-serif' not found because none of the following families were found: Arial\n",
      "findfont: Generic family 'sans-serif' not found because none of the following families were found: Arial\n",
      "findfont: Generic family 'sans-serif' not found because none of the following families were found: Arial\n",
      "findfont: Generic family 'sans-serif' not found because none of the following families were found: Arial\n",
      "findfont: Generic family 'sans-serif' not found because none of the following families were found: Arial\n",
      "findfont: Generic family 'sans-serif' not found because none of the following families were found: Arial\n",
      "findfont: Generic family 'sans-serif' not found because none of the following families were found: Arial\n",
      "findfont: Generic family 'sans-serif' not found because none of the following families were found: Arial\n",
      "findfont: Generic family 'sans-serif' not found because none of the following families were found: Arial\n",
      "findfont: Generic family 'sans-serif' not found because none of the following families were found: Arial\n",
      "findfont: Generic family 'sans-serif' not found because none of the following families were found: Arial\n"
     ]
    },
    {
     "data": {
      "image/png": "[encoded data removed]",
      "text/plain": [
       "<Figure size 1600x800 with 3 Axes>"
      ]
     },
     "metadata": {},
     "output_type": "display_data"
    }
   ],
   "source": [
    " _ = plot_predicted_components(predicted_df, \"date\", plot_components=['prediction', 'trend', 'seasonality'])"
   ]
  },
  {
   "cell_type": "code",
   "execution_count": 76,
   "id": "500dd152-ee50-4417-a00b-02b8168eb8a7",
   "metadata": {},
   "outputs": [],
   "source": [
    "from orbit.diagnostics.backtest import BackTester #основной класс для бэктестинга\n",
    "\n",
    "BT_exp = BackTester(\n",
    "    model = dlt, #наша моделька\n",
    "    df = df, #датафрейм для обучения\n",
    "    min_train_len = 30, #самый маленький кусочек данных, с которого начинается обучение\n",
    "    incremental_len = 1 , #на сколько происходит прирост тренировочных данных\n",
    "    forecast_len = 14, #горизонт прогнозирования\n",
    "    window_type = 'expanding' #тип окошка \n",
    "    )"
   ]
  },
  {
   "cell_type": "code",
   "execution_count": null,
   "id": "b5024c0c-feee-4568-9330-1912589c9e1b",
   "metadata": {},
   "outputs": [],
   "source": [
    "bt_exp.fit_predict() #обучаем\n",
    "bt_exp.score() #выводим метрики"
   ]
  },
  {
   "cell_type": "code",
   "execution_count": null,
   "id": "f70f5348-8382-4cf0-9dce-af0ab5a2b08e",
   "metadata": {},
   "outputs": [],
   "source": [
    "from orbit.utils.params_tuning import grid_search_orbit #для подбора оптимальных параметров\n",
    "\n",
    "grid_search_orbit(param_grid, #наши параметр и значения, которые мы у этих параметров тестируем\n",
    "                  model=dlt,\n",
    "                  df=df,\n",
    "                  eval_method, #метод проверки модели - бэктестинг или BIC\n",
    "                  min_train_len=30,\n",
    "                  incremental_len=1,\n",
    "                  forecast_len=14,\n",
    "                  metrics=None, #какие метрики качества модели мы смотрим\n",
    "                  criteria='min', #ищем минимальное или максимальное значение показателя?\n",
    "                  verbose=True) #печатать или не печатать промежуточные результаты"
   ]
  },
  {
   "cell_type": "code",
   "execution_count": null,
   "id": "80750be9-d8f0-4535-b37a-03fc14ac4697",
   "metadata": {},
   "outputs": [],
   "source": [
    " best_params"
   ]
  }
 ],
 "metadata": {
  "kernelspec": {
   "display_name": "Python 3 (ipykernel)",
   "language": "python",
   "name": "python3"
  },
  "language_info": {
   "codemirror_mode": {
    "name": "ipython",
    "version": 3
   },
   "file_extension": ".py",
   "mimetype": "text/x-python",
   "name": "python",
   "nbconvert_exporter": "python",
   "pygments_lexer": "ipython3",
   "version": "3.8.10"
  }
 },
 "nbformat": 4,
 "nbformat_minor": 5
}
